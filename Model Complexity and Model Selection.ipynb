{
 "cells": [
  {
   "cell_type": "markdown",
   "metadata": {},
   "source": [
    "## Section A. Model Complexity and Model Selection"
   ]
  },
  {
   "cell_type": "markdown",
   "metadata": {},
   "source": [
    "### Question 1"
   ]
  },
  {
   "cell_type": "markdown",
   "metadata": {},
   "source": [
    "1. Implement the KNN regressor function:\n",
    "knn(train.data, train.label, test.data, K=3)\n",
    "2\n",
    "which takes the training data and their labels (continuous values), the test\n",
    "set, and the size of the neighborhood (K). It should return the regressed\n",
    "values for the test data points. Note that, you need to use a distance\n",
    "function to choose the neighbors. The distance function used to measure\n",
    "the distance between a pair of data points is Manhattan distance function."
   ]
  },
  {
   "cell_type": "code",
   "execution_count": 1,
   "metadata": {},
   "outputs": [],
   "source": [
    "# KNN function\n",
    "knn_1 <- function(train.data, train.label, test.data, K=3){\n",
    "    ## count number of train samples\n",
    "    train.len <- nrow(train.data)\n",
    "    \n",
    "    ## count number of test samples\n",
    "    test.len <- nrow(test.data)\n",
    "    ## calculate distances between samples\n",
    "    dist <- as.matrix(dist(rbind(test.data, train.data), method= 'manhattan'))[1:test.len, (test.len+1):(test.len+train.len)]\n",
    "#     print(dist)\n",
    "    prediction_df = c()\n",
    "    \n",
    "    ## for each test sample...\n",
    "    for (i in 1:test.len){\n",
    "        ### ...find its K nearest neighbours from training sampels...\n",
    "        nn <- as.data.frame(sort(dist[i,], index.return = TRUE))[1:K,2]\n",
    "        average = sum(train.label[nn])/K\n",
    "        prediction_df[i] <- average\n",
    "    }\n",
    "    \n",
    "    ## return the class labels as output\n",
    "    return (prediction_df)\n",
    "}"
   ]
  },
  {
   "cell_type": "markdown",
   "metadata": {},
   "source": [
    "2. Plot the training and the testing errors versus 1/K for K=1,.., 30 in one plot,\n",
    "using the Task1A_train.csv and Task1A_test.csv datasets provided for\n",
    "this assignment. Save the plot in your Jupyter Notebook file for Question 1.\n",
    "Report your chosen error function in your Jupyter Notebook file."
   ]
  },
  {
   "cell_type": "markdown",
   "metadata": {},
   "source": [
    "**Reading the dataset and getting it ready for knn-regression**"
   ]
  },
  {
   "cell_type": "code",
   "execution_count": 2,
   "metadata": {},
   "outputs": [],
   "source": [
    "train_A = read.csv('Task1A_train.csv')\n",
    "test_A = read.csv('Task1A_test.csv')"
   ]
  },
  {
   "cell_type": "code",
   "execution_count": 3,
   "metadata": {},
   "outputs": [
    {
     "data": {
      "text/html": [
       "<table>\n",
       "<thead><tr><th scope=col>x1</th><th scope=col>y</th></tr></thead>\n",
       "<tbody>\n",
       "\t<tr><td>1960.0</td><td>0.71  </td></tr>\n",
       "\t<tr><td>1960.5</td><td>0.85  </td></tr>\n",
       "\t<tr><td>1961.0</td><td>0.61  </td></tr>\n",
       "\t<tr><td>1961.5</td><td>0.92  </td></tr>\n",
       "\t<tr><td>1962.0</td><td>0.72  </td></tr>\n",
       "\t<tr><td>1962.5</td><td>0.92  </td></tr>\n",
       "</tbody>\n",
       "</table>\n"
      ],
      "text/latex": [
       "\\begin{tabular}{r|ll}\n",
       " x1 & y\\\\\n",
       "\\hline\n",
       "\t 1960.0 & 0.71  \\\\\n",
       "\t 1960.5 & 0.85  \\\\\n",
       "\t 1961.0 & 0.61  \\\\\n",
       "\t 1961.5 & 0.92  \\\\\n",
       "\t 1962.0 & 0.72  \\\\\n",
       "\t 1962.5 & 0.92  \\\\\n",
       "\\end{tabular}\n"
      ],
      "text/markdown": [
       "\n",
       "| x1 | y |\n",
       "|---|---|\n",
       "| 1960.0 | 0.71   |\n",
       "| 1960.5 | 0.85   |\n",
       "| 1961.0 | 0.61   |\n",
       "| 1961.5 | 0.92   |\n",
       "| 1962.0 | 0.72   |\n",
       "| 1962.5 | 0.92   |\n",
       "\n"
      ],
      "text/plain": [
       "  x1     y   \n",
       "1 1960.0 0.71\n",
       "2 1960.5 0.85\n",
       "3 1961.0 0.61\n",
       "4 1961.5 0.92\n",
       "5 1962.0 0.72\n",
       "6 1962.5 0.92"
      ]
     },
     "metadata": {},
     "output_type": "display_data"
    },
    {
     "data": {
      "text/html": [
       "<table>\n",
       "<thead><tr><th scope=col>x1</th><th scope=col>y</th></tr></thead>\n",
       "<tbody>\n",
       "\t<tr><td>1960.25</td><td>0.63   </td></tr>\n",
       "\t<tr><td>1960.75</td><td>0.44   </td></tr>\n",
       "\t<tr><td>1961.25</td><td>0.69   </td></tr>\n",
       "\t<tr><td>1961.75</td><td>0.55   </td></tr>\n",
       "\t<tr><td>1962.25</td><td>0.77   </td></tr>\n",
       "\t<tr><td>1962.75</td><td>0.60   </td></tr>\n",
       "</tbody>\n",
       "</table>\n"
      ],
      "text/latex": [
       "\\begin{tabular}{r|ll}\n",
       " x1 & y\\\\\n",
       "\\hline\n",
       "\t 1960.25 & 0.63   \\\\\n",
       "\t 1960.75 & 0.44   \\\\\n",
       "\t 1961.25 & 0.69   \\\\\n",
       "\t 1961.75 & 0.55   \\\\\n",
       "\t 1962.25 & 0.77   \\\\\n",
       "\t 1962.75 & 0.60   \\\\\n",
       "\\end{tabular}\n"
      ],
      "text/markdown": [
       "\n",
       "| x1 | y |\n",
       "|---|---|\n",
       "| 1960.25 | 0.63    |\n",
       "| 1960.75 | 0.44    |\n",
       "| 1961.25 | 0.69    |\n",
       "| 1961.75 | 0.55    |\n",
       "| 1962.25 | 0.77    |\n",
       "| 1962.75 | 0.60    |\n",
       "\n"
      ],
      "text/plain": [
       "  x1      y   \n",
       "1 1960.25 0.63\n",
       "2 1960.75 0.44\n",
       "3 1961.25 0.69\n",
       "4 1961.75 0.55\n",
       "5 1962.25 0.77\n",
       "6 1962.75 0.60"
      ]
     },
     "metadata": {},
     "output_type": "display_data"
    }
   ],
   "source": [
    "head(train_A)\n",
    "head(test_A)"
   ]
  },
  {
   "cell_type": "code",
   "execution_count": 4,
   "metadata": {},
   "outputs": [
    {
     "name": "stdout",
     "output_type": "stream",
     "text": [
      "Train data"
     ]
    },
    {
     "data": {
      "text/html": [
       "<table>\n",
       "<thead><tr><th scope=col>x1</th></tr></thead>\n",
       "<tbody>\n",
       "\t<tr><td>1960.0</td></tr>\n",
       "\t<tr><td>1960.5</td></tr>\n",
       "\t<tr><td>1961.0</td></tr>\n",
       "</tbody>\n",
       "</table>\n"
      ],
      "text/latex": [
       "\\begin{tabular}{r|l}\n",
       " x1\\\\\n",
       "\\hline\n",
       "\t 1960.0\\\\\n",
       "\t 1960.5\\\\\n",
       "\t 1961.0\\\\\n",
       "\\end{tabular}\n"
      ],
      "text/markdown": [
       "\n",
       "| x1 |\n",
       "|---|\n",
       "| 1960.0 |\n",
       "| 1960.5 |\n",
       "| 1961.0 |\n",
       "\n"
      ],
      "text/plain": [
       "  x1    \n",
       "1 1960.0\n",
       "2 1960.5\n",
       "3 1961.0"
      ]
     },
     "metadata": {},
     "output_type": "display_data"
    },
    {
     "name": "stdout",
     "output_type": "stream",
     "text": [
      "Train Label"
     ]
    },
    {
     "data": {
      "text/html": [
       "<ol class=list-inline>\n",
       "\t<li>0.71</li>\n",
       "\t<li>0.85</li>\n",
       "\t<li>0.61</li>\n",
       "</ol>\n"
      ],
      "text/latex": [
       "\\begin{enumerate*}\n",
       "\\item 0.71\n",
       "\\item 0.85\n",
       "\\item 0.61\n",
       "\\end{enumerate*}\n"
      ],
      "text/markdown": [
       "1. 0.71\n",
       "2. 0.85\n",
       "3. 0.61\n",
       "\n",
       "\n"
      ],
      "text/plain": [
       "[1] 0.71 0.85 0.61"
      ]
     },
     "metadata": {},
     "output_type": "display_data"
    },
    {
     "name": "stdout",
     "output_type": "stream",
     "text": [
      "Test data"
     ]
    },
    {
     "data": {
      "text/html": [
       "<table>\n",
       "<thead><tr><th scope=col>x1</th></tr></thead>\n",
       "<tbody>\n",
       "\t<tr><td>1960.25</td></tr>\n",
       "\t<tr><td>1960.75</td></tr>\n",
       "\t<tr><td>1961.25</td></tr>\n",
       "</tbody>\n",
       "</table>\n"
      ],
      "text/latex": [
       "\\begin{tabular}{r|l}\n",
       " x1\\\\\n",
       "\\hline\n",
       "\t 1960.25\\\\\n",
       "\t 1960.75\\\\\n",
       "\t 1961.25\\\\\n",
       "\\end{tabular}\n"
      ],
      "text/markdown": [
       "\n",
       "| x1 |\n",
       "|---|\n",
       "| 1960.25 |\n",
       "| 1960.75 |\n",
       "| 1961.25 |\n",
       "\n"
      ],
      "text/plain": [
       "  x1     \n",
       "1 1960.25\n",
       "2 1960.75\n",
       "3 1961.25"
      ]
     },
     "metadata": {},
     "output_type": "display_data"
    }
   ],
   "source": [
    "#slicing the data for model\n",
    "\n",
    "train_data_A = train_A[1:1]\n",
    "cat(\"Train data\")\n",
    "head(train_data_A,3)\n",
    "cat(\"Train Label\")\n",
    "train_label_A = train_A[,2]\n",
    "head(train_label_A,3)\n",
    "cat(\"Test data\")\n",
    "test_data_A = test_A[1:1]\n",
    "head(test_data_A,3)"
   ]
  },
  {
   "cell_type": "code",
   "execution_count": 5,
   "metadata": {},
   "outputs": [],
   "source": [
    "# KNN function\n",
    "knn_2 <- function(train.data, train.label, test.data, K){\n",
    "    ## count number of train samples\n",
    "    train.len <- nrow(train.data)\n",
    "    \n",
    "    ## count number of test samples\n",
    "    test.len <- nrow(test.data)\n",
    "    ## calculate distances between samples\n",
    "    dist <- as.matrix(dist(rbind(test.data, train.data), method= 'manhattan'))[1:test.len, (test.len+1):(test.len+train.len),drop=FALSE]\n",
    "    prediction_df = c()\n",
    "    \n",
    "    ## for each test sample\n",
    "    for (i in 1:test.len){\n",
    "        ### find its K nearest neighbours from training sampels\n",
    "        nn <- as.data.frame(sort(dist[i,], index.return = TRUE))[1:K,2]\n",
    "        average = sum(train.label[nn])/K\n",
    "        prediction_df[i] <- average\n",
    "    }\n",
    "    \n",
    "    ## return the class labels as output\n",
    "    return (prediction_df)\n",
    "}"
   ]
  },
  {
   "cell_type": "code",
   "execution_count": 6,
   "metadata": {},
   "outputs": [],
   "source": [
    "# library(ggplot2)\n",
    "train_error = c() # vector to save train errors\n",
    "test_error = c() # vector to save test errors\n",
    "k_value = c()\n",
    "for (k in 1:30) {\n",
    "    training_model = knn_2(train_data_A, train_label_A, train_data_A,k) # knn training model \n",
    "    testing_model = knn_2(train_data_A, train_label_A, test_data_A,k)  # knn test model\n",
    "    test_error_k = mean((test_A[,2] - testing_model) ^ 2)\n",
    "    train_error_k = mean(abs(train_A[,2]  - testing_model))\n",
    "    train_error[k] <- train_error_k\n",
    "    test_error[k] <- test_error_k\n",
    "    k_value[k] <- k\n",
    "}"
   ]
  },
  {
   "cell_type": "code",
   "execution_count": 7,
   "metadata": {},
   "outputs": [
    {
     "data": {
      "text/html": [
       "<table>\n",
       "<thead><tr><th scope=col>k_fold</th><th scope=col>train_err</th><th scope=col>test_err</th></tr></thead>\n",
       "<tbody>\n",
       "\t<tr><td>1        </td><td>0.0000000</td><td>1.689724 </td></tr>\n",
       "\t<tr><td>2        </td><td>0.2460714</td><td>2.126671 </td></tr>\n",
       "\t<tr><td>3        </td><td>0.2623016</td><td>1.695130 </td></tr>\n",
       "\t<tr><td>4        </td><td>0.2915476</td><td>1.852862 </td></tr>\n",
       "\t<tr><td>5        </td><td>0.2490952</td><td>1.380205 </td></tr>\n",
       "\t<tr><td>6        </td><td>0.3626984</td><td>1.472957 </td></tr>\n",
       "</tbody>\n",
       "</table>\n"
      ],
      "text/latex": [
       "\\begin{tabular}{r|lll}\n",
       " k\\_fold & train\\_err & test\\_err\\\\\n",
       "\\hline\n",
       "\t 1         & 0.0000000 & 1.689724 \\\\\n",
       "\t 2         & 0.2460714 & 2.126671 \\\\\n",
       "\t 3         & 0.2623016 & 1.695130 \\\\\n",
       "\t 4         & 0.2915476 & 1.852862 \\\\\n",
       "\t 5         & 0.2490952 & 1.380205 \\\\\n",
       "\t 6         & 0.3626984 & 1.472957 \\\\\n",
       "\\end{tabular}\n"
      ],
      "text/markdown": [
       "\n",
       "| k_fold | train_err | test_err |\n",
       "|---|---|---|\n",
       "| 1         | 0.0000000 | 1.689724  |\n",
       "| 2         | 0.2460714 | 2.126671  |\n",
       "| 3         | 0.2623016 | 1.695130  |\n",
       "| 4         | 0.2915476 | 1.852862  |\n",
       "| 5         | 0.2490952 | 1.380205  |\n",
       "| 6         | 0.3626984 | 1.472957  |\n",
       "\n"
      ],
      "text/plain": [
       "  k_fold train_err test_err\n",
       "1 1      0.0000000 1.689724\n",
       "2 2      0.2460714 2.126671\n",
       "3 3      0.2623016 1.695130\n",
       "4 4      0.2915476 1.852862\n",
       "5 5      0.2490952 1.380205\n",
       "6 6      0.3626984 1.472957"
      ]
     },
     "metadata": {},
     "output_type": "display_data"
    }
   ],
   "source": [
    "#data frame to store fold number and train, test errors respectively\n",
    "train_test_error_df = data.frame(k_fold = k_value,train_err = train_error,test_err=test_error)\n",
    "head(train_test_error_df)"
   ]
  },
  {
   "cell_type": "code",
   "execution_count": 8,
   "metadata": {},
   "outputs": [
    {
     "name": "stderr",
     "output_type": "stream",
     "text": [
      "Warning message:\n",
      "\"package 'reshape2' was built under R version 3.6.3\"Warning message:\n",
      "\"package 'ggplot2' was built under R version 3.6.3\""
     ]
    },
    {
     "data": {
      "text/html": [
       "<table>\n",
       "<thead><tr><th scope=col>K</th><th scope=col>error_type</th><th scope=col>error_value</th></tr></thead>\n",
       "<tbody>\n",
       "\t<tr><td>1        </td><td>train_err</td><td>0.0000000</td></tr>\n",
       "\t<tr><td>2        </td><td>train_err</td><td>0.2460714</td></tr>\n",
       "\t<tr><td>3        </td><td>train_err</td><td>0.2623016</td></tr>\n",
       "\t<tr><td>4        </td><td>train_err</td><td>0.2915476</td></tr>\n",
       "\t<tr><td>5        </td><td>train_err</td><td>0.2490952</td></tr>\n",
       "\t<tr><td>6        </td><td>train_err</td><td>0.3626984</td></tr>\n",
       "</tbody>\n",
       "</table>\n"
      ],
      "text/latex": [
       "\\begin{tabular}{r|lll}\n",
       " K & error\\_type & error\\_value\\\\\n",
       "\\hline\n",
       "\t 1           & train\\_err & 0.0000000  \\\\\n",
       "\t 2           & train\\_err & 0.2460714  \\\\\n",
       "\t 3           & train\\_err & 0.2623016  \\\\\n",
       "\t 4           & train\\_err & 0.2915476  \\\\\n",
       "\t 5           & train\\_err & 0.2490952  \\\\\n",
       "\t 6           & train\\_err & 0.3626984  \\\\\n",
       "\\end{tabular}\n"
      ],
      "text/markdown": [
       "\n",
       "| K | error_type | error_value |\n",
       "|---|---|---|\n",
       "| 1         | train_err | 0.0000000 |\n",
       "| 2         | train_err | 0.2460714 |\n",
       "| 3         | train_err | 0.2623016 |\n",
       "| 4         | train_err | 0.2915476 |\n",
       "| 5         | train_err | 0.2490952 |\n",
       "| 6         | train_err | 0.3626984 |\n",
       "\n"
      ],
      "text/plain": [
       "  K error_type error_value\n",
       "1 1 train_err  0.0000000  \n",
       "2 2 train_err  0.2460714  \n",
       "3 3 train_err  0.2623016  \n",
       "4 4 train_err  0.2915476  \n",
       "5 5 train_err  0.2490952  \n",
       "6 6 train_err  0.3626984  "
      ]
     },
     "metadata": {},
     "output_type": "display_data"
    },
    {
     "data": {
      "image/png": "[encoded data removed]",
      "text/plain": [
       "plot without title"
      ]
     },
     "metadata": {},
     "output_type": "display_data"
    }
   ],
   "source": [
    "# install.packages(\"reshape2\")\n",
    "library(reshape2)\n",
    "library(ggplot2)\n",
    "\n",
    "miss.m <- melt(train_test_error_df, id='k_fold') # reshape for visualization\n",
    "names(miss.m) <- c('K', 'error_type', 'error_value')\n",
    "\n",
    "head(miss.m) #peek at melted train_test_error_df \n",
    "\n",
    "# Plotting train and test errors\n",
    "ggplot(data=miss.m, aes(x=1/K, y=error_value, color=error_type)) + geom_line() +\n",
    "       scale_color_discrete(guide = guide_legend(title = NULL)) + theme_minimal() +\n",
    "       ggtitle(\"               Training and Testing Error\")"
   ]
  },
  {
   "cell_type": "markdown",
   "metadata": {},
   "source": [
    "3. Report (in your Jupyter Notebook file) the optimum value for K in terms of\n",
    "the testing error. Discuss the values of K and model complexity\n",
    "corresponding to underfitting and overfitting based on your plot in the\n",
    "previous part. <br>"
   ]
  },
  {
   "cell_type": "markdown",
   "metadata": {},
   "source": [
    "**Testing Error:** <br>\n",
    "* For k = 1 testing error is higher than the training error\n",
    "* For k=2 testing error shows an increase and then dips for incresed values of k. <br>\n",
    "\n",
    "NOTE: Optimum value corresponds to the value of k were our training and testing errors are minimum respectively. <br>\n",
    "The optimum value of k according to the testing error would be **k=9** <br>\n",
    "\n",
    "**Model Complexity for different values of k :** <br>\n",
    "* For k=1 the training error is equal to zero and our testing error is high. For this k-value the model overfits on training data and will lead to higher errors on our testing data.\n",
    "* For k>12 both training and testing errors are on higher side i.e our model is underfitting on training data which leads to higher testing errors, aswell"
   ]
  }
 ],
 "metadata": {
  "kernelspec": {
   "display_name": "R",
   "language": "R",
   "name": "ir"
  },
  "language_info": {
   "codemirror_mode": "r",
   "file_extension": ".r",
   "mimetype": "text/x-r-source",
   "name": "R",
   "pygments_lexer": "r",
   "version": "3.6.1"
  }
 },
 "nbformat": 4,
 "nbformat_minor": 4
}
