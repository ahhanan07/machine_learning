{
 "cells": [
  {
   "cell_type": "markdown",
   "metadata": {},
   "source": [
    "## Section F. Logistic Regression vs. Bayesian Classifier"
   ]
  },
  {
   "cell_type": "markdown",
   "metadata": {},
   "source": [
    "### Question 7 [Discriminative vs Generative Models]"
   ]
  },
  {
   "cell_type": "code",
   "execution_count": 1,
   "metadata": {},
   "outputs": [
    {
     "name": "stderr",
     "output_type": "stream",
     "text": [
      "Warning message:\n",
      "\"package 'reshape2' was built under R version 3.6.3\"Warning message:\n",
      "\"package 'ggplot2' was built under R version 3.6.3\"Warning message:\n",
      "\"package 'mvtnorm' was built under R version 3.6.2\""
     ]
    }
   ],
   "source": [
    "# install.packages('mvtnorm')\n",
    "library(reshape2)\n",
    "library(ggplot2)\n",
    "library(mvtnorm) # generates multivariate Gaussian sampels and calculate the densities"
   ]
  },
  {
   "cell_type": "markdown",
   "metadata": {},
   "source": [
    "1. Load Task1E_train.csv and Task1E_test.csv as well as the Bayesian\n",
    "classifier (BC) and logistic regression (LR) codes from Activities 2 and 3 in\n",
    "Module 3.\n"
   ]
  },
  {
   "cell_type": "code",
   "execution_count": 2,
   "metadata": {},
   "outputs": [
    {
     "data": {
      "text/html": [
       "<table>\n",
       "<thead><tr><th scope=col>x1</th><th scope=col>x2</th><th scope=col>y</th></tr></thead>\n",
       "<tbody>\n",
       "\t<tr><td>-0.4367052</td><td>3.171451  </td><td>-1        </td></tr>\n",
       "\t<tr><td> 5.1048972</td><td>1.227815  </td><td> 1        </td></tr>\n",
       "\t<tr><td> 3.9974518</td><td>1.049502  </td><td> 1        </td></tr>\n",
       "\t<tr><td> 2.5354540</td><td>1.242902  </td><td> 1        </td></tr>\n",
       "\t<tr><td> 4.2624556</td><td>2.551909  </td><td> 1        </td></tr>\n",
       "\t<tr><td> 1.5505866</td><td>2.595164  </td><td>-1        </td></tr>\n",
       "</tbody>\n",
       "</table>\n"
      ],
      "text/latex": [
       "\\begin{tabular}{r|lll}\n",
       " x1 & x2 & y\\\\\n",
       "\\hline\n",
       "\t -0.4367052 & 3.171451   & -1        \\\\\n",
       "\t  5.1048972 & 1.227815   &  1        \\\\\n",
       "\t  3.9974518 & 1.049502   &  1        \\\\\n",
       "\t  2.5354540 & 1.242902   &  1        \\\\\n",
       "\t  4.2624556 & 2.551909   &  1        \\\\\n",
       "\t  1.5505866 & 2.595164   & -1        \\\\\n",
       "\\end{tabular}\n"
      ],
      "text/markdown": [
       "\n",
       "| x1 | x2 | y |\n",
       "|---|---|---|\n",
       "| -0.4367052 | 3.171451   | -1         |\n",
       "|  5.1048972 | 1.227815   |  1         |\n",
       "|  3.9974518 | 1.049502   |  1         |\n",
       "|  2.5354540 | 1.242902   |  1         |\n",
       "|  4.2624556 | 2.551909   |  1         |\n",
       "|  1.5505866 | 2.595164   | -1         |\n",
       "\n"
      ],
      "text/plain": [
       "  x1         x2       y \n",
       "1 -0.4367052 3.171451 -1\n",
       "2  5.1048972 1.227815  1\n",
       "3  3.9974518 1.049502  1\n",
       "4  2.5354540 1.242902  1\n",
       "5  4.2624556 2.551909  1\n",
       "6  1.5505866 2.595164 -1"
      ]
     },
     "metadata": {},
     "output_type": "display_data"
    },
    {
     "data": {
      "text/html": [
       "<table>\n",
       "<thead><tr><th scope=col>x1</th><th scope=col>x2</th><th scope=col>y</th></tr></thead>\n",
       "<tbody>\n",
       "\t<tr><td> 3.4781571 </td><td>-0.51546992</td><td> 1         </td></tr>\n",
       "\t<tr><td> 4.8959781 </td><td> 0.95320554</td><td> 1         </td></tr>\n",
       "\t<tr><td>-0.5783557 </td><td> 5.44553527</td><td>-1         </td></tr>\n",
       "\t<tr><td> 3.8417831 </td><td> 0.65759443</td><td> 1         </td></tr>\n",
       "\t<tr><td> 2.2649154 </td><td> 4.18082840</td><td>-1         </td></tr>\n",
       "\t<tr><td> 3.8550566 </td><td>-0.08328894</td><td> 1         </td></tr>\n",
       "</tbody>\n",
       "</table>\n"
      ],
      "text/latex": [
       "\\begin{tabular}{r|lll}\n",
       " x1 & x2 & y\\\\\n",
       "\\hline\n",
       "\t  3.4781571  & -0.51546992 &  1         \\\\\n",
       "\t  4.8959781  &  0.95320554 &  1         \\\\\n",
       "\t -0.5783557  &  5.44553527 & -1         \\\\\n",
       "\t  3.8417831  &  0.65759443 &  1         \\\\\n",
       "\t  2.2649154  &  4.18082840 & -1         \\\\\n",
       "\t  3.8550566  & -0.08328894 &  1         \\\\\n",
       "\\end{tabular}\n"
      ],
      "text/markdown": [
       "\n",
       "| x1 | x2 | y |\n",
       "|---|---|---|\n",
       "|  3.4781571  | -0.51546992 |  1          |\n",
       "|  4.8959781  |  0.95320554 |  1          |\n",
       "| -0.5783557  |  5.44553527 | -1          |\n",
       "|  3.8417831  |  0.65759443 |  1          |\n",
       "|  2.2649154  |  4.18082840 | -1          |\n",
       "|  3.8550566  | -0.08328894 |  1          |\n",
       "\n"
      ],
      "text/plain": [
       "  x1         x2          y \n",
       "1  3.4781571 -0.51546992  1\n",
       "2  4.8959781  0.95320554  1\n",
       "3 -0.5783557  5.44553527 -1\n",
       "4  3.8417831  0.65759443  1\n",
       "5  2.2649154  4.18082840 -1\n",
       "6  3.8550566 -0.08328894  1"
      ]
     },
     "metadata": {},
     "output_type": "display_data"
    }
   ],
   "source": [
    "train_data = read.csv('Task1E_train.csv')\n",
    "test_data = read.csv('Task1E_test.csv')\n",
    "head(train_data)\n",
    "head(test_data)"
   ]
  },
  {
   "cell_type": "markdown",
   "metadata": {},
   "source": [
    "Now we will be Splitting the training and testing data into Label and its predictors"
   ]
  },
  {
   "cell_type": "code",
   "execution_count": 3,
   "metadata": {},
   "outputs": [],
   "source": [
    "train.data = train_data[1:2]\n",
    "train.label = train_data[3]"
   ]
  },
  {
   "cell_type": "code",
   "execution_count": 4,
   "metadata": {},
   "outputs": [],
   "source": [
    "test.data = test_data[1:2]\n",
    "test.label = test_data[3]"
   ]
  },
  {
   "cell_type": "code",
   "execution_count": 5,
   "metadata": {},
   "outputs": [],
   "source": [
    "c0 <- 1;c1 <- -1"
   ]
  },
  {
   "cell_type": "markdown",
   "metadata": {},
   "source": [
    "## Bayesian Classifier "
   ]
  },
  {
   "cell_type": "markdown",
   "metadata": {},
   "source": [
    "Calculating the Class Probabilities"
   ]
  },
  {
   "cell_type": "code",
   "execution_count": 6,
   "metadata": {},
   "outputs": [],
   "source": [
    "p0.hat <- sum(train.label==c0)/nrow(train.data) # total number of samples in class 0 divided by the total nmber of training data\n",
    "p1.hat <- sum(train.label==c1)/nrow(train.data) # or simply 1 - p1.hat"
   ]
  },
  {
   "cell_type": "markdown",
   "metadata": {},
   "source": [
    "Calculating Class Means"
   ]
  },
  {
   "cell_type": "code",
   "execution_count": 7,
   "metadata": {},
   "outputs": [],
   "source": [
    "mu0.hat <- colMeans(train.data[train.label==c0,])\n",
    "mu1.hat <- colMeans(train.data[train.label==c1,])"
   ]
  },
  {
   "cell_type": "markdown",
   "metadata": {},
   "source": [
    "Calculating the variance matrices"
   ]
  },
  {
   "cell_type": "code",
   "execution_count": 8,
   "metadata": {},
   "outputs": [
    {
     "name": "stdout",
     "output_type": "stream",
     "text": [
      "           x1         x2\n",
      "x1 0.93685812 0.09835919\n",
      "x2 0.09835919 1.01292261\n"
     ]
    }
   ],
   "source": [
    "sigma0.hat <- var(train.data[train.label==c0,])\n",
    "sigma1.hat <- var(train.data[train.label==c1,])\n",
    "\n",
    "# shared covariance matrix:\n",
    "sigma.hat <- p0.hat * sigma0.hat + p1.hat * sigma1.hat \n",
    "print(sigma.hat)"
   ]
  },
  {
   "cell_type": "markdown",
   "metadata": {},
   "source": [
    "Now, we calculate the postoriors based on the estimated parameters in the above steps."
   ]
  },
  {
   "cell_type": "code",
   "execution_count": 9,
   "metadata": {},
   "outputs": [],
   "source": [
    "# calculate posteriors:\n",
    "posterior0 <- p0.hat*dmvnorm(x=train.data, mean=mu0.hat, sigma=sigma.hat)\n",
    "posterior1 <- p1.hat*dmvnorm(x=train.data, mean=mu1.hat, sigma=sigma.hat)"
   ]
  },
  {
   "cell_type": "code",
   "execution_count": 10,
   "metadata": {},
   "outputs": [
    {
     "name": "stdout",
     "output_type": "stream",
     "text": [
      "\n",
      "Training accuracy:\t97.20%\n",
      "Testing accuracy:\t98.00%"
     ]
    }
   ],
   "source": [
    "# calculate predictions:`\n",
    "train.predict <- ifelse(posterior0 > posterior1, c0, c1)\n",
    "test.predict <- ifelse(p0.hat*dmvnorm(x=test.data, mean=mu0.hat, sigma=sigma.hat) > p1.hat*dmvnorm(x=test.data, mean=mu1.hat, sigma=sigma.hat), c0, c1)\n",
    "\n",
    "# calculate accuracy:\n",
    "cat(sprintf('\\nTraining accuracy:\\t%.2f%%', sum(train.label==train.predict)/nrow(train.data)*100))\n",
    "cat(sprintf('\\nTesting accuracy:\\t%.2f%%', sum(test.label==test.predict)/nrow(test.data)*100))"
   ]
  },
  {
   "cell_type": "markdown",
   "metadata": {},
   "source": [
    "## Logistic Regression"
   ]
  },
  {
   "cell_type": "code",
   "execution_count": 11,
   "metadata": {},
   "outputs": [],
   "source": [
    "# auxiliary function that predicts class labels\n",
    "predict <- function(w, X, c0, c1){\n",
    "    sig <- sigmoid(w, X)\n",
    "    return(ifelse(sig>0.5, c1,c0))\n",
    "}\n",
    "    \n",
    "# auxiliary function that calculate a cost function\n",
    "cost <- function (w, X, T, c0){\n",
    "    sig <- sigmoid(w, X)\n",
    "    return(sum(ifelse(T==c0, 1-sig, sig)))\n",
    "}"
   ]
  },
  {
   "cell_type": "markdown",
   "metadata": {},
   "source": [
    "Now we define the Sigmoid Function"
   ]
  },
  {
   "cell_type": "code",
   "execution_count": 12,
   "metadata": {},
   "outputs": [],
   "source": [
    "# Sigmoid function (=p(C1|X))\n",
    "sigmoid <- function(w, x){\n",
    "    return(1.0/(1.0+exp(-w%*%t(cbind(1,x)))))    \n",
    "}"
   ]
  },
  {
   "cell_type": "code",
   "execution_count": 18,
   "metadata": {},
   "outputs": [
    {
     "name": "stdout",
     "output_type": "stream",
     "text": [
      "          [,1]      [,2]     [,3]      [,4]      [,5]      [,6]      [,7]\n",
      "[1,] 0.9519858 0.8929703 0.872105 0.8740102 0.9494622 0.9402772 0.8044169\n",
      "          [,8]      [,9]     [,10]     [,11]     [,12]     [,13]     [,14]\n",
      "[1,] 0.9320146 0.9662144 0.8708175 0.9717172 0.9597414 0.8606624 0.9862236\n",
      "         [,15]     [,16]    [,17]     [,18]     [,19]     [,20]    [,21]\n",
      "[1,] 0.9931702 0.8596905 0.875913 0.9334757 0.9910741 0.9402416 0.786966\n",
      "         [,22]     [,23]     [,24]     [,25]     [,26]     [,27]     [,28]\n",
      "[1,] 0.9243642 0.9006621 0.7510573 0.7846944 0.8329188 0.7541715 0.9354262\n",
      "         [,29]     [,30]     [,31]     [,32]     [,33]     [,34]     [,35]\n",
      "[1,] 0.8922232 0.7824873 0.8588064 0.8574494 0.9141472 0.8751978 0.7646838\n",
      "         [,36]     [,37]     [,38]     [,39]     [,40]     [,41]     [,42]\n",
      "[1,] 0.9354584 0.8008303 0.8328988 0.9724129 0.9957656 0.7470017 0.9004612\n",
      "         [,43]     [,44]     [,45]    [,46]     [,47]     [,48]     [,49]\n",
      "[1,] 0.7858249 0.7844944 0.9737923 0.872607 0.9750536 0.9024699 0.8353522\n",
      "         [,50]     [,51]     [,52]     [,53]     [,54]     [,55]     [,56]\n",
      "[1,] 0.9710607 0.8721051 0.9378338 0.8031487 0.9871445 0.8019884 0.7842016\n",
      "         [,57]     [,58]     [,59]    [,60]     [,61]    [,62]     [,63]\n",
      "[1,] 0.9788108 0.9792151 0.9757596 0.892308 0.9715979 0.815387 0.9460272\n",
      "         [,64]     [,65]     [,66]     [,67]     [,68]     [,69]     [,70]\n",
      "[1,] 0.8700672 0.7798994 0.8743829 0.9213454 0.8626322 0.9278307 0.9680458\n",
      "         [,71]    [,72]     [,73]    [,74]     [,75]     [,76]    [,77]\n",
      "[1,] 0.9181655 0.895473 0.9140578 0.923034 0.9436249 0.8898997 0.970352\n",
      "         [,78]     [,79]     [,80]     [,81]     [,82]     [,83]    [,84]\n",
      "[1,] 0.9007458 0.8979226 0.8349256 0.9265503 0.9697145 0.9745931 0.976336\n",
      "        [,85]     [,86]     [,87]     [,88]     [,89]     [,90]     [,91]\n",
      "[1,] 0.925975 0.9582094 0.9909725 0.9853426 0.9908587 0.9797453 0.9850889\n",
      "         [,92]     [,93]     [,94]     [,95]     [,96]     [,97]     [,98]\n",
      "[1,] 0.9713999 0.8247579 0.6914009 0.8094345 0.9120863 0.9759363 0.7950793\n",
      "         [,99]   [,100]   [,101]    [,102]    [,103]    [,104]    [,105]\n",
      "[1,] 0.9322174 0.872366 0.748135 0.9209647 0.9009083 0.9334626 0.9283354\n",
      "        [,106]    [,107]    [,108]    [,109]    [,110]    [,111]    [,112]\n",
      "[1,] 0.9825263 0.9370254 0.8803597 0.9099596 0.9152885 0.8781136 0.9434294\n",
      "        [,113]    [,114]    [,115]    [,116]    [,117]    [,118]    [,119]\n",
      "[1,] 0.9893102 0.8566152 0.8194155 0.8963052 0.8623102 0.9922132 0.6665096\n",
      "        [,120]    [,121]    [,122]    [,123]    [,124]    [,125]    [,126]\n",
      "[1,] 0.9686979 0.9820761 0.9777079 0.9833487 0.9358988 0.9623045 0.9133376\n",
      "        [,127]    [,128]    [,129]    [,130]    [,131]    [,132]    [,133]\n",
      "[1,] 0.5667712 0.9870366 0.9212817 0.7946696 0.8148253 0.9850161 0.8472472\n",
      "       [,134]    [,135]    [,136]    [,137]    [,138]    [,139]    [,140]\n",
      "[1,] 0.962411 0.8629009 0.9573736 0.9882337 0.8818301 0.9359574 0.9877372\n",
      "        [,141]    [,142]    [,143]    [,144]    [,145]    [,146]    [,147]\n",
      "[1,] 0.8997682 0.8903414 0.9617431 0.9780435 0.8790829 0.9537681 0.9639667\n",
      "        [,148]    [,149]    [,150]    [,151]    [,152]    [,153]    [,154]\n",
      "[1,] 0.6906636 0.7489899 0.7199487 0.9905698 0.9836699 0.9478664 0.8088351\n",
      "        [,155]    [,156]    [,157]    [,158]    [,159]    [,160]   [,161]\n",
      "[1,] 0.7932827 0.8033918 0.7382787 0.9479211 0.9108547 0.8848416 0.822978\n",
      "        [,162]    [,163]   [,164]    [,165]    [,166]    [,167]    [,168]\n",
      "[1,] 0.9669807 0.6722146 0.849978 0.8738041 0.9706246 0.7701444 0.8436004\n",
      "       [,169]   [,170]    [,171]    [,172]    [,173]    [,174]    [,175]\n",
      "[1,] 0.956442 0.740723 0.9663602 0.8456289 0.9758093 0.8070317 0.9646286\n",
      "        [,176]    [,177]    [,178]    [,179]    [,180]    [,181]    [,182]\n",
      "[1,] 0.8597168 0.9754557 0.8419177 0.8091431 0.8260859 0.9746779 0.8552809\n",
      "        [,183]  [,184]    [,185]    [,186]    [,187]    [,188]    [,189]\n",
      "[1,] 0.6947548 0.96409 0.5726161 0.8095264 0.7403661 0.7581211 0.8793316\n",
      "        [,190]    [,191]    [,192]    [,193]    [,194]    [,195]    [,196]\n",
      "[1,] 0.9521309 0.8619802 0.9686472 0.8960899 0.9420189 0.8289967 0.8786096\n",
      "        [,197]    [,198]    [,199]    [,200]    [,201]   [,202]    [,203]\n",
      "[1,] 0.9895715 0.7116581 0.9260202 0.8506014 0.9867331 0.617702 0.8624863\n",
      "        [,204]    [,205]    [,206]    [,207]    [,208]    [,209]    [,210]\n",
      "[1,] 0.7493765 0.9684584 0.7902852 0.9533235 0.8823755 0.9656147 0.9597181\n",
      "        [,211]    [,212]    [,213]    [,214]    [,215]  [,216]    [,217]\n",
      "[1,] 0.8866369 0.8516471 0.7974233 0.8984556 0.9795308 0.85123 0.9930243\n",
      "        [,218]    [,219]    [,220]    [,221]    [,222]    [,223]    [,224]\n",
      "[1,] 0.8056165 0.6449927 0.8796437 0.9576908 0.8369513 0.9762067 0.8008903\n",
      "       [,225]    [,226]    [,227]    [,228]    [,229]    [,230]    [,231]\n",
      "[1,] 0.932524 0.8607235 0.7311352 0.8549037 0.9003169 0.9501396 0.9377898\n",
      "        [,232]    [,233]    [,234]   [,235]    [,236]    [,237]    [,238]\n",
      "[1,] 0.8142963 0.9273556 0.5480816 0.929635 0.8532865 0.9888056 0.9601348\n",
      "        [,239]    [,240]    [,241]    [,242]    [,243]    [,244]    [,245]\n",
      "[1,] 0.9034579 0.9263868 0.9799427 0.8003508 0.9508976 0.9480804 0.8644716\n",
      "        [,246]    [,247]    [,248]    [,249]    [,250]   [,251]    [,252]\n",
      "[1,] 0.8575378 0.9583091 0.8572658 0.8052606 0.9833559 0.992389 0.9973439\n",
      "       [,253]    [,254]    [,255]    [,256]    [,257]    [,258]    [,259]\n",
      "[1,] 0.909435 0.9919486 0.8350287 0.9902916 0.9144098 0.9103296 0.9390421\n",
      "        [,260]   [,261]    [,262]    [,263]    [,264]    [,265]    [,266]\n",
      "[1,] 0.9909559 0.850116 0.8984187 0.8837066 0.8416618 0.9621623 0.9006475\n",
      "        [,267]    [,268]    [,269]    [,270]    [,271]    [,272]   [,273]\n",
      "[1,] 0.9637852 0.8326488 0.8855932 0.9608655 0.9234955 0.9538747 0.950727\n",
      "        [,274]    [,275]    [,276]    [,277]    [,278]    [,279]    [,280]\n",
      "[1,] 0.9756347 0.9616858 0.9466605 0.8376833 0.9182327 0.8954516 0.9328054\n",
      "        [,281]    [,282]    [,283]    [,284]    [,285]   [,286]    [,287]\n",
      "[1,] 0.9345587 0.9867851 0.9132782 0.8694919 0.7437646 0.961185 0.9043996\n",
      "        [,288]    [,289]    [,290]    [,291]    [,292]    [,293]    [,294]\n",
      "[1,] 0.9733436 0.8650768 0.9900891 0.6365519 0.7444813 0.9845272 0.9265788\n",
      "        [,295]    [,296]   [,297]    [,298]    [,299]    [,300]    [,301]\n",
      "[1,] 0.9317393 0.9704934 0.979786 0.7060127 0.9796909 0.9771367 0.8611491\n",
      "        [,302]   [,303]    [,304]   [,305]    [,306]    [,307]   [,308]\n",
      "[1,] 0.9096894 0.969397 0.9682179 0.988302 0.9103686 0.9543932 0.910683\n",
      "        [,309]    [,310]    [,311]    [,312]    [,313]    [,314]    [,315]\n",
      "[1,] 0.8674291 0.8678421 0.8854249 0.8262602 0.9026243 0.9874825 0.8530587\n",
      "        [,316]    [,317]    [,318]    [,319]    [,320]    [,321]    [,322]\n",
      "[1,] 0.8837966 0.7108042 0.9317528 0.9011362 0.8389221 0.9676209 0.9185283\n",
      "        [,323]    [,324]    [,325]    [,326]    [,327]    [,328]    [,329]\n",
      "[1,] 0.9163909 0.9690661 0.9764405 0.9616499 0.8927868 0.9817372 0.9639145\n",
      "        [,330]    [,331]    [,332]    [,333]   [,334]    [,335]    [,336]\n",
      "[1,] 0.8697114 0.9802995 0.9343971 0.9152349 0.868671 0.9226145 0.9896277\n",
      "        [,337]    [,338]    [,339]    [,340]   [,341]    [,342]    [,343]\n",
      "[1,] 0.8244964 0.8790798 0.9268669 0.9372368 0.934227 0.8440569 0.9446163\n",
      "        [,344]    [,345]    [,346]    [,347]    [,348]    [,349]    [,350]\n",
      "[1,] 0.9824248 0.9476887 0.8679771 0.8190317 0.9164074 0.9918217 0.8643067\n",
      "        [,351]   [,352]    [,353]   [,354]    [,355]    [,356]    [,357]\n",
      "[1,] 0.6310132 0.848414 0.8324716 0.587228 0.8985131 0.8366186 0.8454922\n",
      "        [,358]    [,359]    [,360]    [,361]    [,362]    [,363]    [,364]\n",
      "[1,] 0.8707891 0.9902816 0.9769937 0.9330333 0.9617452 0.9425054 0.9733934\n",
      "        [,365]   [,366]    [,367]    [,368]    [,369]    [,370]    [,371]\n",
      "[1,] 0.8756652 0.993908 0.8535856 0.9430815 0.8536228 0.9607616 0.9611465\n",
      "        [,372]    [,373]    [,374]    [,375]    [,376]    [,377]    [,378]\n",
      "[1,] 0.8876795 0.8102636 0.9767205 0.9586819 0.9883929 0.5973077 0.7424177\n",
      "        [,379]    [,380]    [,381]    [,382]   [,383]    [,384]    [,385]\n",
      "[1,] 0.6570039 0.8702545 0.7664059 0.7322499 0.711606 0.8537015 0.7990193\n",
      "        [,386]    [,387]    [,388]    [,389]    [,390]    [,391]    [,392]\n",
      "[1,] 0.9707944 0.7801077 0.9227503 0.9079514 0.9655953 0.8897868 0.9147856\n",
      "        [,393]    [,394]    [,395]    [,396]    [,397]    [,398]    [,399]\n",
      "[1,] 0.7059533 0.8432003 0.8026392 0.7925159 0.9074575 0.9166925 0.9165351\n",
      "        [,400]    [,401]    [,402]    [,403]    [,404]    [,405]    [,406]\n",
      "[1,] 0.9410227 0.9217939 0.8792983 0.9663876 0.9298983 0.8879349 0.9769404\n",
      "        [,407]  [,408]    [,409]    [,410]    [,411]    [,412]    [,413]\n",
      "[1,] 0.9550766 0.93181 0.9505216 0.8461077 0.9712321 0.9632084 0.9445062\n",
      "        [,414]    [,415]    [,416]    [,417]    [,418]    [,419]    [,420]\n",
      "[1,] 0.7981218 0.8918793 0.9317305 0.9777469 0.9534575 0.9741604 0.8168614\n",
      "        [,421]    [,422]   [,423]    [,424]    [,425]    [,426]    [,427]\n",
      "[1,] 0.8741185 0.9709901 0.884334 0.9720104 0.9406152 0.9837606 0.9391131\n",
      "       [,428]    [,429]    [,430]    [,431]    [,432]    [,433]    [,434]\n",
      "[1,] 0.909674 0.9695364 0.9832172 0.9892952 0.9653192 0.8277748 0.7633882\n",
      "        [,435]    [,436]    [,437]    [,438]    [,439]   [,440]    [,441]\n",
      "[1,] 0.8232605 0.9881671 0.8676359 0.9754902 0.8554425 0.643345 0.9205864\n",
      "        [,442]    [,443]    [,444]    [,445]    [,446]    [,447]    [,448]\n",
      "[1,] 0.9145057 0.9876156 0.9584062 0.9668316 0.8503046 0.9757664 0.6957224\n",
      "        [,449]    [,450]    [,451]   [,452]    [,453]    [,454]    [,455]\n",
      "[1,] 0.7117246 0.9768291 0.9823822 0.952646 0.7570235 0.9902251 0.9521757\n",
      "        [,456]    [,457]    [,458]    [,459]    [,460]    [,461]    [,462]\n",
      "[1,] 0.9655876 0.9873308 0.9288051 0.8735625 0.9239871 0.9912974 0.5561057\n",
      "        [,463]    [,464]    [,465]    [,466]    [,467]    [,468]    [,469]\n",
      "[1,] 0.9044842 0.8563934 0.7385699 0.9183442 0.8855014 0.9862056 0.7223853\n",
      "        [,470]    [,471]   [,472]    [,473]    [,474]    [,475]    [,476]\n",
      "[1,] 0.7979612 0.8766099 0.963724 0.8765225 0.9016761 0.9839003 0.7203413\n",
      "        [,477]    [,478]    [,479]    [,480]    [,481]    [,482]    [,483]\n",
      "[1,] 0.6207636 0.9231954 0.9745528 0.9687147 0.8942375 0.6583762 0.8435867\n",
      "        [,484]    [,485]    [,486]    [,487]    [,488]    [,489]    [,490]\n",
      "[1,] 0.9016207 0.7360422 0.7818653 0.9078493 0.7819769 0.9171482 0.8095124\n",
      "        [,491]    [,492]    [,493]   [,494]    [,495]    [,496]    [,497]\n",
      "[1,] 0.7641666 0.7298537 0.9626507 0.921358 0.9719797 0.9832144 0.8818082\n",
      "        [,498]    [,499]    [,500]\n",
      "[1,] 0.9728199 0.8478551 0.7789238\n"
     ]
    }
   ],
   "source": [
    "# Initializations\n",
    "tau.max <- 1000 # maximum number of iterations\n",
    "eta <- 0.01 # learning rate\n",
    "epsilon <- 0.01 # a threshold on the cost (to terminate the process)\n",
    "tau <- 1 # iteration counter\n",
    "terminate <- FALSE\n",
    "\n",
    "## Just a few name/type conversion to make the rest of the code easy to follow\n",
    "X <- as.matrix(train.data) # rename just for conviniance\n",
    "T <- ifelse(train.label==c0,1,-1) # rename just for conviniance\n",
    "#T <- train.label\n",
    "W <- matrix(,nrow=tau.max, ncol=(ncol(X)+1)) # to be used to store the estimated coefficients\n",
    "W[1,] <- runif(ncol(W)) # initial weight (any better idea?)\n",
    "\n",
    "# project data using the sigmoid function (just for convenient)\n",
    "# print(X)\n",
    "Y <- sigmoid(W[1,],X)\n",
    "print(Y)\n",
    "costs <- data.frame('tau'=1:tau.max)  # to be used to trace the cost in each iteration\n",
    "costs[1, 'cost'] <- cost(W[1,],X,T, c0)"
   ]
  },
  {
   "cell_type": "markdown",
   "metadata": {},
   "source": [
    "Now, we use SGD to learn the weight vector. <br> There are two loops. In the outter loop, we will shuffle the samples and then start the inner loop with each shuffle. <br> In the inner loop, we visit the training samples one by one and update the weights."
   ]
  },
  {
   "cell_type": "code",
   "execution_count": 14,
   "metadata": {},
   "outputs": [
    {
     "name": "stdout",
     "output_type": "stream",
     "text": [
      "\n",
      "The  final coefficents are: -0.2681896 2.607925 -6.438941"
     ]
    }
   ],
   "source": [
    "train.len = nrow(train.data)\n",
    "while(!terminate){\n",
    "    # check termination criteria:\n",
    "    terminate <- tau >= tau.max | cost(W[tau,],X,T, c0)<=epsilon\n",
    "    \n",
    "    # shuffle data:\n",
    "    train.index <- sample(1:train.len, train.len, replace = FALSE)\n",
    "    X <- X[train.index,]\n",
    "    T <- T[train.index]\n",
    "    \n",
    "    # for each datapoint:\n",
    "    for (i in 1:train.len){\n",
    "        # check termination criteria:\n",
    "        if (tau >= tau.max | cost(W[tau,],X,T, c0) <=epsilon) {terminate<-TRUE;break}\n",
    "        \n",
    "        Y <- sigmoid(W[tau,],X)\n",
    "            \n",
    "        # Update the weights\n",
    "        W[(tau+1),] <- W[tau,] - eta * (Y[i]-T[i]) * cbind(1, t(X[i,]))\n",
    "        \n",
    "        # record the cost:\n",
    "        costs[(tau+1), 'cost'] <- cost(W[tau,],X,T, c0)\n",
    "        \n",
    "        # update the counter:\n",
    "        tau <- tau + 1\n",
    "        \n",
    "        # decrease learning rate:\n",
    "        eta = eta * 0.999\n",
    "    }\n",
    "}\n",
    "costs <- costs[1:tau, ] # remove the NaN tail of the vector (in case of early stopping)\n",
    "\n",
    "# the  final result is:\n",
    "w <- W[tau,]\n",
    "cat('\\nThe  final coefficents are:',w)"
   ]
  },
  {
   "cell_type": "markdown",
   "metadata": {},
   "source": [
    "2. Using the first 5 data points from the training set, train a BC and a LR model,\n",
    "and compute their training and testing errors. In a “for loop”, increase the\n",
    "size of training set (5 data points at a time), retrain the models and\n",
    "calculate their training and testing errors until all training data points are\n",
    "used. In one figure, plot the training errors of the BC and LR models (with\n",
    "different colors) versus the size of the training set and in the other figure,\n",
    "plot the testing errors of the BC and LR models(with different colors)\n",
    "versus the size of the training set; include two plots in your Jupyter\n",
    "Notebook file for Question 7."
   ]
  },
  {
   "cell_type": "markdown",
   "metadata": {},
   "source": [
    "## Bayseian Classification"
   ]
  },
  {
   "cell_type": "markdown",
   "metadata": {},
   "source": [
    "We will create a sequence of numbers that would increment the data size with 5."
   ]
  },
  {
   "cell_type": "code",
   "execution_count": 15,
   "metadata": {},
   "outputs": [],
   "source": [
    "size = seq(5,nrow(train.data),5)"
   ]
  },
  {
   "cell_type": "code",
   "execution_count": 16,
   "metadata": {},
   "outputs": [],
   "source": [
    "train_error = c()\n",
    "test_error = c()\n",
    "for (i in 1:length(size)){\n",
    "    train_subset = c() #train subset vector\n",
    "    \n",
    "    test_subset = c()\n",
    "    train_label = 0\n",
    "    test_label = 0\n",
    "    train_subset = train.data[1:size[i],]\n",
    "    train_label = train.label[1:size[i],]\n",
    "    test_subset = test.data[1:size[i],]\n",
    "    test_label = test.label[1:size[i],]\n",
    "    \n",
    "    p0.hat <- sum(train_label==c0)/nrow(train_subset) # total number of samples in class 0 divided by the total nmber of training data\n",
    "    p1.hat <- sum(train_label==c1)/nrow(train_subset)\n",
    "    \n",
    "    mu0.hat <- colMeans(train_subset[train_label==c0,])\n",
    "    mu1.hat <- colMeans(train_subset[train_label==c1,])\n",
    "    \n",
    "    sigma0.hat <- var(train_subset[train_label==c0,])\n",
    "    sigma1.hat <- var(train_subset[train_label==c1,])\n",
    "    \n",
    "    sigma.hat <- p0.hat * sigma0.hat + p1.hat * sigma1.hat \n",
    "    \n",
    "    # calculate posteriors:\n",
    "    posterior0 <- p0.hat*dmvnorm(x=train_subset, mean=mu0.hat, sigma=sigma.hat)\n",
    "    posterior1 <- p1.hat*dmvnorm(x=train_subset, mean=mu1.hat, sigma=sigma.hat)\n",
    "    \n",
    "    \n",
    "    train.predict <- ifelse(posterior0 > posterior1, c0, c1)\n",
    "    test.predict <- ifelse(p0.hat*dmvnorm(x=test_subset, mean=mu0.hat, sigma=sigma.hat) > p1.hat*dmvnorm(x=test_subset, mean=mu1.hat, sigma=sigma.hat), 1, -1)\n",
    "    train_error[i]<-sum(train_label!=train.predict)/nrow(train_subset)\n",
    "    test_error[i]<-sum(test_label!=test.predict)/nrow(test_subset)\n",
    "}"
   ]
  },
  {
   "cell_type": "markdown",
   "metadata": {},
   "source": [
    "## Logistic Regression"
   ]
  },
  {
   "cell_type": "markdown",
   "metadata": {},
   "source": [
    "Creating a function that would take data and then train the model by increasing the data size by 5"
   ]
  },
  {
   "cell_type": "code",
   "execution_count": 17,
   "metadata": {},
   "outputs": [],
   "source": [
    "logistic<-function(train.data,train.label,test.data,test.label){\n",
    "# c0 <- 1; c1 <- -1 # class labels\n",
    "tau.max <- 1000 # maximum number of iterations\n",
    "eta <- 0.01 # learning rate\n",
    "epsilon <- 0.01 # a threshold on the cost (to terminate the process)\n",
    "tau <- 1 # iteration counter\n",
    "terminate <- FALSE\n",
    "train.len<-nrow(train.data)\n",
    "\n",
    "## Just a few name/type conversion to make the rest of the code easy to follow\n",
    "X <- as.matrix(train.data) # rename just for conviniance\n",
    "T <- ifelse(train.label==c0,0,1) # rename just for conviniance\n",
    "\n",
    "W <- matrix(,nrow=tau.max, ncol=(ncol(X)+1)) # to be used to store the estimated coefficients\n",
    "W[1,] <- runif(ncol(W)) # initial weight (any better idea?)\n",
    "\n",
    "# project data using the sigmoid function (just for convenient)\n",
    "Y <- sigmoid(W[1,],X)\n",
    "\n",
    "costs <- data.frame('tau'=1:tau.max)  # to be used to trace the cost in each iteration\n",
    "costs[1, 'cost'] <- cost(W[1,],X,T, c0)\n",
    "\n",
    "# X\n",
    "\n",
    "while(!terminate){\n",
    "    # check termination criteria:\n",
    "    terminate <- tau >= tau.max | cost(W[tau,],X,T, c0)<=epsilon\n",
    "   \n",
    "    # shuffle data:\n",
    "    train.index <- sample(1:train.len, train.len, replace = FALSE)\n",
    "    X <- X[train.index,]\n",
    "    T <- T[train.index]\n",
    "   \n",
    "    # for each datapoint:\n",
    "    for (i in 1:train.len){\n",
    "        # check termination criteria:\n",
    "        if (tau >= tau.max | cost(W[tau,],X,T, c0) <=epsilon) {terminate<-TRUE;break}\n",
    "       \n",
    "        Y <- sigmoid(W[tau,],X)\n",
    "           \n",
    "        # Update the weights\n",
    "        W[(tau+1),] <- W[tau,] - eta * (Y[i]-T[i]) * cbind(1, t(X[i,]))\n",
    "       \n",
    "        # record the cost:\n",
    "        costs[(tau+1), 'cost'] <- cost(W[tau,],X,T, c0)\n",
    "       \n",
    "        # update the counter:\n",
    "        tau <- tau + 1\n",
    "       \n",
    "        # decrease learning rate:\n",
    "        eta = eta * 0.999\n",
    "    }\n",
    "}\n",
    "costs <- costs[1:tau, ] # remove the NaN tail of the vector (in case of early stopping)\n",
    "\n",
    "# the  final result is:\n",
    "w <- W[tau,]\n",
    "   \n",
    "    train_predict<-predict(w,train.data,c0,c1)\n",
    "    test_predict<-predict(w,test.data,c0,c1)\n",
    "   \n",
    "    train_error<-sum(train.label!=train_predict)/nrow(train.data)\n",
    "    test_error<-sum(test.label!=test_predict)/nrow(test.data)\n",
    "   \n",
    "    return(list('train_error'=train_error,'test_error'=test_error))\n",
    "\n",
    "}"
   ]
  },
  {
   "cell_type": "code",
   "execution_count": 18,
   "metadata": {},
   "outputs": [],
   "source": [
    "training_error_log<-c()\n",
    "testing_error_log<-c()\n",
    "for (i in (1:length(size))){\n",
    "    len<-size[i]\n",
    "    d=logistic(train.data[1:len,],train.label[1:len,],test.data[1:len,],test.label[1:len,])\n",
    "    training_error_log[i]<-d$train_error\n",
    "    testing_error_log[i]<-d$test_error\n",
    "   \n",
    "}"
   ]
  },
  {
   "cell_type": "code",
   "execution_count": 19,
   "metadata": {},
   "outputs": [],
   "source": [
    "training_error_df = data.frame(size,training_error_log,train_error)\n",
    "testing_error_df = data.frame(size,testing_error_log,test_error)"
   ]
  },
  {
   "cell_type": "code",
   "execution_count": 20,
   "metadata": {},
   "outputs": [],
   "source": [
    "miss.train = melt(training_error_df,id=\"size\")\n",
    "miss.test = melt(testing_error_df,id=\"size\")"
   ]
  },
  {
   "cell_type": "code",
   "execution_count": 21,
   "metadata": {},
   "outputs": [
    {
     "data": {
      "image/png": "[encoded data removed]",
      "text/plain": [
       "plot without title"
      ]
     },
     "metadata": {},
     "output_type": "display_data"
    }
   ],
   "source": [
    "ggplot(data=miss.train, aes(x=size, y=value ,color=variable)) + geom_line() +\n",
    "       scale_color_discrete(guide = guide_legend(title = NULL)) + theme_minimal() +\n",
    "       ggtitle(\"Training Error vs Size\")"
   ]
  },
  {
   "cell_type": "code",
   "execution_count": 22,
   "metadata": {},
   "outputs": [
    {
     "data": {
      "image/png": "[encoded data removed]",
      "text/plain": [
       "plot without title"
      ]
     },
     "metadata": {},
     "output_type": "display_data"
    }
   ],
   "source": [
    "ggplot(data=miss.test, aes(x=size, y=value ,color=variable)) + geom_line() +\n",
    "       scale_color_discrete(guide = guide_legend(title = NULL)) + theme_minimal() +\n",
    "       ggtitle(\"Testing Error vs Size\")"
   ]
  },
  {
   "cell_type": "markdown",
   "metadata": {},
   "source": [
    "3. Explain your observations in your Jupyter Notebook file.:"
   ]
  },
  {
   "cell_type": "markdown",
   "metadata": {},
   "source": [
    "**a. What does happen for each classifier when the number of training data points is increased?**\n"
   ]
  },
  {
   "cell_type": "markdown",
   "metadata": {},
   "source": [
    "For both the Bayesian and Logistics Classifier, when the number of training data points increase, both train and test errors show a decrease with initial data points. <br>\n",
    "\n",
    "Minor Fluctuations can be visualised for both training and testing errors for larger training data points.\n",
    "\n",
    "For smaller data e.g when  size =5 train error is quite large in Bayesian classifier compared with Logistic Classifier.\n",
    "\n",
    "In case of testing, for size=5 test error is large in Bayesian Classifier compared to Logistic Classifier."
   ]
  },
  {
   "cell_type": "markdown",
   "metadata": {},
   "source": [
    "**b. Which classifier is best suited when the training set is small, and\n",
    "which is best suited when the training set is big?**"
   ]
  },
  {
   "cell_type": "markdown",
   "metadata": {},
   "source": [
    "By comparing both the training and testing errors for Bayesian and Logistic Classifiers, when the training set is small choosing Logistic classifier gives low training and test errors as compared to the Bayesian Classifier.\n",
    "\n",
    "But when training set is larger, both classifiers give same rates of errors because both the classifiers are result in very minor train, test fluctuations. <br>\n",
    "By looking at the graph, Logistic classifier seems to be a better choice for large datasets aswell."
   ]
  },
  {
   "cell_type": "markdown",
   "metadata": {},
   "source": [
    "**c. Justify your observations in previous questions (III.a & III.b) by\n",
    "providing some speculations and possible reasons.**"
   ]
  },
  {
   "cell_type": "markdown",
   "metadata": {},
   "source": [
    "The reason for this could be the class imbalance and less number of classes. As we have only two class labels to predict i.e c0 adn c1."
   ]
  }
 ],
 "metadata": {
  "kernelspec": {
   "display_name": "R",
   "language": "R",
   "name": "ir"
  },
  "language_info": {
   "codemirror_mode": "r",
   "file_extension": ".r",
   "mimetype": "text/x-r-source",
   "name": "R",
   "pygments_lexer": "r",
   "version": "3.6.1"
  }
 },
 "nbformat": 4,
 "nbformat_minor": 4
}
