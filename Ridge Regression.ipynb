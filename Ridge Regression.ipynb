{
 "cells": [
  {
   "cell_type": "markdown",
   "metadata": {},
   "source": [
    "## Section D. Ridge Regression\n"
   ]
  },
  {
   "cell_type": "markdown",
   "metadata": {},
   "source": [
    "### Question 5 [Ridge Regression]"
   ]
  },
  {
   "cell_type": "code",
   "execution_count": 1,
   "metadata": {},
   "outputs": [
    {
     "name": "stderr",
     "output_type": "stream",
     "text": [
      "Loading required package: Matrix\n",
      "Loading required package: foreach\n",
      "Loaded glmnet 2.0-16\n",
      "\n",
      "Warning message:\n",
      "\"package 'ggplot2' was built under R version 3.6.3\"Warning message:\n",
      "\"package 'reshape2' was built under R version 3.6.3\""
     ]
    }
   ],
   "source": [
    "#install.packages(\"glmnet\")\n",
    "#install.packages(\"car\")\n",
    "\n",
    "library(glmnet)   # for regresion models + l1 (LASSO), l2 (Ridge) and l1/l2 (Ealstic Net) regularizations\n",
    "library(ggplot2)  # for plotting functions.\n",
    "library(reshape2) # for melt and cast functions"
   ]
  },
  {
   "cell_type": "markdown",
   "metadata": {},
   "source": [
    "1. Given the gradient descent algorithms for linear regression (discussed in\n",
    "Chapter 2 of Module 2), derive weight update steps of stochastic gradient\n",
    "descent (SGD) for linear regression with L2 regularisation norm. Show\n",
    "your work with enough explanation in your PDF report; you should\n",
    "provide the steps of SGD. \n"
   ]
  },
  {
   "cell_type": "markdown",
   "metadata": {},
   "source": [
    "STEPS: <br>\n",
    "\n",
    "* Initialize weight w0 and interation index, tau = 1.\n",
    "* While stepping condition not met\n",
    "        * (x,y)\n",
    "        * update : \n",
    "\\begin{eqnarray} \n",
    "w^{(\\tau)} := w^{(\\tau-1)} – \\eta^{(\\tau)} \\nabla E_n(w^{(\\tau-1)})\n",
    "\\end{eqnarray}\n",
    "        *  tau = tau + 1\n",
    "\n",
    "Error Function for Stochastics gradient descent (SGD) with L2 regularisation is given as: \n",
    "Error function comprises a sum over data points.\n",
    "\n",
    "        \n",
    "\n",
    "\n",
    "\n",
    "\n",
    "\n",
    "\n",
    "\\begin{eqnarray} \n",
    "E(w) = \\frac{1}{2}  \\sum_{n=1}^N (t_n – w\\cdot {\\phi}(x_n))^2 + \\frac{\\lambda}{2}\\sum_{j=0}^{M-1} w_j^2\n",
    "\\end{eqnarray}\n",
    "\n",
    "<br>\n",
    "<br>\n",
    "Now that we have the training objective, we need to optimise it to get the best parameter values. To\n",
    "optimise the training objective, we know from calculus that we need to set the partial derivatives with\n",
    "respect to all parameters to zero:\n",
    "\n",
    "\n",
    "\n",
    "\n",
    "\n",
    "\n",
    "\n",
    "\n",
    "\n",
    "\n",
    "\\begin{eqnarray} \n",
    "dE / dw = \\frac{1}{2} \\sum_{n=1}^N 2(t_n – w\\cdot \\phi(x_n))(-\\phi(x_n) + \\frac{\\lambda}{2}\\sum_{j=0}^{M-1} 2w_j = 0\n",
    "\\end{eqnarray}\n",
    "\n",
    "\n",
    "\n",
    "\n",
    "\n",
    "\n",
    "\n",
    "Weights are updated after each time iterating and moving towards negative gradient:\n",
    "\n",
    "\n",
    "\\begin{eqnarray} \n",
    "w^{(\\tau)} := w^{(\\tau-1)} – \\eta^{(\\tau)} \\nabla E_n(w^{(\\tau-1)})\n",
    "\\end{eqnarray}\n",
    "\n",
    "\n",
    "\n",
    "\\begin{eqnarray}\n",
    "w^{(\\tau)} :=w^{(\\tau-1)} + \\eta^{(\\tau)}\\sum_{n=1}^N((t_n – w\\cdot \\pmb{\\phi}(x_n))(-\\pmb{\\phi}({x}_n)) - \\eta^{(\\tau)}{\\lambda}\\sum_{j=0}^{M-1} w_j\n",
    "\\end{eqnarray}"
   ]
  },
  {
   "cell_type": "markdown",
   "metadata": {},
   "source": [
    "2. Using R (with no use of special libraries), implement an SGD algorithm that\n",
    "you derived in Step I. The implementation is straightforward as you are\n",
    "allowed to use the code examples provided."
   ]
  },
  {
   "cell_type": "code",
   "execution_count": 2,
   "metadata": {},
   "outputs": [],
   "source": [
    "# fundtion to read data\n",
    "read_data <- function(fname, sc) {\n",
    "   data <- read.csv(file=fname,head=TRUE,sep=\",\")\n",
    "   nr = dim(data)[1]\n",
    "   nc = dim(data)[2]\n",
    "   x = data[1:nr,1:(nc-1)]\n",
    "   y = data[1:nr,nc]\n",
    "   if (isTRUE(sc)) {\n",
    "      x = scale(x)\n",
    "      y = scale(y)\n",
    "   }\n",
    "   return (list(\"x\" = x, \"y\" = y))\n",
    "}"
   ]
  },
  {
   "cell_type": "code",
   "execution_count": 3,
   "metadata": {},
   "outputs": [],
   "source": [
    "# auxiliary function to calculate labels based on the estimated coefficients\n",
    "predict_func <- function(Phi, w){\n",
    "    return(Phi%*%w)\n",
    "} "
   ]
  },
  {
   "cell_type": "code",
   "execution_count": 4,
   "metadata": {},
   "outputs": [],
   "source": [
    "# auxiliary function to calculate the objective function for the training\n",
    "train_obj_func <- function (Phi, w, label, lambda){\n",
    "    # the L2 regulariser is already included in the objective function for training \n",
    "    return(mean((predict_func(Phi, w) - label)^2) + .5 * lambda * w %*% w)\n",
    "}"
   ]
  },
  {
   "cell_type": "code",
   "execution_count": 5,
   "metadata": {},
   "outputs": [],
   "source": [
    "# auxiliary function to compute the error of the model\n",
    "get_errors <- function(train_data, test_data, W,lambda) {\n",
    "   n_weights = dim(W)[1]\n",
    "   errors = matrix(,nrow=n_weights, ncol=2)\n",
    "   for (tau in 1:n_weights) {\n",
    "      errors[tau,1] = train_obj_func(train_data$x, W[tau,],train_data$y, lambda)\n",
    "      errors[tau,2] = train_obj_func(test_data$x, W[tau,],test_data$y, lambda)\n",
    "      colnames(errors) = c('training_error','testing_error') \n",
    "   }\n",
    "   return(errors)\n",
    "}"
   ]
  },
  {
   "cell_type": "code",
   "execution_count": 6,
   "metadata": {},
   "outputs": [],
   "source": [
    "##--- Stochastic Gradient Descent --------------------------------------------\n",
    "sgd_train <- function(train_x, train_y, lambda, eta, epsilon, max_epoch) {\n",
    "\n",
    "   train_len = dim(train_x)[1]\n",
    "   tau_max = max_epoch * train_len\n",
    "\n",
    "   W <- matrix(,nrow=tau_max, ncol=ncol(train_x)) \n",
    "   W[1,] <- runif(ncol(train_x))\n",
    "  \n",
    "   tau = 1 # counter \n",
    "   obj_func_val <-matrix(,nrow=tau_max, ncol=1) \n",
    "   obj_func_val[tau,1] = train_obj_func(train_x, W[tau,],train_y, lambda)\n",
    "\n",
    "   while (tau <= tau_max){\n",
    "       \n",
    "\n",
    "       # check termination criteria\n",
    "       if (obj_func_val[tau,1]<=epsilon){\n",
    "           break\n",
    "       }\n",
    "       \n",
    "       \n",
    " \n",
    "       # shuffle data:\n",
    "       train_index <- sample(1:train_len, train_len, replace = FALSE)\n",
    "    \n",
    "       # loop over each datapoint\n",
    "       for (i in train_index) {\n",
    "           # increment the counter\n",
    "           tau <- tau + 1\n",
    "           if (tau > tau_max) {break}\n",
    "\n",
    "           # make the weight update\n",
    "           y_pred <- predict_func(train_x[i,], W[tau-1,])\n",
    "           W[tau,] <- sgd_update_weight(W[tau-1,], train_x[i,], train_y[i], y_pred, lambda, eta)\n",
    "\n",
    "           # keep track of the objective funtion\n",
    "           obj_func_val[tau,1] = train_obj_func(train_x, W[tau,],train_y, lambda)\n",
    "       }\n",
    "   }\n",
    "   # resulting values for the training objective function as well as the weights\n",
    "   return(list('vals'=obj_func_val,'W'=W))\n",
    "}\n",
    "\n",
    "# updating the weight vector\n",
    "sgd_update_weight <- function(W_prev, x, y_true, y_pred, lambda, eta) {\n",
    "   L2_reg = (lambda * W_prev)\n",
    "   grad = - (y_true-y_pred) * x \n",
    "   return(W_prev - eta * (grad + L2_reg))\n",
    "}"
   ]
  },
  {
   "cell_type": "code",
   "execution_count": 7,
   "metadata": {},
   "outputs": [],
   "source": [
    "# implementation of SGD using sample values for max_epoch, epsilon,eta and lambda.\n",
    "\n",
    "play_with_sgd <- function(dtrain,dtest) {\n",
    "\n",
    "   ##### SGD Trainng\n",
    "   max_epoch = 20\n",
    "   lambda=0\n",
    "   epsilon = .001\n",
    "   eta = .01\n",
    "   \n",
    "\n",
    "   train_res = sgd_train(dtrain$x, dtrain$y, lambda, eta, epsilon, max_epoch)\n",
    "    \n",
    "   errors = get_errors(dtrain, dtest, train_res$W,lambda) \n",
    "\n",
    "   plot(train_res$val, main=\"SGD\", type=\"l\", col=\"blue\", ylim=c(0,.1), xlab=\"iteration\", ylab=\"training objective function\")\n",
    "}\n",
    "\n",
    "# options(warn=-1)\n",
    "# play_with_sgd(train_data,test_data)"
   ]
  },
  {
   "cell_type": "markdown",
   "metadata": {},
   "source": [
    "3. Now let’s study the effect of the L2 norm regularization on the training and testing errors:"
   ]
  },
  {
   "cell_type": "markdown",
   "metadata": {},
   "source": [
    "3a. Load Task1C_train.csv and Task1C_test.csv sets."
   ]
  },
  {
   "cell_type": "code",
   "execution_count": 8,
   "metadata": {},
   "outputs": [],
   "source": [
    "#Loading train and test data\n",
    "train_data = read_data(\"Task1C_train.csv\", TRUE)\n",
    "test_data = read_data(\"Task1C_test.csv\", TRUE)"
   ]
  },
  {
   "cell_type": "markdown",
   "metadata": {},
   "source": [
    "3b. For each lambda in {0, 0.4, 0.8, …, 10}, build a regression model and\n",
    "compute the training and testing errors, using the provided data\n",
    "sets. While building each model, all parameter settings (initial\n",
    "values, learning rate, etc) are exactly the same, except a lambda\n",
    "value. Set the termination criterion as maximum of 20 x N weight\n",
    "updates (where N is the number of training data). Create a plot of\n",
    "error rates (use different colors for the training and testing errors),\n",
    "where the x-axis is log lambda and y-axis is the error rate. Save your\n",
    "plot in your Jupyter Notebook file for Question 5."
   ]
  },
  {
   "cell_type": "code",
   "execution_count": 9,
   "metadata": {},
   "outputs": [],
   "source": [
    "play_with_sgd_1 <- function(dtrain,dtest) {\n",
    " \n",
    "   max_epoch = 20\n",
    "   epsilon = .001\n",
    "   eta = .01\n",
    "   lambda_seq = seq(0,10,0.4)\n",
    "    \n",
    "   training_err = c()\n",
    "    \n",
    "   testing_err = c()\n",
    "    \n",
    "   for (i in (1:length(lambda_seq))){\n",
    "       train_res = sgd_train(dtrain$x, dtrain$y, lambda_seq[i], eta, epsilon, max_epoch)\n",
    "       errors = as.data.frame(get_errors(dtrain, dtest, train_res$W,lambda_seq[i]))\n",
    "       \n",
    "       training_err[i] = mean(errors$training_err)\n",
    "       testing_err[i] = mean(errors$testing_err)      \n",
    "   }\n",
    "   data_1 <- as.data.frame(cbind(training_err,testing_err,lambda_seq))\n",
    "   data_final = melt(data_1,id='lambda_seq')\n",
    "    \n",
    "   ggplot(data=data_final, aes(x=log(lambda_seq), y=value, color=variable)) + geom_line() +\n",
    "       scale_color_discrete(guide = guide_legend(title = NULL)) + theme_minimal() +\n",
    "       ggtitle(\"Lambda vs Error Rate \")\n",
    "}"
   ]
  },
  {
   "cell_type": "code",
   "execution_count": 10,
   "metadata": {},
   "outputs": [
    {
     "data": {
      "image/png": "[encoded data removed]",
      "text/plain": [
       "plot without title"
      ]
     },
     "metadata": {},
     "output_type": "display_data"
    }
   ],
   "source": [
    "options(warn=-1)\n",
    "play_with_sgd_1(train_data,test_data)"
   ]
  },
  {
   "cell_type": "markdown",
   "metadata": {},
   "source": [
    "3c. Based on your plot in the previous part (Part b), what’s the best\n",
    "value for lambda? Discuss lambda, model complexity, and error\n",
    "rates, corresponding to underfitting and overfitting, by observing\n",
    "your plot. (Include all your answers in your Jupyter Notebook file.) \n",
    "<br>\n",
    " <br>"
   ]
  },
  {
   "cell_type": "markdown",
   "metadata": {},
   "source": [
    "An ideal value of lambda produces a model that generalises well on the new test data i.e unseen data. <br>\n",
    "General understanding of lambda values :\n",
    "\n",
    "* If our lambda value is too high, our model will be pretty simple, but runs the risk of underfitting our data.\n",
    "* If our lambda value is too low, our model will be more complex, and hence runs the risk of overfitting our data. <br>\n",
    "\n",
    "Observations from the plot:           In our case lambda  = (0,0.4,0.8, 1.2,....,10 )<br>\n",
    "\n",
    "* For very small value of lambda i.e near 0, our training error is very low while the test error is very high. This means that our model is overfitting on the train data. Model is very complex and runs the risk of overfitting.\n",
    "\n",
    "* For values of lambda equal to 10 and higher, both train and test errors are high. This means our model is underfitting on the train data. Model is vsimple and runs the risk of underfitting.\n",
    "\n",
    "* For log(lambda_val) = 0.2, seems to be an ideal point were both train and test errors seem to be converging the most.\n",
    "\n",
    "**Both Train and Test errors increase gradually with increasing values of lambda.**\n",
    "\n",
    "#### Therefore the best value for lambda would be 1.59"
   ]
  }
 ],
 "metadata": {
  "kernelspec": {
   "display_name": "R",
   "language": "R",
   "name": "ir"
  },
  "language_info": {
   "codemirror_mode": "r",
   "file_extension": ".r",
   "mimetype": "text/x-r-source",
   "name": "R",
   "pygments_lexer": "r",
   "version": "3.6.1"
  }
 },
 "nbformat": 4,
 "nbformat_minor": 4
}
