{
 "cells": [
  {
   "cell_type": "markdown",
   "metadata": {},
   "source": [
    "## Part C. Self-Taught Learning"
   ]
  },
  {
   "cell_type": "markdown",
   "metadata": {},
   "source": [
    "#### Importing required libraries"
   ]
  },
  {
   "cell_type": "code",
   "execution_count": 1,
   "metadata": {},
   "outputs": [
    {
     "name": "stderr",
     "output_type": "stream",
     "text": [
      "Warning message:\n",
      "\"package 'h2o' was built under R version 3.6.3\"\n",
      "----------------------------------------------------------------------\n",
      "\n",
      "Your next step is to start H2O:\n",
      "    > h2o.init()\n",
      "\n",
      "For H2O package documentation, ask for help:\n",
      "    > ??h2o\n",
      "\n",
      "After starting H2O, you can use the Web UI at http://localhost:54321\n",
      "For more information visit http://docs.h2o.ai\n",
      "\n",
      "----------------------------------------------------------------------\n",
      "\n",
      "\n",
      "Attaching package: 'h2o'\n",
      "\n",
      "The following objects are masked from 'package:stats':\n",
      "\n",
      "    cor, sd, var\n",
      "\n",
      "The following objects are masked from 'package:base':\n",
      "\n",
      "    %*%, %in%, &&, ||, apply, as.factor, as.numeric, colnames,\n",
      "    colnames<-, ifelse, is.character, is.factor, is.numeric, log,\n",
      "    log10, log1p, log2, round, signif, trunc\n",
      "\n",
      "Warning message:\n",
      "\"package 'ggplot2' was built under R version 3.6.3\"Warning message:\n",
      "\"package 'reshape' was built under R version 3.6.3\""
     ]
    }
   ],
   "source": [
    "library(h2o)\n",
    "library(ggplot2)\n",
    "library(reshape)\n",
    "options(warn=-1)"
   ]
  },
  {
   "cell_type": "markdown",
   "metadata": {},
   "source": [
    "### Question 3 [Self Taught Neural Network Learning]"
   ]
  },
  {
   "cell_type": "markdown",
   "metadata": {},
   "source": [
    "1. Load Task2C_labeled.csv, Task2C_unlabeled.csv and Task2C_test.csv data sets and required libraries (e.g., H2O). Note that we are going to use Task2C_labeled.csv and Task2C_unlabeled.csv for training the autoencoder. We are going to use Task2C_labeled.csv for training the classifier. Finally, we evaluate the trained classifier on the test Task2C_test.csv."
   ]
  },
  {
   "cell_type": "markdown",
   "metadata": {},
   "source": [
    "First we initialise h2o to be used."
   ]
  },
  {
   "cell_type": "code",
   "execution_count": 2,
   "metadata": {},
   "outputs": [
    {
     "name": "stdout",
     "output_type": "stream",
     "text": [
      "\n",
      "H2O is not running yet, starting it now...\n",
      "\n",
      "Note:  In case of errors look at the following log files:\n",
      "    C:\\Users\\ahhan\\AppData\\Local\\Temp\\RtmpGMvzqZ\\file27006f386939/h2o_THE_started_from_r.out\n",
      "    C:\\Users\\ahhan\\AppData\\Local\\Temp\\RtmpGMvzqZ\\file27001d482974/h2o_THE_started_from_r.err\n",
      "\n",
      "\n",
      "Starting H2O JVM and connecting: ....... Connection successful!\n",
      "\n",
      "R is connected to the H2O cluster: \n",
      "    H2O cluster uptime:         16 seconds 216 milliseconds \n",
      "    H2O cluster timezone:       Australia/Sydney \n",
      "    H2O data parsing timezone:  UTC \n",
      "    H2O cluster version:        3.30.0.1 \n",
      "    H2O cluster version age:    2 months and 9 days  \n",
      "    H2O cluster name:           H2O_started_from_R_THE_gqz587 \n",
      "    H2O cluster total nodes:    1 \n",
      "    H2O cluster total memory:   6.00 GB \n",
      "    H2O cluster total cores:    8 \n",
      "    H2O cluster allowed cores:  8 \n",
      "    H2O cluster healthy:        TRUE \n",
      "    H2O Connection ip:          localhost \n",
      "    H2O Connection port:        54321 \n",
      "    H2O Connection proxy:       NA \n",
      "    H2O Internal Security:      FALSE \n",
      "    H2O API Extensions:         Amazon S3, Algos, AutoML, Core V3, TargetEncoder, Core V4 \n",
      "    R Version:                  R version 3.6.1 (2019-07-05) \n",
      "\n"
     ]
    }
   ],
   "source": [
    "#If there is a proxy: proxy.old <- Sys.getenv('http_proxy'); Sys.setenv('http_proxy'='');\n",
    "localH2O =  h2o.init(nthreads = -1, port = 54321, max_mem_size = '6G', startH2O = TRUE)\n",
    "options(warn=-1)"
   ]
  },
  {
   "cell_type": "markdown",
   "metadata": {},
   "source": [
    "Reading data and getting it ready for model training and testing"
   ]
  },
  {
   "cell_type": "markdown",
   "metadata": {},
   "source": [
    "* Importing file - h2o.importFile()\n",
    "* Binding two h2o frames - h2o.rbind()   # row bind"
   ]
  },
  {
   "cell_type": "code",
   "execution_count": 3,
   "metadata": {},
   "outputs": [
    {
     "name": "stdout",
     "output_type": "stream",
     "text": [
      "  |======================================================================| 100%\n",
      "  |======================================================================| 100%\n",
      "  |======================================================================| 100%\n"
     ]
    }
   ],
   "source": [
    "labeled.frame <- h2o.importFile(path = 'C:/Users/ahhan/Desktop/UNITS/SEM3/Machine Learning/ass2/Task2C_labeled.csv',sep=',') \n",
    "unlabeled.frame <- h2o.importFile(path = 'C:/Users/ahhan/Desktop/UNITS/SEM3/Machine Learning/ass2/Task2C_unlabeled.csv' ,sep=',') \n",
    "test.frame <- h2o.importFile(path = 'C:/Users/ahhan/Desktop/UNITS/SEM3/Machine Learning/ass2/Task2C_test.csv' ,sep=',') \n",
    "\n",
    "# omitting the rows with NA values \n",
    "unlabeled.frame <- h2o.na_omit(unlabeled.frame)\n",
    "labeled.frame <- h2o.na_omit(labeled.frame)\n",
    "test.frame <- h2o.na_omit(test.frame)\n",
    "\n",
    "labeled.frame[,1] <- as.factor(labeled.frame$label)\n",
    "unlabeled.frame[,1] <- NA\n",
    "train.frame <- h2o.rbind(labeled.frame[,-1], unlabeled.frame[,-1]) #we are slicing our data to omit the label column\n",
    "test.frame[,1] <- as.factor(test.frame$label)"
   ]
  },
  {
   "cell_type": "markdown",
   "metadata": {},
   "source": [
    "PEEK at data"
   ]
  },
  {
   "cell_type": "code",
   "execution_count": 4,
   "metadata": {},
   "outputs": [
    {
     "name": "stdout",
     "output_type": "stream",
     "text": [
      "LABELED FRAME"
     ]
    },
    {
     "data": {
      "text/html": [
       "<table>\n",
       "<thead><tr><th scope=col>label</th><th scope=col>pixel0</th><th scope=col>pixel1</th><th scope=col>pixel2</th><th scope=col>pixel3</th><th scope=col>pixel4</th><th scope=col>pixel5</th><th scope=col>pixel6</th><th scope=col>pixel7</th><th scope=col>pixel8</th><th scope=col>...</th><th scope=col>pixel189</th><th scope=col>pixel190</th><th scope=col>pixel191</th><th scope=col>pixel192</th><th scope=col>pixel193</th><th scope=col>pixel194</th><th scope=col>pixel195</th><th scope=col>pixel196</th><th scope=col>pixel197</th><th scope=col>pixel198</th></tr></thead>\n",
       "<tbody>\n",
       "\t<tr><td>0  </td><td>0  </td><td>0  </td><td>0  </td><td>0  </td><td>0  </td><td>0  </td><td>0  </td><td>0  </td><td>0  </td><td>...</td><td>179</td><td>0  </td><td>0  </td><td>0  </td><td>0  </td><td>0  </td><td>0  </td><td>0  </td><td>0  </td><td>0  </td></tr>\n",
       "\t<tr><td>0  </td><td>0  </td><td>0  </td><td>0  </td><td>0  </td><td>0  </td><td>0  </td><td>0  </td><td>0  </td><td>0  </td><td>...</td><td>  0</td><td>0  </td><td>0  </td><td>0  </td><td>0  </td><td>0  </td><td>0  </td><td>0  </td><td>0  </td><td>0  </td></tr>\n",
       "</tbody>\n",
       "</table>\n"
      ],
      "text/latex": [
       "\\begin{tabular}{r|llllllllllllllllllllllllllllllllllllllllllllllllllllllllllllllllllllllllllllllllllllllllllllllllllllllllllllllllllllllllllllllllllllllllllllllllllllllllllllllllllllllllllllllllllllllllllllllllllllllll}\n",
       " label & pixel0 & pixel1 & pixel2 & pixel3 & pixel4 & pixel5 & pixel6 & pixel7 & pixel8 & ... & pixel189 & pixel190 & pixel191 & pixel192 & pixel193 & pixel194 & pixel195 & pixel196 & pixel197 & pixel198\\\\\n",
       "\\hline\n",
       "\t 0   & 0   & 0   & 0   & 0   & 0   & 0   & 0   & 0   & 0   & ... & 179 & 0   & 0   & 0   & 0   & 0   & 0   & 0   & 0   & 0  \\\\\n",
       "\t 0   & 0   & 0   & 0   & 0   & 0   & 0   & 0   & 0   & 0   & ... &   0 & 0   & 0   & 0   & 0   & 0   & 0   & 0   & 0   & 0  \\\\\n",
       "\\end{tabular}\n"
      ],
      "text/markdown": [
       "\n",
       "| label | pixel0 | pixel1 | pixel2 | pixel3 | pixel4 | pixel5 | pixel6 | pixel7 | pixel8 | ... | pixel189 | pixel190 | pixel191 | pixel192 | pixel193 | pixel194 | pixel195 | pixel196 | pixel197 | pixel198 |\n",
       "|---|---|---|---|---|---|---|---|---|---|---|---|---|---|---|---|---|---|---|---|---|\n",
       "| 0   | 0   | 0   | 0   | 0   | 0   | 0   | 0   | 0   | 0   | ... | 179 | 0   | 0   | 0   | 0   | 0   | 0   | 0   | 0   | 0   |\n",
       "| 0   | 0   | 0   | 0   | 0   | 0   | 0   | 0   | 0   | 0   | ... |   0 | 0   | 0   | 0   | 0   | 0   | 0   | 0   | 0   | 0   |\n",
       "\n"
      ],
      "text/plain": [
       "  label pixel0 pixel1 pixel2 pixel3 pixel4 pixel5 pixel6 pixel7 pixel8 ...\n",
       "1 0     0      0      0      0      0      0      0      0      0      ...\n",
       "2 0     0      0      0      0      0      0      0      0      0      ...\n",
       "  pixel189 pixel190 pixel191 pixel192 pixel193 pixel194 pixel195 pixel196\n",
       "1 179      0        0        0        0        0        0        0       \n",
       "2   0      0        0        0        0        0        0        0       \n",
       "  pixel197 pixel198\n",
       "1 0        0       \n",
       "2 0        0       "
      ]
     },
     "metadata": {},
     "output_type": "display_data"
    },
    {
     "name": "stdout",
     "output_type": "stream",
     "text": [
      "UNLABELED FRAME"
     ]
    },
    {
     "data": {
      "text/html": [
       "<table>\n",
       "<thead><tr><th scope=col>label</th><th scope=col>pixel0</th><th scope=col>pixel1</th><th scope=col>pixel2</th><th scope=col>pixel3</th><th scope=col>pixel4</th><th scope=col>pixel5</th><th scope=col>pixel6</th><th scope=col>pixel7</th><th scope=col>pixel8</th><th scope=col>...</th><th scope=col>pixel189</th><th scope=col>pixel190</th><th scope=col>pixel191</th><th scope=col>pixel192</th><th scope=col>pixel193</th><th scope=col>pixel194</th><th scope=col>pixel195</th><th scope=col>pixel196</th><th scope=col>pixel197</th><th scope=col>pixel198</th></tr></thead>\n",
       "<tbody>\n",
       "\t<tr><td>NaN</td><td>0  </td><td>0  </td><td>0  </td><td>0  </td><td>0  </td><td>0  </td><td>0  </td><td>0  </td><td>0  </td><td>...</td><td>179</td><td>0  </td><td>0  </td><td>0  </td><td>0  </td><td>0  </td><td>0  </td><td>0  </td><td>0  </td><td>0  </td></tr>\n",
       "\t<tr><td>NaN</td><td>0  </td><td>0  </td><td>0  </td><td>0  </td><td>0  </td><td>0  </td><td>0  </td><td>0  </td><td>0  </td><td>...</td><td>  0</td><td>0  </td><td>0  </td><td>0  </td><td>0  </td><td>0  </td><td>0  </td><td>0  </td><td>0  </td><td>0  </td></tr>\n",
       "</tbody>\n",
       "</table>\n"
      ],
      "text/latex": [
       "\\begin{tabular}{r|llllllllllllllllllllllllllllllllllllllllllllllllllllllllllllllllllllllllllllllllllllllllllllllllllllllllllllllllllllllllllllllllllllllllllllllllllllllllllllllllllllllllllllllllllllllllllllllllllllllll}\n",
       " label & pixel0 & pixel1 & pixel2 & pixel3 & pixel4 & pixel5 & pixel6 & pixel7 & pixel8 & ... & pixel189 & pixel190 & pixel191 & pixel192 & pixel193 & pixel194 & pixel195 & pixel196 & pixel197 & pixel198\\\\\n",
       "\\hline\n",
       "\t NaN & 0   & 0   & 0   & 0   & 0   & 0   & 0   & 0   & 0   & ... & 179 & 0   & 0   & 0   & 0   & 0   & 0   & 0   & 0   & 0  \\\\\n",
       "\t NaN & 0   & 0   & 0   & 0   & 0   & 0   & 0   & 0   & 0   & ... &   0 & 0   & 0   & 0   & 0   & 0   & 0   & 0   & 0   & 0  \\\\\n",
       "\\end{tabular}\n"
      ],
      "text/markdown": [
       "\n",
       "| label | pixel0 | pixel1 | pixel2 | pixel3 | pixel4 | pixel5 | pixel6 | pixel7 | pixel8 | ... | pixel189 | pixel190 | pixel191 | pixel192 | pixel193 | pixel194 | pixel195 | pixel196 | pixel197 | pixel198 |\n",
       "|---|---|---|---|---|---|---|---|---|---|---|---|---|---|---|---|---|---|---|---|---|\n",
       "| NaN | 0   | 0   | 0   | 0   | 0   | 0   | 0   | 0   | 0   | ... | 179 | 0   | 0   | 0   | 0   | 0   | 0   | 0   | 0   | 0   |\n",
       "| NaN | 0   | 0   | 0   | 0   | 0   | 0   | 0   | 0   | 0   | ... |   0 | 0   | 0   | 0   | 0   | 0   | 0   | 0   | 0   | 0   |\n",
       "\n"
      ],
      "text/plain": [
       "  label pixel0 pixel1 pixel2 pixel3 pixel4 pixel5 pixel6 pixel7 pixel8 ...\n",
       "1 NaN   0      0      0      0      0      0      0      0      0      ...\n",
       "2 NaN   0      0      0      0      0      0      0      0      0      ...\n",
       "  pixel189 pixel190 pixel191 pixel192 pixel193 pixel194 pixel195 pixel196\n",
       "1 179      0        0        0        0        0        0        0       \n",
       "2   0      0        0        0        0        0        0        0       \n",
       "  pixel197 pixel198\n",
       "1 0        0       \n",
       "2 0        0       "
      ]
     },
     "metadata": {},
     "output_type": "display_data"
    },
    {
     "name": "stdout",
     "output_type": "stream",
     "text": [
      "TRAIN FRAME"
     ]
    },
    {
     "data": {
      "text/html": [
       "<table>\n",
       "<thead><tr><th scope=col>pixel0</th><th scope=col>pixel1</th><th scope=col>pixel2</th><th scope=col>pixel3</th><th scope=col>pixel4</th><th scope=col>pixel5</th><th scope=col>pixel6</th><th scope=col>pixel7</th><th scope=col>pixel8</th><th scope=col>pixel9</th><th scope=col>...</th><th scope=col>pixel190</th><th scope=col>pixel191</th><th scope=col>pixel192</th><th scope=col>pixel193</th><th scope=col>pixel194</th><th scope=col>pixel195</th><th scope=col>pixel196</th><th scope=col>pixel197</th><th scope=col>pixel198</th><th scope=col>pixel199</th></tr></thead>\n",
       "<tbody>\n",
       "\t<tr><td>0  </td><td>0  </td><td>0  </td><td>0  </td><td>0  </td><td>0  </td><td>0  </td><td>0  </td><td>0  </td><td>0  </td><td>...</td><td>0  </td><td>0  </td><td>0  </td><td>0  </td><td>0  </td><td>0  </td><td>0  </td><td>0  </td><td>0  </td><td>0  </td></tr>\n",
       "\t<tr><td>0  </td><td>0  </td><td>0  </td><td>0  </td><td>0  </td><td>0  </td><td>0  </td><td>0  </td><td>0  </td><td>0  </td><td>...</td><td>0  </td><td>0  </td><td>0  </td><td>0  </td><td>0  </td><td>0  </td><td>0  </td><td>0  </td><td>0  </td><td>0  </td></tr>\n",
       "</tbody>\n",
       "</table>\n"
      ],
      "text/latex": [
       "\\begin{tabular}{r|llllllllllllllllllllllllllllllllllllllllllllllllllllllllllllllllllllllllllllllllllllllllllllllllllllllllllllllllllllllllllllllllllllllllllllllllllllllllllllllllllllllllllllllllllllllllllllllllllllllll}\n",
       " pixel0 & pixel1 & pixel2 & pixel3 & pixel4 & pixel5 & pixel6 & pixel7 & pixel8 & pixel9 & ... & pixel190 & pixel191 & pixel192 & pixel193 & pixel194 & pixel195 & pixel196 & pixel197 & pixel198 & pixel199\\\\\n",
       "\\hline\n",
       "\t 0   & 0   & 0   & 0   & 0   & 0   & 0   & 0   & 0   & 0   & ... & 0   & 0   & 0   & 0   & 0   & 0   & 0   & 0   & 0   & 0  \\\\\n",
       "\t 0   & 0   & 0   & 0   & 0   & 0   & 0   & 0   & 0   & 0   & ... & 0   & 0   & 0   & 0   & 0   & 0   & 0   & 0   & 0   & 0  \\\\\n",
       "\\end{tabular}\n"
      ],
      "text/markdown": [
       "\n",
       "| pixel0 | pixel1 | pixel2 | pixel3 | pixel4 | pixel5 | pixel6 | pixel7 | pixel8 | pixel9 | ... | pixel190 | pixel191 | pixel192 | pixel193 | pixel194 | pixel195 | pixel196 | pixel197 | pixel198 | pixel199 |\n",
       "|---|---|---|---|---|---|---|---|---|---|---|---|---|---|---|---|---|---|---|---|---|\n",
       "| 0   | 0   | 0   | 0   | 0   | 0   | 0   | 0   | 0   | 0   | ... | 0   | 0   | 0   | 0   | 0   | 0   | 0   | 0   | 0   | 0   |\n",
       "| 0   | 0   | 0   | 0   | 0   | 0   | 0   | 0   | 0   | 0   | ... | 0   | 0   | 0   | 0   | 0   | 0   | 0   | 0   | 0   | 0   |\n",
       "\n"
      ],
      "text/plain": [
       "  pixel0 pixel1 pixel2 pixel3 pixel4 pixel5 pixel6 pixel7 pixel8 pixel9 ...\n",
       "1 0      0      0      0      0      0      0      0      0      0      ...\n",
       "2 0      0      0      0      0      0      0      0      0      0      ...\n",
       "  pixel190 pixel191 pixel192 pixel193 pixel194 pixel195 pixel196 pixel197\n",
       "1 0        0        0        0        0        0        0        0       \n",
       "2 0        0        0        0        0        0        0        0       \n",
       "  pixel198 pixel199\n",
       "1 0        0       \n",
       "2 0        0       "
      ]
     },
     "metadata": {},
     "output_type": "display_data"
    },
    {
     "name": "stdout",
     "output_type": "stream",
     "text": [
      "TEST FRAME"
     ]
    },
    {
     "data": {
      "text/html": [
       "<table>\n",
       "<thead><tr><th scope=col>label</th><th scope=col>pixel0</th><th scope=col>pixel1</th><th scope=col>pixel2</th><th scope=col>pixel3</th><th scope=col>pixel4</th><th scope=col>pixel5</th><th scope=col>pixel6</th><th scope=col>pixel7</th><th scope=col>pixel8</th><th scope=col>...</th><th scope=col>pixel189</th><th scope=col>pixel190</th><th scope=col>pixel191</th><th scope=col>pixel192</th><th scope=col>pixel193</th><th scope=col>pixel194</th><th scope=col>pixel195</th><th scope=col>pixel196</th><th scope=col>pixel197</th><th scope=col>pixel198</th></tr></thead>\n",
       "<tbody>\n",
       "\t<tr><td>3  </td><td>0  </td><td>0  </td><td>0  </td><td>0  </td><td>0  </td><td>0  </td><td>0  </td><td>0  </td><td>0  </td><td>...</td><td>0  </td><td>0  </td><td>0  </td><td>0  </td><td>0  </td><td>0  </td><td>0  </td><td>0  </td><td>0  </td><td>0  </td></tr>\n",
       "\t<tr><td>1  </td><td>0  </td><td>0  </td><td>0  </td><td>0  </td><td>0  </td><td>0  </td><td>0  </td><td>0  </td><td>0  </td><td>...</td><td>0  </td><td>0  </td><td>0  </td><td>0  </td><td>0  </td><td>0  </td><td>0  </td><td>0  </td><td>0  </td><td>0  </td></tr>\n",
       "</tbody>\n",
       "</table>\n"
      ],
      "text/latex": [
       "\\begin{tabular}{r|llllllllllllllllllllllllllllllllllllllllllllllllllllllllllllllllllllllllllllllllllllllllllllllllllllllllllllllllllllllllllllllllllllllllllllllllllllllllllllllllllllllllllllllllllllllllllllllllllllllll}\n",
       " label & pixel0 & pixel1 & pixel2 & pixel3 & pixel4 & pixel5 & pixel6 & pixel7 & pixel8 & ... & pixel189 & pixel190 & pixel191 & pixel192 & pixel193 & pixel194 & pixel195 & pixel196 & pixel197 & pixel198\\\\\n",
       "\\hline\n",
       "\t 3   & 0   & 0   & 0   & 0   & 0   & 0   & 0   & 0   & 0   & ... & 0   & 0   & 0   & 0   & 0   & 0   & 0   & 0   & 0   & 0  \\\\\n",
       "\t 1   & 0   & 0   & 0   & 0   & 0   & 0   & 0   & 0   & 0   & ... & 0   & 0   & 0   & 0   & 0   & 0   & 0   & 0   & 0   & 0  \\\\\n",
       "\\end{tabular}\n"
      ],
      "text/markdown": [
       "\n",
       "| label | pixel0 | pixel1 | pixel2 | pixel3 | pixel4 | pixel5 | pixel6 | pixel7 | pixel8 | ... | pixel189 | pixel190 | pixel191 | pixel192 | pixel193 | pixel194 | pixel195 | pixel196 | pixel197 | pixel198 |\n",
       "|---|---|---|---|---|---|---|---|---|---|---|---|---|---|---|---|---|---|---|---|---|\n",
       "| 3   | 0   | 0   | 0   | 0   | 0   | 0   | 0   | 0   | 0   | ... | 0   | 0   | 0   | 0   | 0   | 0   | 0   | 0   | 0   | 0   |\n",
       "| 1   | 0   | 0   | 0   | 0   | 0   | 0   | 0   | 0   | 0   | ... | 0   | 0   | 0   | 0   | 0   | 0   | 0   | 0   | 0   | 0   |\n",
       "\n"
      ],
      "text/plain": [
       "  label pixel0 pixel1 pixel2 pixel3 pixel4 pixel5 pixel6 pixel7 pixel8 ...\n",
       "1 3     0      0      0      0      0      0      0      0      0      ...\n",
       "2 1     0      0      0      0      0      0      0      0      0      ...\n",
       "  pixel189 pixel190 pixel191 pixel192 pixel193 pixel194 pixel195 pixel196\n",
       "1 0        0        0        0        0        0        0        0       \n",
       "2 0        0        0        0        0        0        0        0       \n",
       "  pixel197 pixel198\n",
       "1 0        0       \n",
       "2 0        0       "
      ]
     },
     "metadata": {},
     "output_type": "display_data"
    }
   ],
   "source": [
    "cat(\"LABELED FRAME\")\n",
    "head(labeled.frame,2)\n",
    "cat(\"UNLABELED FRAME\")\n",
    "head(unlabeled.frame,2)\n",
    "cat(\"TRAIN FRAME\")\n",
    "head(train.frame,2)\n",
    "cat(\"TEST FRAME\")\n",
    "head(test.frame,2)"
   ]
  },
  {
   "cell_type": "markdown",
   "metadata": {},
   "source": [
    "<BR>\n",
    "2. Train an autoencoder (similar to Activity 5.2) with only one hidden layer and change the number of its neurons to: 20, 40, 60, 80, …, 400 (i.e. from 20 to 400 with a step size of 20)."
   ]
  },
  {
   "cell_type": "markdown",
   "metadata": {},
   "source": [
    "### Training Autoencoders <br>\n",
    "* Here we train our autoencoder with a single hidden layer and number of neurons in the range from 20 to 400 with step size of 20\n",
    "* We have used h2o.deeplearning() to implement the autoencoders\n",
    "* Activation function used is tanh\n",
    "* Maximum iterations has been set to 100 i.e. epochs\n",
    "* We are storing all the 20 generated autoencoder models in a vector list "
   ]
  },
  {
   "cell_type": "code",
   "execution_count": 5,
   "metadata": {},
   "outputs": [
    {
     "name": "stdout",
     "output_type": "stream",
     "text": [
      "  |======================================================================| 100%\n",
      "  |======================================================================| 100%\n",
      "  |======================================================================| 100%\n",
      "  |======================================================================| 100%\n",
      "  |======================================================================| 100%\n",
      "  |======================================================================| 100%\n",
      "  |======================================================================| 100%\n",
      "  |======================================================================| 100%\n",
      "  |======================================================================| 100%\n",
      "  |======================================================================| 100%\n",
      "  |======================================================================| 100%\n",
      "  |======================================================================| 100%\n",
      "  |======================================================================| 100%\n",
      "  |======================================================================| 100%\n",
      "  |======================================================================| 100%\n",
      "  |======================================================================| 100%\n",
      "  |======================================================================| 100%\n",
      "  |======================================================================| 100%\n",
      "  |======================================================================| 100%\n",
      "  |======================================================================| 100%\n"
     ]
    }
   ],
   "source": [
    "options(warn=-1)\n",
    "NN.model.objects = vector('list')  # Vector to store all the autoencoder model objects\n",
    "\n",
    "for (k in seq(20, 400, 20)){\n",
    "    # training autoencoder with k neurons in code layer, hence we get k compressed o/p from code layer\n",
    "    NN.model.1 = h2o.deeplearning(    \n",
    "        x = 2:785, # select all pixels\n",
    "        training_frame = train.frame, # specify the frame   \n",
    "        hidden = c(k), # number units\n",
    "        epochs = 100, # maximum number of epoches  \n",
    "        activation = 'Tanh', # activation function \n",
    "        autoencoder = TRUE  # is it an autoencoder? Yes!\n",
    "        )\n",
    "    NN.model.objects = c(NN.model.objects,NN.model.1)\n",
    "    }"
   ]
  },
  {
   "cell_type": "markdown",
   "metadata": {},
   "source": [
    "3. For each model in Step II, calculate and record the reconstruction error which is simply the average (over all data points while the model is fixed) of Euclidian distances between the input and output of the autoencoder (you can simply use “h2o.anomaly()” function). Plot these values where the x-axis is the number of units in the middle layer and the y-axis is the reconstruction error. Then, save and attach the plot to your PDF report. Explain your findings based on the plot in your PDF report."
   ]
  },
  {
   "cell_type": "markdown",
   "metadata": {},
   "source": [
    "#### h2o.anomaly - It is used to calculate the reconstruction error of each input/image <br>\n",
    "\n",
    "* Each autoencoder model developed earlier is used to calculate the error on train.frame"
   ]
  },
  {
   "cell_type": "code",
   "execution_count": 6,
   "metadata": {},
   "outputs": [
    {
     "data": {
      "text/html": [
       "<table>\n",
       "<thead><tr><th scope=col>no_of_neurons</th><th scope=col>reconstruction_error</th></tr></thead>\n",
       "<tbody>\n",
       "\t<tr><td> 20        </td><td>0.028878850</td></tr>\n",
       "\t<tr><td> 40        </td><td>0.013819752</td></tr>\n",
       "\t<tr><td> 60        </td><td>0.006269800</td></tr>\n",
       "\t<tr><td> 80        </td><td>0.003755564</td></tr>\n",
       "\t<tr><td>100        </td><td>0.001483377</td></tr>\n",
       "\t<tr><td>120        </td><td>0.001194911</td></tr>\n",
       "</tbody>\n",
       "</table>\n"
      ],
      "text/latex": [
       "\\begin{tabular}{r|ll}\n",
       " no\\_of\\_neurons & reconstruction\\_error\\\\\n",
       "\\hline\n",
       "\t  20         & 0.028878850\\\\\n",
       "\t  40         & 0.013819752\\\\\n",
       "\t  60         & 0.006269800\\\\\n",
       "\t  80         & 0.003755564\\\\\n",
       "\t 100         & 0.001483377\\\\\n",
       "\t 120         & 0.001194911\\\\\n",
       "\\end{tabular}\n"
      ],
      "text/markdown": [
       "\n",
       "| no_of_neurons | reconstruction_error |\n",
       "|---|---|\n",
       "|  20         | 0.028878850 |\n",
       "|  40         | 0.013819752 |\n",
       "|  60         | 0.006269800 |\n",
       "|  80         | 0.003755564 |\n",
       "| 100         | 0.001483377 |\n",
       "| 120         | 0.001194911 |\n",
       "\n"
      ],
      "text/plain": [
       "  no_of_neurons reconstruction_error\n",
       "1  20           0.028878850         \n",
       "2  40           0.013819752         \n",
       "3  60           0.006269800         \n",
       "4  80           0.003755564         \n",
       "5 100           0.001483377         \n",
       "6 120           0.001194911         "
      ]
     },
     "metadata": {},
     "output_type": "display_data"
    }
   ],
   "source": [
    "error_df <- data.frame(no_of_neurons=integer(),reconstruction_error=double()) # empty dataset to store reconstruction errors\n",
    "\n",
    "neurons = 20 #initial number of neurons for code layer of autoencoder\n",
    "\n",
    "for (k in 1:20){\n",
    "    \n",
    "    error =sum(h2o.anomaly(NN.model.objects[[k]],train.frame))/ nrow(h2o.anomaly(NN.model.objects[[k]],train.frame))# mean error\n",
    "    error_df[nrow(error_df) + 1,] = c(neurons , error)\n",
    "    neurons = neurons + 20\n",
    "    \n",
    "}\n",
    "head(error_df)"
   ]
  },
  {
   "cell_type": "code",
   "execution_count": 7,
   "metadata": {},
   "outputs": [
    {
     "data": {
      "image/png": "[encoded data removed]",
      "text/plain": [
       "Plot with title \"Reconstruction Error VS Number of Neurons\""
      ]
     },
     "metadata": {},
     "output_type": "display_data"
    }
   ],
   "source": [
    "plot(error_df$no_of_neurons,error_df$reconstruction_error, type=\"l\", col=\"red\", lwd=2, xlab=\"Number of Neurons\", ylab=\"Reconstruction Error\", main=\"Reconstruction Error VS Number of Neurons\")"
   ]
  },
  {
   "cell_type": "markdown",
   "metadata": {},
   "source": [
    "* For number of neurons between 20 to 100, their is a rapid decrease in the reconstruction error.\n",
    "* The reconstruction error shows minor fluctuations post 100 neurons.\n",
    "* As the number of neurons in the code layer increases the output is closer to the input."
   ]
  },
  {
   "cell_type": "markdown",
   "metadata": {},
   "source": [
    "4. Build the 3-layer NN from Activity 5.1 or “h2o.deeplearning” function (make sure you set “ autoencoder = FALSE”) to build a classification model using all the original attributes from the training set and change the number of its neurons to: 20, 40, 60, 80, .., 400 like Step II. For each model, calculate and record the test error."
   ]
  },
  {
   "cell_type": "markdown",
   "metadata": {},
   "source": [
    "Below we have defined an error function to calculate error for NN model based on test.label and predicted label"
   ]
  },
  {
   "cell_type": "code",
   "execution_count": 8,
   "metadata": {},
   "outputs": [],
   "source": [
    "error.rate <- function(Y1, T1){\n",
    "  if (nrow(Y1)!=nrow(T1)){\n",
    "    stop('error.rate: size of true lables and predicted labels mismatch')\n",
    "  }\n",
    "  return (sum(T1!=Y1)/nrow(T1))\n",
    "}"
   ]
  },
  {
   "cell_type": "markdown",
   "metadata": {},
   "source": [
    "### 3-Layer Neural Network <br>\n",
    "\n",
    "* h2o.deeplearning() with autoencoder=False is used to develop a 3-Layer NN\n",
    "* We have used l2 regularisation for our model, setting parameter = 0.1\n",
    "* We run the model k times were k is ranging between 20 to 400 with step size of 20. Here, k is the number of neurons.\n",
    "* Finally we calculate the error on our test.frame using h2o.predict() function and error.rate() function"
   ]
  },
  {
   "cell_type": "code",
   "execution_count": 9,
   "metadata": {},
   "outputs": [
    {
     "name": "stdout",
     "output_type": "stream",
     "text": [
      "  |======================================================================| 100%\n",
      "  |======================================================================| 100%\n",
      "  |======================================================================| 100%\n",
      "  |======================================================================| 100%\n",
      "  |======================================================================| 100%\n",
      "  |======================================================================| 100%\n",
      "  |======================================================================| 100%\n",
      "  |======================================================================| 100%\n",
      "  |======================================================================| 100%\n",
      "  |======================================================================| 100%\n",
      "  |======================================================================| 100%\n",
      "  |======================================================================| 100%\n",
      "  |======================================================================| 100%\n",
      "  |======================================================================| 100%\n",
      "  |======================================================================| 100%\n",
      "  |======================================================================| 100%\n",
      "  |======================================================================| 100%\n",
      "  |======================================================================| 100%\n",
      "  |======================================================================| 100%\n",
      "  |======================================================================| 100%\n",
      "  |======================================================================| 100%\n",
      "  |======================================================================| 100%\n",
      "  |======================================================================| 100%\n",
      "  |======================================================================| 100%\n",
      "  |======================================================================| 100%\n",
      "  |======================================================================| 100%\n",
      "  |======================================================================| 100%\n",
      "  |======================================================================| 100%\n",
      "  |======================================================================| 100%\n",
      "  |======================================================================| 100%\n",
      "  |======================================================================| 100%\n",
      "  |======================================================================| 100%\n",
      "  |======================================================================| 100%\n",
      "  |======================================================================| 100%\n",
      "  |======================================================================| 100%\n",
      "  |======================================================================| 100%\n",
      "  |======================================================================| 100%\n",
      "  |======================================================================| 100%\n",
      "  |======================================================================| 100%\n",
      "  |======================================================================| 100%\n"
     ]
    },
    {
     "data": {
      "text/html": [
       "<table>\n",
       "<thead><tr><th scope=col>no_of_neurons</th><th scope=col>test_error</th></tr></thead>\n",
       "<tbody>\n",
       "\t<tr><td> 20  </td><td>0.349</td></tr>\n",
       "\t<tr><td> 40  </td><td>0.339</td></tr>\n",
       "\t<tr><td> 60  </td><td>0.575</td></tr>\n",
       "\t<tr><td> 80  </td><td>0.541</td></tr>\n",
       "\t<tr><td>100  </td><td>0.521</td></tr>\n",
       "\t<tr><td>120  </td><td>0.512</td></tr>\n",
       "</tbody>\n",
       "</table>\n"
      ],
      "text/latex": [
       "\\begin{tabular}{r|ll}\n",
       " no\\_of\\_neurons & test\\_error\\\\\n",
       "\\hline\n",
       "\t  20   & 0.349\\\\\n",
       "\t  40   & 0.339\\\\\n",
       "\t  60   & 0.575\\\\\n",
       "\t  80   & 0.541\\\\\n",
       "\t 100   & 0.521\\\\\n",
       "\t 120   & 0.512\\\\\n",
       "\\end{tabular}\n"
      ],
      "text/markdown": [
       "\n",
       "| no_of_neurons | test_error |\n",
       "|---|---|\n",
       "|  20   | 0.349 |\n",
       "|  40   | 0.339 |\n",
       "|  60   | 0.575 |\n",
       "|  80   | 0.541 |\n",
       "| 100   | 0.521 |\n",
       "| 120   | 0.512 |\n",
       "\n"
      ],
      "text/plain": [
       "  no_of_neurons test_error\n",
       "1  20           0.349     \n",
       "2  40           0.339     \n",
       "3  60           0.575     \n",
       "4  80           0.541     \n",
       "5 100           0.521     \n",
       "6 120           0.512     "
      ]
     },
     "metadata": {},
     "output_type": "display_data"
    }
   ],
   "source": [
    "error_df_NN <- data.frame(no_of_neurons=integer(),test_error=double()) # empty dataset\n",
    "NN.objects = vector('list')\n",
    "# neurons = 20\n",
    "options(warn=-1)\n",
    "\n",
    "for (k in seq(20,400,20)) {\n",
    "    \n",
    "    # build a neural network classifier based on the labeled training data\n",
    "    NN.model <- h2o.deeplearning(    \n",
    "    x = 2:ncol(labeled.frame), # select all pixels\n",
    "    y = 1,\n",
    "    training_frame = labeled.frame, # imported file frame\n",
    "    hidden = c(k), # number of layers and their units\n",
    "    epochs = 50, # maximum number of epoches  \n",
    "    activation = 'Tanh', # activation function \n",
    "    autoencoder = FALSE, # is it an autoencoder? No\n",
    "    l2 = 0.1\n",
    "    )\n",
    "    \n",
    "    test.predict <- h2o.predict(NN.model, test.frame)$predict\n",
    "    error = error.rate(test.frame$label, test.predict)\n",
    "    error_df_NN[nrow(error_df_NN) + 1,] = c(k , error)    \n",
    "}\n",
    "head(error_df_NN)"
   ]
  },
  {
   "cell_type": "markdown",
   "metadata": {},
   "source": [
    "5. Build augmented self-taught networks using the models learnt in Step II. For each model:\n",
    "    * Add the output of the middle layer as extra features to the original feature set.\n",
    "    * Train a 3-layer NN (similar to Step IV) using all features (original + extra). Then calculate and record the test error."
   ]
  },
  {
   "cell_type": "markdown",
   "metadata": {},
   "source": [
    "### Self-Taught Augmenetd Network after adding the 'k' code layer features from Auto-encoder Models <br>\n",
    "* h2o.deeplearning() with autoencoder=False is used to develop a 3-Layer NN\n",
    "* We have used l2 regularisation for our model, setting parameter = 0.1\n",
    "* We run the model k times were k is ranging between 20 to 400 with step size of 20. Here, k is the number of neurons.\n",
    "* Code layer features are extarcted from the autoencoder models we build earlier for all k values\n",
    "* These features are added back to the labeled data each time and then passed to the h2o.deeplearning() model\n",
    "* Finally we calculate the error on our test.frame using h2o.predict() function and error.rate() function"
   ]
  },
  {
   "cell_type": "code",
   "execution_count": 10,
   "metadata": {},
   "outputs": [
    {
     "name": "stdout",
     "output_type": "stream",
     "text": [
      "  |======================================================================| 100%\n",
      "  |======================================================================| 100%\n",
      "  |======================================================================| 100%\n",
      "  |======================================================================| 100%\n",
      "  |======================================================================| 100%\n",
      "  |======================================================================| 100%\n",
      "  |======================================================================| 100%\n",
      "  |======================================================================| 100%\n",
      "  |======================================================================| 100%\n",
      "  |======================================================================| 100%\n",
      "  |======================================================================| 100%\n",
      "  |======================================================================| 100%\n",
      "  |======================================================================| 100%\n",
      "  |======================================================================| 100%\n",
      "  |======================================================================| 100%\n",
      "  |======================================================================| 100%\n",
      "  |======================================================================| 100%\n",
      "  |======================================================================| 100%\n",
      "  |======================================================================| 100%\n",
      "  |======================================================================| 100%\n",
      "  |======================================================================| 100%\n",
      "  |======================================================================| 100%\n",
      "  |======================================================================| 100%\n",
      "  |======================================================================| 100%\n",
      "  |======================================================================| 100%\n",
      "  |======================================================================| 100%\n",
      "  |======================================================================| 100%\n",
      "  |======================================================================| 100%\n",
      "  |======================================================================| 100%\n",
      "  |======================================================================| 100%\n",
      "  |======================================================================| 100%\n",
      "  |======================================================================| 100%\n",
      "  |======================================================================| 100%\n",
      "  |======================================================================| 100%\n",
      "  |======================================================================| 100%\n",
      "  |======================================================================| 100%\n",
      "  |======================================================================| 100%\n",
      "  |======================================================================| 100%\n",
      "  |======================================================================| 100%\n",
      "  |======================================================================| 100%\n",
      "  |======================================================================| 100%\n",
      "  |======================================================================| 100%\n",
      "  |======================================================================| 100%\n",
      "  |======================================================================| 100%\n",
      "  |======================================================================| 100%\n",
      "  |======================================================================| 100%\n",
      "  |======================================================================| 100%\n",
      "  |======================================================================| 100%\n",
      "  |======================================================================| 100%\n",
      "  |======================================================================| 100%\n",
      "  |======================================================================| 100%\n",
      "  |======================================================================| 100%\n",
      "  |======================================================================| 100%\n",
      "  |======================================================================| 100%\n",
      "  |======================================================================| 100%\n",
      "  |======================================================================| 100%\n",
      "  |======================================================================| 100%\n",
      "  |======================================================================| 100%\n",
      "  |======================================================================| 100%\n",
      "  |======================================================================| 100%\n"
     ]
    },
    {
     "data": {
      "text/html": [
       "<table>\n",
       "<thead><tr><th scope=col>no_of_neurons</th><th scope=col>test_error_augmented</th></tr></thead>\n",
       "<tbody>\n",
       "\t<tr><td> 20  </td><td>0.322</td></tr>\n",
       "\t<tr><td> 40  </td><td>0.609</td></tr>\n",
       "\t<tr><td> 60  </td><td>0.637</td></tr>\n",
       "\t<tr><td> 80  </td><td>0.593</td></tr>\n",
       "\t<tr><td>100  </td><td>0.565</td></tr>\n",
       "\t<tr><td>120  </td><td>0.609</td></tr>\n",
       "</tbody>\n",
       "</table>\n"
      ],
      "text/latex": [
       "\\begin{tabular}{r|ll}\n",
       " no\\_of\\_neurons & test\\_error\\_augmented\\\\\n",
       "\\hline\n",
       "\t  20   & 0.322\\\\\n",
       "\t  40   & 0.609\\\\\n",
       "\t  60   & 0.637\\\\\n",
       "\t  80   & 0.593\\\\\n",
       "\t 100   & 0.565\\\\\n",
       "\t 120   & 0.609\\\\\n",
       "\\end{tabular}\n"
      ],
      "text/markdown": [
       "\n",
       "| no_of_neurons | test_error_augmented |\n",
       "|---|---|\n",
       "|  20   | 0.322 |\n",
       "|  40   | 0.609 |\n",
       "|  60   | 0.637 |\n",
       "|  80   | 0.593 |\n",
       "| 100   | 0.565 |\n",
       "| 120   | 0.609 |\n",
       "\n"
      ],
      "text/plain": [
       "  no_of_neurons test_error_augmented\n",
       "1  20           0.322               \n",
       "2  40           0.609               \n",
       "3  60           0.637               \n",
       "4  80           0.593               \n",
       "5 100           0.565               \n",
       "6 120           0.609               "
      ]
     },
     "metadata": {},
     "output_type": "display_data"
    }
   ],
   "source": [
    "error_df_NN_augmented <- data.frame(no_of_neurons=integer(),test_error_augmented=double()) # empty dataset\n",
    "NN.objects = vector('list')\n",
    "# neurons = 20\n",
    "autoencoder_model_index = 1\n",
    "options(warn=-1)\n",
    "\n",
    "for (k in seq(20,400,20)) {\n",
    "    \n",
    "    #extra features obtained in h20-frame \n",
    "    project = h2o.deepfeatures(NN.model.objects[[autoencoder_model_index]], labeled.frame, layer=1) \n",
    "    \n",
    "    labeled.frame.augmented = h2o.cbind(labeled.frame,project)\n",
    "    \n",
    "    # build a neural network classifier based on the labeled training data\n",
    "    NN.model <- h2o.deeplearning(    \n",
    "    x = 2:ncol(labeled.frame.augmented), # select all pixels + extra features\n",
    "    y = 1,\n",
    "    training_frame = labeled.frame.augmented, # specify the frame (imported file)    \n",
    "    hidden = c(k), # number of layers (k) and their units\n",
    "    epochs = 50, # maximum number of epoches  \n",
    "    activation = 'Tanh', # activation function \n",
    "    autoencoder = FALSE, # is it an autoencoder?\n",
    "    l2 = 0.1\n",
    "    )\n",
    "    \n",
    "    test.predict <- h2o.predict(NN.model, test.frame)$predict\n",
    "    error = error.rate(test.frame$label, test.predict)\n",
    "    error_df_NN_augmented[nrow(error_df_NN_augmented) + 1,] = c(k , error)\n",
    "    autoencoder_model_index = autoencoder_model_index + 1\n",
    "}\n",
    "head(error_df_NN_augmented)"
   ]
  },
  {
   "cell_type": "markdown",
   "metadata": {},
   "source": [
    "6. Plot the error rates for the 3-layer neural networks from Step IV and the augmented self-taught networks from Step V, while the xaxis is the number of extra features and y-axis is the classification error. Save and attach the plot to your PDF report. In your pdf, explain how the performance of the 3-layer neural networks and the augmented self-taught networks is different and why they are different or why they are not different, based on the plot."
   ]
  },
  {
   "cell_type": "markdown",
   "metadata": {},
   "source": [
    "In order to plot both the augmented and 3-Layer NN errors, we will merge the two dataframes and then use melt function to implememnt the plots"
   ]
  },
  {
   "cell_type": "markdown",
   "metadata": {},
   "source": [
    "### Merge"
   ]
  },
  {
   "cell_type": "code",
   "execution_count": 11,
   "metadata": {},
   "outputs": [],
   "source": [
    "combined_error_df_NN = merge(error_df_NN,error_df_NN_augmented,by='no_of_neurons')"
   ]
  },
  {
   "cell_type": "markdown",
   "metadata": {},
   "source": [
    "### Melt"
   ]
  },
  {
   "cell_type": "code",
   "execution_count": 12,
   "metadata": {},
   "outputs": [],
   "source": [
    "combined_error_df_NN = melt(combined_error_df_NN, id='no_of_neurons')"
   ]
  },
  {
   "cell_type": "markdown",
   "metadata": {},
   "source": [
    "### Error dataframe after merging and melting"
   ]
  },
  {
   "cell_type": "code",
   "execution_count": 13,
   "metadata": {},
   "outputs": [
    {
     "data": {
      "text/html": [
       "<table>\n",
       "<thead><tr><th scope=col>no_of_neurons</th><th scope=col>variable</th><th scope=col>value</th></tr></thead>\n",
       "<tbody>\n",
       "\t<tr><td> 20       </td><td>test_error</td><td>0.349     </td></tr>\n",
       "\t<tr><td> 40       </td><td>test_error</td><td>0.339     </td></tr>\n",
       "\t<tr><td> 60       </td><td>test_error</td><td>0.575     </td></tr>\n",
       "\t<tr><td> 80       </td><td>test_error</td><td>0.541     </td></tr>\n",
       "\t<tr><td>100       </td><td>test_error</td><td>0.521     </td></tr>\n",
       "\t<tr><td>120       </td><td>test_error</td><td>0.512     </td></tr>\n",
       "</tbody>\n",
       "</table>\n"
      ],
      "text/latex": [
       "\\begin{tabular}{r|lll}\n",
       " no\\_of\\_neurons & variable & value\\\\\n",
       "\\hline\n",
       "\t  20          & test\\_error & 0.349       \\\\\n",
       "\t  40          & test\\_error & 0.339       \\\\\n",
       "\t  60          & test\\_error & 0.575       \\\\\n",
       "\t  80          & test\\_error & 0.541       \\\\\n",
       "\t 100          & test\\_error & 0.521       \\\\\n",
       "\t 120          & test\\_error & 0.512       \\\\\n",
       "\\end{tabular}\n"
      ],
      "text/markdown": [
       "\n",
       "| no_of_neurons | variable | value |\n",
       "|---|---|---|\n",
       "|  20        | test_error | 0.349      |\n",
       "|  40        | test_error | 0.339      |\n",
       "|  60        | test_error | 0.575      |\n",
       "|  80        | test_error | 0.541      |\n",
       "| 100        | test_error | 0.521      |\n",
       "| 120        | test_error | 0.512      |\n",
       "\n"
      ],
      "text/plain": [
       "  no_of_neurons variable   value\n",
       "1  20           test_error 0.349\n",
       "2  40           test_error 0.339\n",
       "3  60           test_error 0.575\n",
       "4  80           test_error 0.541\n",
       "5 100           test_error 0.521\n",
       "6 120           test_error 0.512"
      ]
     },
     "metadata": {},
     "output_type": "display_data"
    }
   ],
   "source": [
    "head(combined_error_df_NN)"
   ]
  },
  {
   "cell_type": "markdown",
   "metadata": {},
   "source": [
    "### Plotting"
   ]
  },
  {
   "cell_type": "code",
   "execution_count": 14,
   "metadata": {},
   "outputs": [
    {
     "data": {
      "image/png": "[encoded data removed]",
      "text/plain": [
       "plot without title"
      ]
     },
     "metadata": {},
     "output_type": "display_data"
    }
   ],
   "source": [
    "library(ggplot2)\n",
    "options(repr.plot.width=10, repr.plot.height=8)\n",
    "\n",
    "ggplot(data=combined_error_df_NN, aes(x=no_of_neurons, y=value, color=variable)) + geom_line() + geom_point()+\n",
    "       scale_color_discrete(guide = guide_legend(title = NULL)) + theme_minimal() +\n",
    "       ggtitle(\"Error VS No of neurons in Code Layer for 3-Layer NN and Augmented Self taught Network\")"
   ]
  },
  {
   "cell_type": "markdown",
   "metadata": {},
   "source": [
    "#### Augmented test error vs Classification test error : \n",
    "\n",
    "1. The test error for both the  Models is somewhat same for the  initial values of the neurons i.e. from 30 to 60.\n",
    "\n",
    "2. It can be seen that the augmented  self taught model peroforms better for higher values of neurons. \n",
    "\n",
    "\n",
    "3.  The lowest testing error for AUgmented Self taught is at 30 neurons.\n",
    "\n",
    "4. The lowest testing error for Three Layer Neural network is around 160 Neurons.\n",
    "\n",
    "5. The Augmented Self Taught Learning has highest testing error for just under 60 Neurons.\n",
    "\n",
    "6. The 3 Layer NN Classifier has highest test error for the number of neurons just over 50. \n",
    "\n",
    "7. Hence, for higher Values of Neurons the Augmented Model performs better as opposed to the 3 Layer NN."
   ]
  }
 ],
 "metadata": {
  "kernelspec": {
   "display_name": "R",
   "language": "R",
   "name": "ir"
  },
  "language_info": {
   "codemirror_mode": "r",
   "file_extension": ".r",
   "mimetype": "text/x-r-source",
   "name": "R",
   "pygments_lexer": "r",
   "version": "3.6.1"
  }
 },
 "nbformat": 4,
 "nbformat_minor": 4
}
