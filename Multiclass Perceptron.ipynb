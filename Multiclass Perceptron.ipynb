{
 "cells": [
  {
   "cell_type": "markdown",
   "metadata": {},
   "source": [
    "## Section E. Multiclass Perceptron"
   ]
  },
  {
   "cell_type": "markdown",
   "metadata": {},
   "source": [
    "In this section, you are asked to demonstrate your understanding of linear models\n",
    "for classification. This section assesses your\n",
    "programming, and analytical skills. <br>\n",
    "Background. Assume we have N training examples {(x1,t1),...,(xN,tN)} where tn can\n",
    "get K discrete values {C1, ..., CK}, i.e. a K-class classification problem. We use 𝑦𝑛 to\n",
    "represent the predicted label of 𝑥𝑛\n",
    "Model. To solve a K-class classification problem, we can learn K weight vectors\n",
    "wk, each of which corresponding to one of the classes. <br>\n",
    "Prediction. In the prediction time, a data point x will be classified as argmaxk wk . x\n",
    "6 <br>\n",
    "Training Algorithm. We train the multiclass perceptron based on the following\n",
    "algorithm: <br>\n",
    "• Initialise the weight vectors randomly w1,..,wK <br>\n",
    "• While not converged do:\n",
    "o For n = 1 to N do:\n",
    "▪ y = argmaxk wk . xn <br>\n",
    "▪ If yn != tn do <br>\n",
    "• 𝒘𝑦𝑛 <br>\n",
    ": = 𝒘𝑦𝑛 − η𝒙𝑛\n",
    "• 𝒘𝑡𝑛 <br>\n",
    ": = 𝒘𝑡𝑛 + η𝒙𝑛 <br>\n",
    "In what follows, we look into the convergence properties of the training algorithm\n",
    "for multiclass perceptron (similar to Activity 1 of Module 3)."
   ]
  },
  {
   "cell_type": "code",
   "execution_count": 1,
   "metadata": {},
   "outputs": [
    {
     "name": "stderr",
     "output_type": "stream",
     "text": [
      "Warning message:\n",
      "\"package 'ggplot2' was built under R version 3.6.3\"Warning message:\n",
      "\"package 'reshape2' was built under R version 3.6.3\""
     ]
    }
   ],
   "source": [
    "library(ggplot2)  # for plotting functions.\n",
    "library(reshape2) # for melt and cast functions"
   ]
  },
  {
   "cell_type": "markdown",
   "metadata": {},
   "source": [
    "### Question 6 [Multiclass Perceptron]"
   ]
  },
  {
   "cell_type": "markdown",
   "metadata": {},
   "source": [
    "1. Load Task1D_train.csv and Task1D_test.csv sets."
   ]
  },
  {
   "cell_type": "code",
   "execution_count": 3,
   "metadata": {},
   "outputs": [],
   "source": [
    "train_data = read.csv('Task1D_train.csv')\n",
    "test_data = read.csv('Task1D_test.csv')"
   ]
  },
  {
   "cell_type": "code",
   "execution_count": 4,
   "metadata": {},
   "outputs": [
    {
     "data": {
      "text/html": [
       "<table>\n",
       "<thead><tr><th scope=col>x1</th><th scope=col>x2</th><th scope=col>x3</th><th scope=col>x4</th><th scope=col>y</th></tr></thead>\n",
       "<tbody>\n",
       "\t<tr><td>5.1</td><td>3.5</td><td>1.4</td><td>0.2</td><td>C1 </td></tr>\n",
       "\t<tr><td>4.7</td><td>3.2</td><td>1.3</td><td>0.2</td><td>C1 </td></tr>\n",
       "\t<tr><td>5.0</td><td>3.6</td><td>1.4</td><td>0.2</td><td>C1 </td></tr>\n",
       "</tbody>\n",
       "</table>\n"
      ],
      "text/latex": [
       "\\begin{tabular}{r|lllll}\n",
       " x1 & x2 & x3 & x4 & y\\\\\n",
       "\\hline\n",
       "\t 5.1 & 3.5 & 1.4 & 0.2 & C1 \\\\\n",
       "\t 4.7 & 3.2 & 1.3 & 0.2 & C1 \\\\\n",
       "\t 5.0 & 3.6 & 1.4 & 0.2 & C1 \\\\\n",
       "\\end{tabular}\n"
      ],
      "text/markdown": [
       "\n",
       "| x1 | x2 | x3 | x4 | y |\n",
       "|---|---|---|---|---|\n",
       "| 5.1 | 3.5 | 1.4 | 0.2 | C1  |\n",
       "| 4.7 | 3.2 | 1.3 | 0.2 | C1  |\n",
       "| 5.0 | 3.6 | 1.4 | 0.2 | C1  |\n",
       "\n"
      ],
      "text/plain": [
       "  x1  x2  x3  x4  y \n",
       "1 5.1 3.5 1.4 0.2 C1\n",
       "2 4.7 3.2 1.3 0.2 C1\n",
       "3 5.0 3.6 1.4 0.2 C1"
      ]
     },
     "metadata": {},
     "output_type": "display_data"
    },
    {
     "data": {
      "text/html": [
       "<table>\n",
       "<thead><tr><th scope=col>x1</th><th scope=col>x2</th><th scope=col>x3</th><th scope=col>x4</th><th scope=col>y</th></tr></thead>\n",
       "<tbody>\n",
       "\t<tr><td>4.9</td><td>3.0</td><td>1.4</td><td>0.2</td><td>C1 </td></tr>\n",
       "\t<tr><td>4.6</td><td>3.1</td><td>1.5</td><td>0.2</td><td>C1 </td></tr>\n",
       "\t<tr><td>5.4</td><td>3.9</td><td>1.7</td><td>0.4</td><td>C1 </td></tr>\n",
       "</tbody>\n",
       "</table>\n"
      ],
      "text/latex": [
       "\\begin{tabular}{r|lllll}\n",
       " x1 & x2 & x3 & x4 & y\\\\\n",
       "\\hline\n",
       "\t 4.9 & 3.0 & 1.4 & 0.2 & C1 \\\\\n",
       "\t 4.6 & 3.1 & 1.5 & 0.2 & C1 \\\\\n",
       "\t 5.4 & 3.9 & 1.7 & 0.4 & C1 \\\\\n",
       "\\end{tabular}\n"
      ],
      "text/markdown": [
       "\n",
       "| x1 | x2 | x3 | x4 | y |\n",
       "|---|---|---|---|---|\n",
       "| 4.9 | 3.0 | 1.4 | 0.2 | C1  |\n",
       "| 4.6 | 3.1 | 1.5 | 0.2 | C1  |\n",
       "| 5.4 | 3.9 | 1.7 | 0.4 | C1  |\n",
       "\n"
      ],
      "text/plain": [
       "  x1  x2  x3  x4  y \n",
       "1 4.9 3.0 1.4 0.2 C1\n",
       "2 4.6 3.1 1.5 0.2 C1\n",
       "3 5.4 3.9 1.7 0.4 C1"
      ]
     },
     "metadata": {},
     "output_type": "display_data"
    }
   ],
   "source": [
    "head(train_data,3)\n",
    "head(test_data,3)"
   ]
  },
  {
   "cell_type": "code",
   "execution_count": 6,
   "metadata": {},
   "outputs": [
    {
     "data": {
      "text/html": [
       "<ol class=list-inline>\n",
       "\t<li>'C1'</li>\n",
       "\t<li>'C2'</li>\n",
       "\t<li>'C3'</li>\n",
       "</ol>\n"
      ],
      "text/latex": [
       "\\begin{enumerate*}\n",
       "\\item 'C1'\n",
       "\\item 'C2'\n",
       "\\item 'C3'\n",
       "\\end{enumerate*}\n"
      ],
      "text/markdown": [
       "1. 'C1'\n",
       "2. 'C2'\n",
       "3. 'C3'\n",
       "\n",
       "\n"
      ],
      "text/plain": [
       "[1] \"C1\" \"C2\" \"C3\""
      ]
     },
     "metadata": {},
     "output_type": "display_data"
    }
   ],
   "source": [
    "levels(train_data$y)"
   ]
  },
  {
   "cell_type": "markdown",
   "metadata": {},
   "source": [
    "2. Implement the multiclass perceptron as explained above. Please provide\n",
    "enough comments for your code in your submission."
   ]
  },
  {
   "cell_type": "code",
   "execution_count": 5,
   "metadata": {},
   "outputs": [],
   "source": [
    "train.data = train_data[,-5]   # slicing out the target\n",
    "train.label = train_data[,5]  # training data label\n",
    "test.data = test_data[,-5]   \n",
    "test.label = test_data[,5]\n",
    "\n",
    "# Scale data\n",
    "train.data=scale(train.data) # scales data for better distribution\n",
    "\n",
    "test.data=scale(test.data)\n",
    "\n",
    "train.len = nrow(train_data)\n",
    "test.len = nrow(test_data)"
   ]
  },
  {
   "cell_type": "code",
   "execution_count": 5,
   "metadata": {},
   "outputs": [],
   "source": [
    "# epsilon: Stoping criterion\n",
    "# eta: Learning Rate\n",
    "# tau.max: Maximum number of iterations"
   ]
  },
  {
   "cell_type": "code",
   "execution_count": 11,
   "metadata": {},
   "outputs": [],
   "source": [
    "multi_class_perceptron <- function(train.data, train.label, eta, epsilon=0.001, tau_max=10000) {\n",
    "    \n",
    "    \n",
    "    Phi <- as.matrix(cbind(1, train.data)) # add a column of 1 to training data\n",
    "    T <- train.label # rename just for conviniance\n",
    "    \n",
    "    # Weight vectors for each 3 classes\n",
    "    Weight_1 <- matrix(,nrow=tau_max, ncol=ncol(Phi)) # Empty Weight vector\n",
    "    Weight_2 <- matrix(,nrow=tau_max, ncol=ncol(Phi)) # Empty Weight vector\n",
    "    Weight_3 <- matrix(,nrow=tau_max, ncol=ncol(Phi)) # Empty Weight vector\n",
    "    \n",
    "    Weight_1[1,] <- runif(ncol(Phi)) # Random initial values for weight vector\n",
    "    Weight_2[1,] <- runif(ncol(Phi)) # Random initial values for weight vector\n",
    "    Weight_3[1,] <- runif(ncol(Phi)) # Random initial values for weight vector\n",
    "\n",
    "    error = matrix(,nrow=tau_max, ncol=1) # To store error values\n",
    "\n",
    "    tau <- 1 # iteration counter \n",
    "    terminate <- FALSE # termination status\n",
    "    \n",
    "    \n",
    "    while(!terminate){\n",
    "    \n",
    "    # Shuffle the data\n",
    "    train.index <- sample(1:train.len, replace = FALSE)\n",
    "    Phi <- Phi[train.index,]\n",
    "    T <- T[train.index]\n",
    "    \n",
    "    #For each point...\n",
    "    for (i in train.index){\n",
    "        \n",
    "        # Check the termination creteria\n",
    "        if (tau == tau_max) {break}\n",
    "        \n",
    "        # Calculate the predictions of current models for current point\n",
    "        value1= Weight_1[tau,]%*%Phi[i,]\n",
    "        value2= Weight_2[tau,]%*%Phi[i,]\n",
    "        value3= Weight_3[tau,]%*%Phi[i,]\n",
    "        maximum = max(value1,value2,value3)\n",
    "        \n",
    "        \n",
    "        # If prediction doesn't match with label...\n",
    "        if (value1==maximum && T[i]!=\"C1\"|value2==maximum && T[i]!=\"C2\"|value3==maximum && T[i] !=\"C3\"){\n",
    "            \n",
    "            # Increase iteration counter\n",
    "            tau = tau +1\n",
    "            \n",
    "            # Update coefficients\n",
    "            if (T[i]=='C1' && maximum==value2){\n",
    "                Weight_1[tau,] = Weight_1[tau-1,] + eta*Phi[i,]\n",
    "                Weight_2[tau,] = Weight_2[tau-1,] - eta*Phi[i,]\n",
    "                Weight_3[tau,] = Weight_3[tau-1,]\n",
    "            \n",
    "            }else if (T[i]=='C1' && maximum==value3){\n",
    "                Weight_1[tau,] = Weight_1[tau-1,] + eta*Phi[i,]\n",
    "                Weight_2[tau,] = Weight_2[tau-1,]\n",
    "                Weight_3[tau,] = Weight_3[tau-1,] - eta*Phi[i,]\n",
    "            \n",
    "            }else if (T[i]=='C2' && maximum==value1){\n",
    "                Weight_1[tau,] = Weight_1[tau-1,] - eta*Phi[i,]\n",
    "                Weight_2[tau,] = Weight_2[tau-1,] + eta*Phi[i,]\n",
    "                Weight_3[tau,] = Weight_3[tau-1,]\n",
    "            }else if (T[i]=='C2' && maximum==value3){\n",
    "                Weight_1[tau,] = Weight_1[tau-1,]\n",
    "                Weight_2[tau,] = Weight_2[tau-1,] + eta*Phi[i,]\n",
    "                Weight_3[tau,] = Weight_3[tau-1,] - eta*Phi[i,]\n",
    "            \n",
    "            }else if (T[i]=='C3' && maximum==value2){\n",
    "                Weight_1[tau,] = Weight_1[tau-1,]\n",
    "                Weight_2[tau,] = Weight_2[tau-1,] - eta*Phi[i,]\n",
    "                Weight_3[tau,] = Weight_3[tau-1,] + eta*Phi[i,]\n",
    "                \n",
    "            }else if (T[i]=='C3' && maximum==value1){\n",
    "                Weight_1[tau,] = Weight_1[tau-1,] - eta*Phi[i,]\n",
    "                Weight_2[tau,] = Weight_2[tau-1,]\n",
    "                Weight_3[tau,] = Weight_3[tau-1,] + eta*Phi[i,]\n",
    "               \n",
    "            }\n",
    "         \n",
    "        }        \n",
    "    }\n",
    "    \n",
    "\n",
    "    # Calculate predictions for current models and the error value\n",
    "\n",
    "#     print(Weight_1[tau,])\n",
    "#     print(t(Phi))\n",
    "#     print(t(Weight_1[tau,]%*%t(Phi)))\n",
    "    \n",
    "    predictions_model=as.data.frame(cbind(t(Weight_1[tau,]%*%t(Phi)),t(Weight_2[tau,]%*%t(Phi)),t(Weight_3[tau,]%*%t(Phi))))\n",
    "#     print(predictions_model)\n",
    "    for (row in 1:nrow(predictions_model)){\n",
    "        predictions_model[row,'pred']=paste('C', which.max(predictions_model[row,]),sep = '')\n",
    "    }\n",
    "        \n",
    "        \n",
    "#     print(predictions_model)\n",
    "        \n",
    "    error_percent=1-(sum(predictions_model[,'pred']==T)/nrow(predictions_model))\n",
    "    \n",
    "    \n",
    "    # recalculate termination conditions\n",
    "    terminate <- (tau >= tau_max | (error_percent<=epsilon))\n",
    "    }\n",
    "\n",
    "    # Done, trim the dataframes\n",
    "    Weight_1 <- Weight_1[1:tau,]\n",
    "    Weight_2 <- Weight_2[1:tau,]\n",
    "    Weight_3 <- Weight_3[1:tau,]\n",
    "    \n",
    "    return(list(Weight_1,Weight_2,Weight_3))\n",
    "    \n",
    "}"
   ]
  },
  {
   "cell_type": "code",
   "execution_count": 13,
   "metadata": {},
   "outputs": [],
   "source": [
    "# multi_class_perceptron(train.data, train.label, eta=0.09, epsilon=0.001, tau_max=75)"
   ]
  },
  {
   "cell_type": "code",
   "execution_count": 7,
   "metadata": {},
   "outputs": [],
   "source": [
    "multi_class_prediction <- function(test.data, test.label, Weight_1, Weight_2, Weight_3){\n",
    "    # test data appropriate for multiplication with model parameters\n",
    "    test.Phi <- as.matrix(cbind(1, test.data))\n",
    "\n",
    "    # Data frame to store error values and corresponding batch\n",
    "    error.percentage=data.frame(0,ncol=2)\n",
    "    colnames(error.percentage)=c('Batch','Error Percentage')\n",
    "    \n",
    "    # Initilise batch.no\n",
    "    batch_number=0\n",
    "\n",
    "    # For each batch...\n",
    "    for (batch in seq(5,nrow(Weight_1),5)){\n",
    "\n",
    "        # Calculate batch No\n",
    "        batch_number= batch_number + 1\n",
    "\n",
    "        # Make predictions on entire test data using each W\n",
    "        predictions=as.data.frame(cbind(t(Weight_1[batch,]%*%t(test.Phi)),t(Weight_2[batch,]%*%t(test.Phi)),t(Weight_3[batch,]%*%t(test.Phi))))     \n",
    "\n",
    "        # Classify predicted points\n",
    "        for (row in 1:nrow(predictions)){\n",
    "            predictions[row,'pred']=paste('C', which.max(predictions[row,]),sep = '')\n",
    "        }\n",
    "\n",
    "        # Store Batch no and Ratio of missclassifications\n",
    "        error.percentage[batch_number,1]=batch_number\n",
    "        error.percentage[batch_number,2]=1-(sum(predictions[,'pred']==test.label)/nrow(predictions))\n",
    "\n",
    "}\n",
    "    \n",
    "    return(list(predictions, error.percentage))\n",
    "    \n",
    "}"
   ]
  },
  {
   "cell_type": "markdown",
   "metadata": {},
   "source": [
    "3. Train two multiclass perceptron models on the provided training data by\n",
    "setting the learning rates η to .09 and .01 respectively. Note that all\n",
    "parameter settings stay the same, except the learning rate, when building\n",
    "each model.\n",
    "For each model, evaluate the error of the model on the test data, after\n",
    "processing every 5 training data points (also known as a mini-batch). Then,\n",
    "plot the testing errors of two models built based on the learning rates .09\n",
    "and .01(with different colors) versus the number of mini-batches. Include\n",
    "it in your Jupyter Notebook file for Question 6.\n",
    "Now, explain how the testing errors of two models behave differently, as\n",
    "the training data increases, by observing your plot. (Include all your\n",
    "answers in your Jupyter Notebook file.)\n"
   ]
  },
  {
   "cell_type": "markdown",
   "metadata": {},
   "source": [
    "Now we will make Predictions when learning rate = 0.09"
   ]
  },
  {
   "cell_type": "code",
   "execution_count": 59,
   "metadata": {},
   "outputs": [
    {
     "name": "stdout",
     "output_type": "stream",
     "text": [
      "[[1]]\n",
      "            V1           V2           V3 pred\n",
      "1  -0.61868774 -1.061585056 -3.880426487   C1\n",
      "2  -0.53695979 -1.213690078 -3.866172972   C1\n",
      "3   1.77719845  0.732380574 -2.230125176   C1\n",
      "4   0.35586056 -0.426551933 -3.366184209   C1\n",
      "5  -0.40770578 -0.938205278 -3.853424410   C1\n",
      "6   0.26123138 -0.602458058 -3.395498544   C1\n",
      "7  -0.98500827 -1.792099393 -4.571060373   C1\n",
      "8   3.05609900  1.612189670 -1.742637132   C1\n",
      "9   0.65348527 -0.195586005 -3.147785494   C1\n",
      "10  1.34774817  0.211150347 -2.782621127   C1\n",
      "11  1.14606531  0.116360112 -2.733427479   C1\n",
      "12  0.27801686 -0.299397843 -2.820811022   C1\n",
      "13 -0.54812540 -0.902158135 -3.675280006   C1\n",
      "14  0.68811010 -0.096007329 -3.164351267   C1\n",
      "15 -0.24737529 -0.956803764 -3.640899336   C1\n",
      "16  0.61699393  0.044956806 -2.864131030   C1\n",
      "17  2.43295227  1.064489183 -2.408021737   C1\n",
      "18 -0.12867926 -0.764418437 -3.787417146   C1\n",
      "19  0.72460144 -0.336550140 -3.448005732   C1\n",
      "20  0.40782470 -0.324304099 -3.313429178   C1\n",
      "21 -2.40745383 -2.350249788 -4.696385969   C2\n",
      "22  0.70003456 -0.146878647 -2.611599488   C1\n",
      "23 -0.64401346 -1.132574188 -3.787664988   C1\n",
      "24 -0.31793762 -1.116230686 -3.846045816   C1\n",
      "25  0.11824020 -0.581190413 -3.538702815   C1\n",
      "26  1.25198823  2.016869303  1.357327085   C2\n",
      "27 -1.37035271 -0.243266751 -0.656385797   C2\n",
      "28 -0.07832262  0.734421317  0.311717293   C2\n",
      "29 -1.59882519 -1.024607729 -1.846512761   C2\n",
      "30 -0.59562075 -0.043145350 -0.360038562   C2\n",
      "31  0.50762772  1.167763630  0.672318997   C2\n",
      "32  0.40309180  1.357899378  0.916968274   C2\n",
      "33  1.14362187  2.137715624  1.197557042   C2\n",
      "34 -0.37179137  0.502485935 -0.473183045   C2\n",
      "35 -0.92432196  0.019972009 -0.778213788   C2\n",
      "36  0.08303845  1.000464934  0.141758788   C2\n",
      "37  0.12149372  1.169333039  0.529612336   C2\n",
      "38  0.86333647  1.909418853  1.048479131   C2\n",
      "39  1.05101042  2.276980055  1.994958099   C2\n",
      "40 -0.70787136  0.102651902 -1.079435307   C2\n",
      "41 -1.24984397 -0.296762551 -1.225199678   C2\n",
      "42 -0.01504165  1.180429250  1.267383441   C3\n",
      "43  1.52741262  1.891234541  1.484469254   C2\n",
      "44 -0.91744321  0.689074096  0.070437346   C2\n",
      "45 -0.91371018  0.008831122 -0.463740036   C2\n",
      "46  0.62211397  1.455358771  0.937095430   C2\n",
      "47 -1.77518231 -1.048408832 -1.890080612   C2\n",
      "48  0.32378421  0.869491857  0.130259350   C2\n",
      "49  0.39122114  1.314530336  0.519423875   C2\n",
      "50 -0.11551901  0.620063142  0.006934392   C2\n",
      "51 -0.03905470  1.069709687  1.598422967   C3\n",
      "52  0.69726560  1.944735746  2.290305977   C3\n",
      "53  1.77402687  3.779678067  4.270951090   C3\n",
      "54  1.28200067  3.167340893  3.351226357   C3\n",
      "55  2.99615606  4.109067436  4.838955742   C3\n",
      "56  0.29132833  1.740375778  2.067344599   C3\n",
      "57 -0.53032205  0.718033138  1.422342979   C3\n",
      "58  1.53948829  2.495655266  3.131025117   C3\n",
      "59  3.68849864  4.950165636  5.316001420   C3\n",
      "60 -1.19258548  0.490336324  0.564056784   C3\n",
      "61  0.09337851  0.965342569  1.582360865   C3\n",
      "62  0.17552939  1.492511068  1.564290139   C3\n",
      "63  1.88710303  3.357471236  3.358852793   C3\n",
      "64  0.75656491  1.666162208  1.747748720   C3\n",
      "65  1.35858548  2.985676873  2.722782523   C2\n",
      "66  3.71125280  5.006375269  4.901891247   C2\n",
      "67  0.34253362  1.581962987  1.376454884   C2\n",
      "68  1.83277234  3.801495585  4.233760552   C3\n",
      "69  1.19657317  2.270491909  2.459511043   C3\n",
      "70  1.52701000  2.846917640  3.083640056   C3\n",
      "71  1.55238953  2.823666412  3.146085938   C3\n",
      "72  1.80313943  3.076183864  3.799219590   C3\n",
      "73  1.22943908  2.521711352  3.020448722   C3\n",
      "74  1.04559557  2.223439579  2.478389075   C3\n",
      "75  0.67123482  1.518845628  1.794630110   C3\n",
      "\n",
      "[[2]]\n",
      "   Batch Error Percentage\n",
      "1      1       1.00000000\n",
      "2      2       0.49333333\n",
      "3      3       0.18666667\n",
      "4      4       0.14666667\n",
      "5      5       0.14666667\n",
      "6      6       0.08000000\n",
      "7      7       0.20000000\n",
      "8      8       0.10666667\n",
      "9      9       0.13333333\n",
      "10    10       0.12000000\n",
      "11    11       0.02666667\n",
      "12    12       0.09333333\n",
      "13    13       0.17333333\n",
      "14    14       0.04000000\n",
      "15    15       0.06666667\n",
      "\n"
     ]
    }
   ],
   "source": [
    "set.seed(123)\n",
    "# Train the model\n",
    "model_coefficients = multi_class_perceptron(train.data, train.label, eta=0.09, epsilon=0.001, tau_max=75)\n",
    "Weight_1 = as.matrix(as.data.frame(model_coefficients[1]))\n",
    "Weight_2 = as.matrix(as.data.frame(model_coefficients[2]))\n",
    "Weight_3 = as.matrix(as.data.frame(model_coefficients[3]))\n",
    "\n",
    "# Make predictions\n",
    "voted = multi_class_prediction(test.data, test.label, Weight_1, Weight_2, Weight_3)\n",
    "print(voted)\n",
    "predictions = voted[1]\n",
    "error.percentage = voted[2]"
   ]
  },
  {
   "cell_type": "markdown",
   "metadata": {},
   "source": [
    "Now we will make Predictions when learning rate = 0.01"
   ]
  },
  {
   "cell_type": "code",
   "execution_count": 60,
   "metadata": {},
   "outputs": [
    {
     "name": "stdout",
     "output_type": "stream",
     "text": [
      "[[1]]\n",
      "           V1          V2           V3 pred\n",
      "1  -1.7077611 -1.88707545 -1.965862703   C1\n",
      "2  -1.7069319 -1.92139560 -1.988495336   C1\n",
      "3   0.2450467 -0.01817667  0.052583816   C1\n",
      "4  -0.9932472 -1.21818904 -1.225439346   C1\n",
      "5  -1.5993308 -1.77922404 -1.820780674   C1\n",
      "6  -1.0867831 -1.32167458 -1.328267522   C1\n",
      "7  -2.2422435 -2.49668383 -2.609240717   C1\n",
      "8   1.1499953  0.81788441  0.957771801   C1\n",
      "9  -0.7284090 -0.97526237 -0.986214850   C1\n",
      "10 -0.2312857 -0.51717290 -0.475263996   C1\n",
      "11 -0.3102265 -0.58687830 -0.573897240   C1\n",
      "12 -0.7978219 -1.00023517 -1.044134983   C1\n",
      "13 -1.5872692 -1.73996767 -1.798326653   C1\n",
      "14 -0.7143438 -0.93657635 -0.921328363   C1\n",
      "15 -1.4600517 -1.67245266 -1.712574048   C1\n",
      "16 -0.5933220 -0.79437446 -0.814483868   C1\n",
      "17  0.5318502  0.21759305  0.339976453   C1\n",
      "18 -1.3934717 -1.61258937 -1.674453747   C1\n",
      "19 -0.8494308 -1.11746426 -1.093059344   C1\n",
      "20 -0.9317344 -1.14737327 -1.150800866   C1\n",
      "21 -2.9975099 -3.11807688 -3.338502790   C1\n",
      "22 -0.5001313 -0.75895888 -0.799353424   C1\n",
      "23 -1.6923368 -1.88761547 -1.984300405   C1\n",
      "24 -1.5805436 -1.81956044 -1.880110098   C1\n",
      "25 -1.1786147 -1.39631621 -1.426722154   C1\n",
      "26  1.4410453  1.55123433  1.633905000   C3\n",
      "27 -0.8167927 -0.67721954 -0.775993009   C2\n",
      "28  0.2330702  0.35504781  0.379697990   C3\n",
      "29 -1.4672297 -1.43998229 -1.562733698   C2\n",
      "30 -0.3303718 -0.29761248 -0.370820365   C2\n",
      "31  0.7332570  0.80275515  0.811698199   C3\n",
      "32  0.7709154  0.92485981  0.982184282   C3\n",
      "33  1.3632790  1.51527872  1.600336854   C3\n",
      "34 -0.2100646 -0.07752885 -0.054895028   C3\n",
      "35 -0.6268879 -0.50513896 -0.550536825   C2\n",
      "36  0.3316733  0.44758086  0.446007986   C2\n",
      "37  0.4611632  0.64432715  0.714948702   C3\n",
      "38  1.1458883  1.30448180  1.370864351   C3\n",
      "39  1.6151499  1.81500085  1.892797877   C3\n",
      "40 -0.6043927 -0.51720181 -0.563060241   C2\n",
      "41 -0.9801949 -0.86250365 -0.929107677   C2\n",
      "42  0.6694793  0.86721724  0.896074453   C3\n",
      "43  1.5836872  1.61820931  1.701219904   C3\n",
      "44 -0.2067324  0.04189064  0.006909972   C2\n",
      "45 -0.5050369 -0.39725723 -0.466324964   C2\n",
      "46  0.8973037  1.02669496  1.090569520   C3\n",
      "47 -1.5615948 -1.50914768 -1.642929240   C2\n",
      "48  0.3794202  0.45029636  0.493818903   C3\n",
      "49  0.6375327  0.77281581  0.814826844   C3\n",
      "50  0.1151119  0.20246379  0.193902850   C2\n",
      "51  0.7772652  0.93641295  0.915399829   C2\n",
      "52  1.4670955  1.69090839  1.774303421   C3\n",
      "53  2.9483463  3.34378186  3.532527872   C3\n",
      "54  2.2886501  2.66608813  2.845829718   C3\n",
      "55  3.7978633  3.99077870  4.155537278   C3\n",
      "56  1.2053208  1.43759958  1.456128280   C3\n",
      "57  0.4514442  0.61776462  0.540845296   C2\n",
      "58  2.2924588  2.41860837  2.455101508   C3\n",
      "59  4.3633090  4.64286864  4.948488099   C3\n",
      "60 -0.2163369  0.05888970  0.019254775   C2\n",
      "61  0.8280755  0.92874631  0.884260100   C2\n",
      "62  0.9489127  1.14392404  1.139493881   C2\n",
      "63  2.6063023  2.90077781  3.096346952   C3\n",
      "64  1.2935209  1.42223597  1.454718989   C3\n",
      "65  2.0816931  2.40397199  2.581379779   C3\n",
      "66  4.2439915  4.52951066  4.846017147   C3\n",
      "67  0.9329584  1.14936996  1.218623138   C3\n",
      "68  3.0162854  3.36441911  3.487323984   C3\n",
      "69  1.8108745  2.00354047  2.112161162   C3\n",
      "70  2.3197600  2.53030057  2.607507114   C3\n",
      "71  2.3851655  2.55641405  2.580562316   C3\n",
      "72  2.7154473  2.93074748  3.032348139   C3\n",
      "73  2.1357517  2.31294736  2.322900118   C3\n",
      "74  1.7819148  1.96048857  2.005020822   C3\n",
      "75  1.2294745  1.35689644  1.398339599   C3\n",
      "\n",
      "[[2]]\n",
      "   Batch Error Percentage\n",
      "1      1        1.0000000\n",
      "2      2        1.0000000\n",
      "3      3        0.9866667\n",
      "4      4        0.9866667\n",
      "5      5        0.8533333\n",
      "6      6        0.8666667\n",
      "7      7        0.6933333\n",
      "8      8        0.6666667\n",
      "9      9        0.6666667\n",
      "10    10        0.4800000\n",
      "11    11        0.3600000\n",
      "12    12        0.3333333\n",
      "13    13        0.3600000\n",
      "14    14        0.4266667\n",
      "15    15        0.2533333\n",
      "\n"
     ]
    }
   ],
   "source": [
    "set.seed(123)\n",
    "# Train the model\n",
    "model_coefficients_1 = multi_class_perceptron(train.data, train.label, eta=0.01, epsilon=0.001, tau_max=75)\n",
    "Weight_1 = as.matrix(as.data.frame(model_coefficients_1[1]))\n",
    "Weight_2 = as.matrix(as.data.frame(model_coefficients_1[2]))\n",
    "Weight_3 = as.matrix(as.data.frame(model_coefficients_1[3]))\n",
    "\n",
    "# Make predictions\n",
    "voted_1 = multi_class_prediction(test.data, test.label, Weight_1, Weight_2, Weight_3)\n",
    "print(voted_1)\n",
    "predictions_1 = voted_1[1]\n",
    "error.percentage_1 = voted_1[2]"
   ]
  },
  {
   "cell_type": "markdown",
   "metadata": {},
   "source": [
    "Now we will convert the convert both the lists returned above into dataframe and rename columns for our understanding"
   ]
  },
  {
   "cell_type": "code",
   "execution_count": 10,
   "metadata": {},
   "outputs": [],
   "source": [
    "batch_data_0.01 = as.data.frame(error.percentage_1)\n",
    "names(batch_data_0.01) <- c('Batch','batch_err_0.01')"
   ]
  },
  {
   "cell_type": "code",
   "execution_count": 11,
   "metadata": {},
   "outputs": [],
   "source": [
    "batch_data_0.09 = as.data.frame(error.percentage)\n",
    "names(batch_data_0.09) <- c('Batch','batch_err_0.09')"
   ]
  },
  {
   "cell_type": "markdown",
   "metadata": {},
   "source": [
    "We will now be concatenating the data for further visualization and then using the melt function for reshaping our data."
   ]
  },
  {
   "cell_type": "code",
   "execution_count": 12,
   "metadata": {},
   "outputs": [],
   "source": [
    "error_miss = data.frame('Batch'=batch_data_0.01$Batch,'error_0.01'=batch_data_0.01$batch_err_0.01,'error_0.09'= batch_data_0.09$batch_err_0.09)"
   ]
  },
  {
   "cell_type": "code",
   "execution_count": 13,
   "metadata": {},
   "outputs": [],
   "source": [
    "error.m_1=melt(error_miss, id='Batch')"
   ]
  },
  {
   "cell_type": "markdown",
   "metadata": {},
   "source": [
    "#### Plotting errors with learning rate 0.01 and 0.09"
   ]
  },
  {
   "cell_type": "code",
   "execution_count": 14,
   "metadata": {},
   "outputs": [
    {
     "data": {
      "image/png": "[encoded data removed]",
      "text/plain": [
       "plot without title"
      ]
     },
     "metadata": {},
     "output_type": "display_data"
    }
   ],
   "source": [
    "options(repr.plot.width=14, repr.plot.height=8)\n",
    "# Plot Batch no vs Missclassification Ratio\n",
    "\n",
    "\n",
    "ggplot(data=error.m_1, aes(x=Batch, y=value, color=variable)) + geom_line() + geom_point()+\n",
    "       scale_color_discrete(guide = guide_legend(title = NULL)) + theme_minimal() +\n",
    "       ggtitle(\"Error rate VS batches with Learning rates 0.01 and 0.09\")"
   ]
  },
  {
   "cell_type": "markdown",
   "metadata": {},
   "source": [
    "#### Observations from the plot : <br>\n",
    "\n",
    "* Batch label 1 corresponds to 5 data points, batch label 2 to 10 data points, batch label 3 to 15 data points and so on. In each case i.e 5th, 10th or data points, the optimised weights at that point are considered for training our data.\n",
    "\n",
    "* We can see that when optimisation level or max iteration is higher the errors for both the learning curves decreases. This is mainly due to higher optimisation of the weights.\n",
    "\n",
    "**Learning Rate** <br>\n",
    "\n",
    "* Plot shows learning rates 0.01 and 0.09 vs batch. \n",
    "* For learning rate = 0.01, the model descent is at a lower pace and our weights are optimsed at a slower rate. The error rate hence is gradually decreasin.\n",
    "\n",
    "* For learning rate = 0.09, the model descent is much higher and our weights are optimised at a higher rate. The error rate hence decreases abruptly as compared to the learning rate = 0.01."
   ]
  }
 ],
 "metadata": {
  "kernelspec": {
   "display_name": "R",
   "language": "R",
   "name": "ir"
  },
  "language_info": {
   "codemirror_mode": "r",
   "file_extension": ".r",
   "mimetype": "text/x-r-source",
   "name": "R",
   "pygments_lexer": "r",
   "version": "3.6.1"
  }
 },
 "nbformat": 4,
 "nbformat_minor": 4
}
