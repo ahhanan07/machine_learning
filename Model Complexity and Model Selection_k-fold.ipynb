{
 "cells": [
  {
   "cell_type": "markdown",
   "metadata": {},
   "source": [
    "## Section A. Model Complexity and Model Selection"
   ]
  },
  {
   "cell_type": "markdown",
   "metadata": {},
   "source": [
    "### Question 2"
   ]
  },
  {
   "cell_type": "markdown",
   "metadata": {},
   "source": [
    "1. A special case of K-Fold cross-validation is Leave-One-Out cross- validation\n",
    "where K (i.e., the number of folds/subsets) is equal to the size of the\n",
    "training dataset. In each iteration, one training data point is used as the\n",
    "validation set. Implement a Leave-One-Out cross-validation (CV) function\n",
    "for your KNN regressor:\n",
    "**cv(train.data, train.label, K, numFold=?)**\n",
    " which takes the training data and their labels (continuous values), K\n",
    "value, the number of folds, and returns errors for different folds of the\n",
    "training data."
   ]
  },
  {
   "cell_type": "code",
   "execution_count": 1,
   "metadata": {},
   "outputs": [],
   "source": [
    "# KNN function\n",
    "knn_2 <- function(train.data, train.label, test.data, K){\n",
    "    ## count number of train samples\n",
    "    train.len <- nrow(train.data)\n",
    "    \n",
    "    ## count number of test samples\n",
    "    test.len <- nrow(test.data)\n",
    "    ## calculate distances between samples\n",
    "    dist <- as.matrix(dist(rbind(test.data, train.data), method= 'manhattan'))[1:test.len, (test.len+1):(test.len+train.len),drop=FALSE]\n",
    "    prediction_df = c()\n",
    "    \n",
    "    ## for each test sample\n",
    "    for (i in 1:test.len){\n",
    "        ### find its K nearest neighbours from training sampels\n",
    "        nn <- as.data.frame(sort(dist[i,], index.return = TRUE))[1:K,2]\n",
    "        average = sum(train.label[nn])/K\n",
    "        prediction_df[i] <- average\n",
    "    }\n",
    "    \n",
    "    ## return the class labels as output\n",
    "    return (prediction_df)\n",
    "}"
   ]
  },
  {
   "cell_type": "code",
   "execution_count": 2,
   "metadata": {},
   "outputs": [],
   "source": [
    "#LOOCV function\n",
    "cv_1 <- function(train.data, train.label,K,numFold=nrow(train.data)) {\n",
    "    error_k_fold = c()\n",
    "    for (i in 1:numFold){\n",
    "        validation_data = train.data[i,1,drop=FALSE]\n",
    "        validation_label = train.label[i]\n",
    "        training_data = train.data[-i,1,drop=FALSE]\n",
    "        rownames(training_data) <- 1:nrow(training_data)\n",
    "        training_label = train.label[-i]\n",
    "\n",
    "        prediction = knn_2(training_data, training_label, validation_data,K)\n",
    "        error = abs(validation_label  - prediction)\n",
    "        \n",
    "        \n",
    "        error_k_fold[i] <- error\n",
    "    }\n",
    "    \n",
    "    return (error_k_fold)\n",
    "}"
   ]
  },
  {
   "cell_type": "markdown",
   "metadata": {},
   "source": [
    "2. Using the training data in Question 1, run your Leave-One-Out CV. Change\n",
    "the value of K=1,..,15 in your KNN regressor, and for each K compute the\n",
    "average of error values you have got for folds. Plot the average of error\n",
    "values versus 1/K for K=1,..,15 in your KNN regressor. Save the plot in your\n",
    "Jupyter Notebook file for Question 2."
   ]
  },
  {
   "cell_type": "markdown",
   "metadata": {},
   "source": [
    "Reading train and test data"
   ]
  },
  {
   "cell_type": "code",
   "execution_count": 3,
   "metadata": {},
   "outputs": [],
   "source": [
    "train_A = read.csv('Task1A_train.csv')\n",
    "test_A = read.csv('Task1A_test.csv')"
   ]
  },
  {
   "cell_type": "code",
   "execution_count": 4,
   "metadata": {},
   "outputs": [
    {
     "name": "stdout",
     "output_type": "stream",
     "text": [
      "Train data"
     ]
    },
    {
     "data": {
      "text/html": [
       "<table>\n",
       "<thead><tr><th scope=col>x1</th></tr></thead>\n",
       "<tbody>\n",
       "\t<tr><td>1960.0</td></tr>\n",
       "\t<tr><td>1960.5</td></tr>\n",
       "\t<tr><td>1961.0</td></tr>\n",
       "</tbody>\n",
       "</table>\n"
      ],
      "text/latex": [
       "\\begin{tabular}{r|l}\n",
       " x1\\\\\n",
       "\\hline\n",
       "\t 1960.0\\\\\n",
       "\t 1960.5\\\\\n",
       "\t 1961.0\\\\\n",
       "\\end{tabular}\n"
      ],
      "text/markdown": [
       "\n",
       "| x1 |\n",
       "|---|\n",
       "| 1960.0 |\n",
       "| 1960.5 |\n",
       "| 1961.0 |\n",
       "\n"
      ],
      "text/plain": [
       "  x1    \n",
       "1 1960.0\n",
       "2 1960.5\n",
       "3 1961.0"
      ]
     },
     "metadata": {},
     "output_type": "display_data"
    },
    {
     "name": "stdout",
     "output_type": "stream",
     "text": [
      "Train Label"
     ]
    },
    {
     "data": {
      "text/html": [
       "<ol class=list-inline>\n",
       "\t<li>0.71</li>\n",
       "\t<li>0.85</li>\n",
       "\t<li>0.61</li>\n",
       "</ol>\n"
      ],
      "text/latex": [
       "\\begin{enumerate*}\n",
       "\\item 0.71\n",
       "\\item 0.85\n",
       "\\item 0.61\n",
       "\\end{enumerate*}\n"
      ],
      "text/markdown": [
       "1. 0.71\n",
       "2. 0.85\n",
       "3. 0.61\n",
       "\n",
       "\n"
      ],
      "text/plain": [
       "[1] 0.71 0.85 0.61"
      ]
     },
     "metadata": {},
     "output_type": "display_data"
    },
    {
     "name": "stdout",
     "output_type": "stream",
     "text": [
      "Test data"
     ]
    },
    {
     "data": {
      "text/html": [
       "<table>\n",
       "<thead><tr><th scope=col>x1</th></tr></thead>\n",
       "<tbody>\n",
       "\t<tr><td>1960.25</td></tr>\n",
       "\t<tr><td>1960.75</td></tr>\n",
       "\t<tr><td>1961.25</td></tr>\n",
       "</tbody>\n",
       "</table>\n"
      ],
      "text/latex": [
       "\\begin{tabular}{r|l}\n",
       " x1\\\\\n",
       "\\hline\n",
       "\t 1960.25\\\\\n",
       "\t 1960.75\\\\\n",
       "\t 1961.25\\\\\n",
       "\\end{tabular}\n"
      ],
      "text/markdown": [
       "\n",
       "| x1 |\n",
       "|---|\n",
       "| 1960.25 |\n",
       "| 1960.75 |\n",
       "| 1961.25 |\n",
       "\n"
      ],
      "text/plain": [
       "  x1     \n",
       "1 1960.25\n",
       "2 1960.75\n",
       "3 1961.25"
      ]
     },
     "metadata": {},
     "output_type": "display_data"
    }
   ],
   "source": [
    "#slicing data for model\n",
    "\n",
    "train_data_A = train_A[1:1]\n",
    "cat(\"Train data\")\n",
    "head(train_data_A,3)\n",
    "cat(\"Train Label\")\n",
    "train_label_A = train_A[,2]\n",
    "head(train_label_A,3)\n",
    "cat(\"Test data\")\n",
    "test_data_A = test_A[1:1]\n",
    "head(test_data_A,3)"
   ]
  },
  {
   "cell_type": "code",
   "execution_count": 5,
   "metadata": {},
   "outputs": [],
   "source": [
    "#LOOCV function\n",
    "cv_2 <- function(train.data, train.label,K,numFold) {\n",
    "    error_k_fold = c()\n",
    "    for (i in 1:numFold){\n",
    "        validation_data = train.data[i,1,drop=FALSE]\n",
    "        validation_label = train.label[i]\n",
    "        training_data = train.data[-i,1,drop=FALSE]\n",
    "        rownames(training_data) <- 1:nrow(training_data)\n",
    "        training_label = train.label[-i]\n",
    "\n",
    "        prediction = knn_2(training_data, training_label, validation_data,K)\n",
    "        error = abs(validation_label  - prediction)\n",
    "        \n",
    "        \n",
    "        error_k_fold[i] <- error\n",
    "    }\n",
    "    \n",
    "    return (error_k_fold)\n",
    "}"
   ]
  },
  {
   "cell_type": "code",
   "execution_count": 6,
   "metadata": {},
   "outputs": [
    {
     "data": {
      "text/html": [
       "<table>\n",
       "<thead><tr><th scope=col>k_fold</th><th scope=col>error</th></tr></thead>\n",
       "<tbody>\n",
       "\t<tr><td>1        </td><td>0.4911905</td></tr>\n",
       "\t<tr><td>2        </td><td>0.3934524</td></tr>\n",
       "\t<tr><td>3        </td><td>0.3615873</td></tr>\n",
       "\t<tr><td>4        </td><td>0.3113690</td></tr>\n",
       "\t<tr><td>5        </td><td>0.3819524</td></tr>\n",
       "\t<tr><td>6        </td><td>0.4253571</td></tr>\n",
       "</tbody>\n",
       "</table>\n"
      ],
      "text/latex": [
       "\\begin{tabular}{r|ll}\n",
       " k\\_fold & error\\\\\n",
       "\\hline\n",
       "\t 1         & 0.4911905\\\\\n",
       "\t 2         & 0.3934524\\\\\n",
       "\t 3         & 0.3615873\\\\\n",
       "\t 4         & 0.3113690\\\\\n",
       "\t 5         & 0.3819524\\\\\n",
       "\t 6         & 0.4253571\\\\\n",
       "\\end{tabular}\n"
      ],
      "text/markdown": [
       "\n",
       "| k_fold | error |\n",
       "|---|---|\n",
       "| 1         | 0.4911905 |\n",
       "| 2         | 0.3934524 |\n",
       "| 3         | 0.3615873 |\n",
       "| 4         | 0.3113690 |\n",
       "| 5         | 0.3819524 |\n",
       "| 6         | 0.4253571 |\n",
       "\n"
      ],
      "text/plain": [
       "  k_fold error    \n",
       "1 1      0.4911905\n",
       "2 2      0.3934524\n",
       "3 3      0.3615873\n",
       "4 4      0.3113690\n",
       "5 5      0.3819524\n",
       "6 6      0.4253571"
      ]
     },
     "metadata": {},
     "output_type": "display_data"
    }
   ],
   "source": [
    "k_cv = c() #vector to store fold numbers\n",
    "error <- c() # vector to store errors respective to each fold\n",
    "for (k in 1:15) {\n",
    "    \n",
    "    error_k = cv_2(train_data_A,train_label_A,k,nrow(train_data_A))\n",
    "    mean_error_k = mean(error_k)\n",
    "    k_cv[k] <- k\n",
    "    error[k] <- mean_error_k\n",
    "}\n",
    "\n",
    "knn_error_df = data.frame(k_fold = k_cv,error =error)\n",
    "head(knn_error_df)"
   ]
  },
  {
   "cell_type": "code",
   "execution_count": 7,
   "metadata": {},
   "outputs": [
    {
     "name": "stderr",
     "output_type": "stream",
     "text": [
      "Warning message:\n",
      "\"package 'reshape2' was built under R version 3.6.3\"Warning message:\n",
      "\"package 'ggplot2' was built under R version 3.6.3\""
     ]
    },
    {
     "data": {
      "text/html": [
       "<table>\n",
       "<thead><tr><th scope=col>K</th><th scope=col>error</th><th scope=col>error_value</th></tr></thead>\n",
       "<tbody>\n",
       "\t<tr><td>1        </td><td>error    </td><td>0.4911905</td></tr>\n",
       "\t<tr><td>2        </td><td>error    </td><td>0.3934524</td></tr>\n",
       "\t<tr><td>3        </td><td>error    </td><td>0.3615873</td></tr>\n",
       "\t<tr><td>4        </td><td>error    </td><td>0.3113690</td></tr>\n",
       "\t<tr><td>5        </td><td>error    </td><td>0.3819524</td></tr>\n",
       "\t<tr><td>6        </td><td>error    </td><td>0.4253571</td></tr>\n",
       "</tbody>\n",
       "</table>\n"
      ],
      "text/latex": [
       "\\begin{tabular}{r|lll}\n",
       " K & error & error\\_value\\\\\n",
       "\\hline\n",
       "\t 1         & error     & 0.4911905\\\\\n",
       "\t 2         & error     & 0.3934524\\\\\n",
       "\t 3         & error     & 0.3615873\\\\\n",
       "\t 4         & error     & 0.3113690\\\\\n",
       "\t 5         & error     & 0.3819524\\\\\n",
       "\t 6         & error     & 0.4253571\\\\\n",
       "\\end{tabular}\n"
      ],
      "text/markdown": [
       "\n",
       "| K | error | error_value |\n",
       "|---|---|---|\n",
       "| 1         | error     | 0.4911905 |\n",
       "| 2         | error     | 0.3934524 |\n",
       "| 3         | error     | 0.3615873 |\n",
       "| 4         | error     | 0.3113690 |\n",
       "| 5         | error     | 0.3819524 |\n",
       "| 6         | error     | 0.4253571 |\n",
       "\n"
      ],
      "text/plain": [
       "  K error error_value\n",
       "1 1 error 0.4911905  \n",
       "2 2 error 0.3934524  \n",
       "3 3 error 0.3615873  \n",
       "4 4 error 0.3113690  \n",
       "5 5 error 0.3819524  \n",
       "6 6 error 0.4253571  "
      ]
     },
     "metadata": {},
     "output_type": "display_data"
    },
    {
     "data": {
      "image/png": "[encoded data removed]",
      "text/plain": [
       "plot without title"
      ]
     },
     "metadata": {},
     "output_type": "display_data"
    }
   ],
   "source": [
    "# install.packages(\"reshape2\")\n",
    "library(reshape2)\n",
    "library(ggplot2)\n",
    "\n",
    "miss.m <- melt(knn_error_df, id='k_fold') # reshape for visualization\n",
    "names(miss.m) <- c('K', 'error', 'error_value')\n",
    "head(miss.m)\n",
    "#plotting error vs 1/K\n",
    "ggplot(data=miss.m, aes(x=1/K, y=error_value)) + geom_line() +\n",
    "       scale_color_discrete(guide = guide_legend(title = NULL)) + theme_minimal() + ggtitle(\"       Mean error vs 1/K\")"
   ]
  },
  {
   "cell_type": "markdown",
   "metadata": {},
   "source": [
    "3. Report (in your Jupyter Notebook file) the optimum value for K based on\n",
    "your plot for this Leave-One-Out cross validation in the previous part (Part\n",
    "II). <br>\n",
    "<br>"
   ]
  },
  {
   "cell_type": "markdown",
   "metadata": {},
   "source": [
    "\n",
    "The optimum value for k is 4, as it corresponds to the lowest mean error from the LOOCV function"
   ]
  }
 ],
 "metadata": {
  "kernelspec": {
   "display_name": "R",
   "language": "R",
   "name": "ir"
  },
  "language_info": {
   "codemirror_mode": "r",
   "file_extension": ".r",
   "mimetype": "text/x-r-source",
   "name": "R",
   "pygments_lexer": "r",
   "version": "3.6.1"
  }
 },
 "nbformat": 4,
 "nbformat_minor": 4
}
