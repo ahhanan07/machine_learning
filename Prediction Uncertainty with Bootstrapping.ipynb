{
 "cells": [
  {
   "cell_type": "markdown",
   "metadata": {},
   "source": [
    "## Section B. Prediction Uncertainty with Bootstrapping\n"
   ]
  },
  {
   "cell_type": "markdown",
   "metadata": {},
   "source": [
    "### Question 3 Bootstrapping\n"
   ]
  },
  {
   "cell_type": "markdown",
   "metadata": {},
   "source": [
    "1. bootstrapping for KNN regression <br> \n",
    "\n",
    "\n",
    "2. Load Task1B_train.csv and Task1B_test.csv sets. Apply your\n",
    "bootstrapping for KNN regression with times = 50 (the number of subsets),\n",
    "size = 20 (the size of each subset), and change K=1,.., 15 (the neighbourhood\n",
    "size). Now create a boxplot where the x-axis is K, and the y-axis is the\n",
    "average error (and the uncertainty around it) corresponding to each K.\n",
    "Save the plot in your Jupyter Notebook file for Question 3."
   ]
  },
  {
   "cell_type": "markdown",
   "metadata": {},
   "source": [
    "**I have modified the KNN regression to handle bootstaping and loading data and applied model below:**"
   ]
  },
  {
   "cell_type": "markdown",
   "metadata": {},
   "source": [
    "Let's load the datasets and have a peek"
   ]
  },
  {
   "cell_type": "code",
   "execution_count": 2,
   "metadata": {},
   "outputs": [
    {
     "data": {
      "text/html": [
       "<table>\n",
       "<thead><tr><th scope=col>x1</th><th scope=col>x2</th><th scope=col>x3</th><th scope=col>x4</th><th scope=col>y</th></tr></thead>\n",
       "<tbody>\n",
       "\t<tr><td>1991.496</td><td>1628.75 </td><td>1678.1  </td><td>1772.8  </td><td>2443.6  </td></tr>\n",
       "\t<tr><td>1991.504</td><td>1606.51 </td><td>1678.6  </td><td>1718.0  </td><td>2448.2  </td></tr>\n",
       "\t<tr><td>1991.512</td><td>1618.16 </td><td>1686.6  </td><td>1723.1  </td><td>2484.7  </td></tr>\n",
       "\t<tr><td>1991.519</td><td>1630.75 </td><td>1682.9  </td><td>1734.5  </td><td>2487.9  </td></tr>\n",
       "\t<tr><td>1991.527</td><td>1635.47 </td><td>1697.5  </td><td>1754.0  </td><td>2510.5  </td></tr>\n",
       "\t<tr><td>1991.535</td><td>1647.84 </td><td>1723.8  </td><td>1759.8  </td><td>2532.5  </td></tr>\n",
       "</tbody>\n",
       "</table>\n"
      ],
      "text/latex": [
       "\\begin{tabular}{r|lllll}\n",
       " x1 & x2 & x3 & x4 & y\\\\\n",
       "\\hline\n",
       "\t 1991.496 & 1628.75  & 1678.1   & 1772.8   & 2443.6  \\\\\n",
       "\t 1991.504 & 1606.51  & 1678.6   & 1718.0   & 2448.2  \\\\\n",
       "\t 1991.512 & 1618.16  & 1686.6   & 1723.1   & 2484.7  \\\\\n",
       "\t 1991.519 & 1630.75  & 1682.9   & 1734.5   & 2487.9  \\\\\n",
       "\t 1991.527 & 1635.47  & 1697.5   & 1754.0   & 2510.5  \\\\\n",
       "\t 1991.535 & 1647.84  & 1723.8   & 1759.8   & 2532.5  \\\\\n",
       "\\end{tabular}\n"
      ],
      "text/markdown": [
       "\n",
       "| x1 | x2 | x3 | x4 | y |\n",
       "|---|---|---|---|---|\n",
       "| 1991.496 | 1628.75  | 1678.1   | 1772.8   | 2443.6   |\n",
       "| 1991.504 | 1606.51  | 1678.6   | 1718.0   | 2448.2   |\n",
       "| 1991.512 | 1618.16  | 1686.6   | 1723.1   | 2484.7   |\n",
       "| 1991.519 | 1630.75  | 1682.9   | 1734.5   | 2487.9   |\n",
       "| 1991.527 | 1635.47  | 1697.5   | 1754.0   | 2510.5   |\n",
       "| 1991.535 | 1647.84  | 1723.8   | 1759.8   | 2532.5   |\n",
       "\n"
      ],
      "text/plain": [
       "  x1       x2      x3     x4     y     \n",
       "1 1991.496 1628.75 1678.1 1772.8 2443.6\n",
       "2 1991.504 1606.51 1678.6 1718.0 2448.2\n",
       "3 1991.512 1618.16 1686.6 1723.1 2484.7\n",
       "4 1991.519 1630.75 1682.9 1734.5 2487.9\n",
       "5 1991.527 1635.47 1697.5 1754.0 2510.5\n",
       "6 1991.535 1647.84 1723.8 1759.8 2532.5"
      ]
     },
     "metadata": {},
     "output_type": "display_data"
    },
    {
     "data": {
      "text/html": [
       "<table>\n",
       "<thead><tr><th scope=col>x1</th><th scope=col>x2</th><th scope=col>x3</th><th scope=col>x4</th><th scope=col>y</th></tr></thead>\n",
       "<tbody>\n",
       "\t<tr><td>1991.500</td><td>1613.63 </td><td>1688.5  </td><td>1750.5  </td><td>2460.2  </td></tr>\n",
       "\t<tr><td>1991.508</td><td>1621.04 </td><td>1684.1  </td><td>1708.1  </td><td>2470.4  </td></tr>\n",
       "\t<tr><td>1991.515</td><td>1610.61 </td><td>1671.6  </td><td>1714.3  </td><td>2466.8  </td></tr>\n",
       "\t<tr><td>1991.523</td><td>1640.17 </td><td>1703.6  </td><td>1757.4  </td><td>2508.4  </td></tr>\n",
       "\t<tr><td>1991.531</td><td>1645.89 </td><td>1716.3  </td><td>1754.3  </td><td>2497.4  </td></tr>\n",
       "\t<tr><td>1991.538</td><td>1638.35 </td><td>1730.5  </td><td>1755.5  </td><td>2556.8  </td></tr>\n",
       "</tbody>\n",
       "</table>\n"
      ],
      "text/latex": [
       "\\begin{tabular}{r|lllll}\n",
       " x1 & x2 & x3 & x4 & y\\\\\n",
       "\\hline\n",
       "\t 1991.500 & 1613.63  & 1688.5   & 1750.5   & 2460.2  \\\\\n",
       "\t 1991.508 & 1621.04  & 1684.1   & 1708.1   & 2470.4  \\\\\n",
       "\t 1991.515 & 1610.61  & 1671.6   & 1714.3   & 2466.8  \\\\\n",
       "\t 1991.523 & 1640.17  & 1703.6   & 1757.4   & 2508.4  \\\\\n",
       "\t 1991.531 & 1645.89  & 1716.3   & 1754.3   & 2497.4  \\\\\n",
       "\t 1991.538 & 1638.35  & 1730.5   & 1755.5   & 2556.8  \\\\\n",
       "\\end{tabular}\n"
      ],
      "text/markdown": [
       "\n",
       "| x1 | x2 | x3 | x4 | y |\n",
       "|---|---|---|---|---|\n",
       "| 1991.500 | 1613.63  | 1688.5   | 1750.5   | 2460.2   |\n",
       "| 1991.508 | 1621.04  | 1684.1   | 1708.1   | 2470.4   |\n",
       "| 1991.515 | 1610.61  | 1671.6   | 1714.3   | 2466.8   |\n",
       "| 1991.523 | 1640.17  | 1703.6   | 1757.4   | 2508.4   |\n",
       "| 1991.531 | 1645.89  | 1716.3   | 1754.3   | 2497.4   |\n",
       "| 1991.538 | 1638.35  | 1730.5   | 1755.5   | 2556.8   |\n",
       "\n"
      ],
      "text/plain": [
       "  x1       x2      x3     x4     y     \n",
       "1 1991.500 1613.63 1688.5 1750.5 2460.2\n",
       "2 1991.508 1621.04 1684.1 1708.1 2470.4\n",
       "3 1991.515 1610.61 1671.6 1714.3 2466.8\n",
       "4 1991.523 1640.17 1703.6 1757.4 2508.4\n",
       "5 1991.531 1645.89 1716.3 1754.3 2497.4\n",
       "6 1991.538 1638.35 1730.5 1755.5 2556.8"
      ]
     },
     "metadata": {},
     "output_type": "display_data"
    }
   ],
   "source": [
    "train_B = read.csv('Task1B_train.csv') \n",
    "test_B = read.csv('Task1B_test.csv')\n",
    "head(train_B)\n",
    "head(test_B)"
   ]
  },
  {
   "cell_type": "markdown",
   "metadata": {},
   "source": [
    "We will be passing the training predictors and training labels seperately to the knn. <br>\n",
    "The split is give below:"
   ]
  },
  {
   "cell_type": "code",
   "execution_count": 3,
   "metadata": {},
   "outputs": [
    {
     "data": {
      "text/html": [
       "<table>\n",
       "<thead><tr><th scope=col>x1</th><th scope=col>x2</th><th scope=col>x3</th><th scope=col>x4</th></tr></thead>\n",
       "<tbody>\n",
       "\t<tr><td>1991.496</td><td>1628.75 </td><td>1678.1  </td><td>1772.8  </td></tr>\n",
       "\t<tr><td>1991.504</td><td>1606.51 </td><td>1678.6  </td><td>1718.0  </td></tr>\n",
       "</tbody>\n",
       "</table>\n"
      ],
      "text/latex": [
       "\\begin{tabular}{r|llll}\n",
       " x1 & x2 & x3 & x4\\\\\n",
       "\\hline\n",
       "\t 1991.496 & 1628.75  & 1678.1   & 1772.8  \\\\\n",
       "\t 1991.504 & 1606.51  & 1678.6   & 1718.0  \\\\\n",
       "\\end{tabular}\n"
      ],
      "text/markdown": [
       "\n",
       "| x1 | x2 | x3 | x4 |\n",
       "|---|---|---|---|\n",
       "| 1991.496 | 1628.75  | 1678.1   | 1772.8   |\n",
       "| 1991.504 | 1606.51  | 1678.6   | 1718.0   |\n",
       "\n"
      ],
      "text/plain": [
       "  x1       x2      x3     x4    \n",
       "1 1991.496 1628.75 1678.1 1772.8\n",
       "2 1991.504 1606.51 1678.6 1718.0"
      ]
     },
     "metadata": {},
     "output_type": "display_data"
    }
   ],
   "source": [
    "train.data = train_B[,-5]\n",
    "head(train.data,2)"
   ]
  },
  {
   "cell_type": "code",
   "execution_count": 4,
   "metadata": {},
   "outputs": [
    {
     "data": {
      "text/html": [
       "<ol class=list-inline>\n",
       "\t<li>2443.6</li>\n",
       "\t<li>2448.2</li>\n",
       "\t<li>2484.7</li>\n",
       "\t<li>2487.9</li>\n",
       "\t<li>2510.5</li>\n",
       "\t<li>2532.5</li>\n",
       "</ol>\n"
      ],
      "text/latex": [
       "\\begin{enumerate*}\n",
       "\\item 2443.6\n",
       "\\item 2448.2\n",
       "\\item 2484.7\n",
       "\\item 2487.9\n",
       "\\item 2510.5\n",
       "\\item 2532.5\n",
       "\\end{enumerate*}\n"
      ],
      "text/markdown": [
       "1. 2443.6\n",
       "2. 2448.2\n",
       "3. 2484.7\n",
       "4. 2487.9\n",
       "5. 2510.5\n",
       "6. 2532.5\n",
       "\n",
       "\n"
      ],
      "text/plain": [
       "[1] 2443.6 2448.2 2484.7 2487.9 2510.5 2532.5"
      ]
     },
     "metadata": {},
     "output_type": "display_data"
    }
   ],
   "source": [
    "train.label = train_B[,5]\n",
    "head(train.label)"
   ]
  },
  {
   "cell_type": "code",
   "execution_count": 5,
   "metadata": {},
   "outputs": [
    {
     "data": {
      "text/html": [
       "<table>\n",
       "<thead><tr><th scope=col>x1</th><th scope=col>x2</th><th scope=col>x3</th><th scope=col>x4</th></tr></thead>\n",
       "<tbody>\n",
       "\t<tr><td>1991.500</td><td>1613.63 </td><td>1688.5  </td><td>1750.5  </td></tr>\n",
       "\t<tr><td>1991.508</td><td>1621.04 </td><td>1684.1  </td><td>1708.1  </td></tr>\n",
       "</tbody>\n",
       "</table>\n"
      ],
      "text/latex": [
       "\\begin{tabular}{r|llll}\n",
       " x1 & x2 & x3 & x4\\\\\n",
       "\\hline\n",
       "\t 1991.500 & 1613.63  & 1688.5   & 1750.5  \\\\\n",
       "\t 1991.508 & 1621.04  & 1684.1   & 1708.1  \\\\\n",
       "\\end{tabular}\n"
      ],
      "text/markdown": [
       "\n",
       "| x1 | x2 | x3 | x4 |\n",
       "|---|---|---|---|\n",
       "| 1991.500 | 1613.63  | 1688.5   | 1750.5   |\n",
       "| 1991.508 | 1621.04  | 1684.1   | 1708.1   |\n",
       "\n"
      ],
      "text/plain": [
       "  x1       x2      x3     x4    \n",
       "1 1991.500 1613.63 1688.5 1750.5\n",
       "2 1991.508 1621.04 1684.1 1708.1"
      ]
     },
     "metadata": {},
     "output_type": "display_data"
    }
   ],
   "source": [
    "test.data = test_B[,-5]\n",
    "head(test.data,2)"
   ]
  },
  {
   "cell_type": "code",
   "execution_count": 6,
   "metadata": {},
   "outputs": [
    {
     "data": {
      "text/html": [
       "<ol class=list-inline>\n",
       "\t<li>2460.2</li>\n",
       "\t<li>2470.4</li>\n",
       "\t<li>2466.8</li>\n",
       "\t<li>2508.4</li>\n",
       "\t<li>2497.4</li>\n",
       "\t<li>2556.8</li>\n",
       "</ol>\n"
      ],
      "text/latex": [
       "\\begin{enumerate*}\n",
       "\\item 2460.2\n",
       "\\item 2470.4\n",
       "\\item 2466.8\n",
       "\\item 2508.4\n",
       "\\item 2497.4\n",
       "\\item 2556.8\n",
       "\\end{enumerate*}\n"
      ],
      "text/markdown": [
       "1. 2460.2\n",
       "2. 2470.4\n",
       "3. 2466.8\n",
       "4. 2508.4\n",
       "5. 2497.4\n",
       "6. 2556.8\n",
       "\n",
       "\n"
      ],
      "text/plain": [
       "[1] 2460.2 2470.4 2466.8 2508.4 2497.4 2556.8"
      ]
     },
     "metadata": {},
     "output_type": "display_data"
    }
   ],
   "source": [
    "test.label = test_B[,5]\n",
    "head(test.label)"
   ]
  },
  {
   "cell_type": "code",
   "execution_count": 7,
   "metadata": {},
   "outputs": [],
   "source": [
    "# KNN function\n",
    "knn_2 <- function(train.data, train.label, test.data, K){\n",
    "    ## count number of train samples\n",
    "    train.len <- nrow(train.data)\n",
    "    \n",
    "    ## count number of test samples\n",
    "    test.len <- nrow(test.data)\n",
    "    ## calculate distances between samples\n",
    "    dist <- as.matrix(dist(rbind(test.data, train.data), method= 'manhattan'))[1:test.len, (test.len+1):(test.len+train.len),drop=FALSE]\n",
    "    prediction_df = c()\n",
    "    \n",
    "    ## for each test sample\n",
    "    for (i in 1:test.len){\n",
    "        ### find its K nearest neighbours from training sampels\n",
    "        nn <- as.data.frame(sort(dist[i,], index.return = TRUE))[1:K,2]\n",
    "        average = sum(train.label[nn])/K\n",
    "        prediction_df[i] <- average\n",
    "    }\n",
    "    \n",
    "    ## return the class labels as output\n",
    "    return (prediction_df)\n",
    "}"
   ]
  },
  {
   "cell_type": "markdown",
   "metadata": {},
   "source": [
    "**Boot function** will generate n samples of given size. The below boot function will return index values that will correspond to the size of our input data"
   ]
  },
  {
   "cell_type": "code",
   "execution_count": 1,
   "metadata": {},
   "outputs": [],
   "source": [
    "# define a function that generates sample indixes based on bootstrap technique\n",
    "boot <- function (original.size=100, sample.size=original.size, times=100){\n",
    "    indx <- matrix(nrow=times, ncol=sample.size)\n",
    "    for (t in 1:times){\n",
    "        indx[t, ] <- sample(x=original.size, size=sample.size, replace = TRUE)\n",
    "    }\n",
    "    return(indx)\n",
    "}"
   ]
  },
  {
   "cell_type": "code",
   "execution_count": 9,
   "metadata": {},
   "outputs": [],
   "source": [
    "# boot(nrow(train.data), 20, 50)"
   ]
  },
  {
   "cell_type": "markdown",
   "metadata": {},
   "source": [
    "Now let us implement Bootstrapping with K=15,L=40,N=50 on our knn regression model"
   ]
  },
  {
   "cell_type": "code",
   "execution_count": 8,
   "metadata": {},
   "outputs": [
    {
     "data": {
      "text/html": [
       "<table>\n",
       "<thead><tr><th scope=col>K</th><th scope=col>L</th><th scope=col>error</th></tr></thead>\n",
       "<tbody>\n",
       "\t<tr><td>1       </td><td>1       </td><td>27517.24</td></tr>\n",
       "\t<tr><td>1       </td><td>2       </td><td>33567.92</td></tr>\n",
       "\t<tr><td>1       </td><td>3       </td><td>20658.66</td></tr>\n",
       "\t<tr><td>1       </td><td>4       </td><td>23960.29</td></tr>\n",
       "\t<tr><td>1       </td><td>5       </td><td>39627.36</td></tr>\n",
       "\t<tr><td>1       </td><td>6       </td><td>26661.87</td></tr>\n",
       "</tbody>\n",
       "</table>\n"
      ],
      "text/latex": [
       "\\begin{tabular}{r|lll}\n",
       " K & L & error\\\\\n",
       "\\hline\n",
       "\t 1        & 1        & 27517.24\\\\\n",
       "\t 1        & 2        & 33567.92\\\\\n",
       "\t 1        & 3        & 20658.66\\\\\n",
       "\t 1        & 4        & 23960.29\\\\\n",
       "\t 1        & 5        & 39627.36\\\\\n",
       "\t 1        & 6        & 26661.87\\\\\n",
       "\\end{tabular}\n"
      ],
      "text/markdown": [
       "\n",
       "| K | L | error |\n",
       "|---|---|---|\n",
       "| 1        | 1        | 27517.24 |\n",
       "| 1        | 2        | 33567.92 |\n",
       "| 1        | 3        | 20658.66 |\n",
       "| 1        | 4        | 23960.29 |\n",
       "| 1        | 5        | 39627.36 |\n",
       "| 1        | 6        | 26661.87 |\n",
       "\n"
      ],
      "text/plain": [
       "  K L error   \n",
       "1 1 1 27517.24\n",
       "2 1 2 33567.92\n",
       "3 1 3 20658.66\n",
       "4 1 4 23960.29\n",
       "5 1 5 39627.36\n",
       "6 1 6 26661.87"
      ]
     },
     "metadata": {},
     "output_type": "display_data"
    }
   ],
   "source": [
    "# We have fix the parameters (K=15,L=40,N=50)\n",
    "K <- 15           # Maximum K for KNN \n",
    "L <- 50           # number of datasets\n",
    "N <- 20          # size of datasets\n",
    "\n",
    "# generate bootstrap indices from above boot function\n",
    "boot.indx <- boot(nrow(train.data), N, L)\n",
    "\n",
    "# a dataframe to track the erros for all samples in each case\n",
    "sample_errors <- data.frame('K'=1:K, 'L'=1:L, 'error'=rep(0,L*K))\n",
    "\n",
    "## for every k values:\n",
    "for (k in 1: K){\n",
    "    \n",
    "    ### for every dataset sizes:\n",
    "    for (l in 1:L){\n",
    "        \n",
    "        #### calculate iteration index i\n",
    "        i <- (k-1)*L+l\n",
    "        \n",
    "        #### save sample indices that were selected by bootstrap\n",
    "        indx <- boot.indx[l,]\n",
    "        \n",
    "        #### save the value of k and l in our dataframe\n",
    "        sample_errors[i,'K'] <- k\n",
    "        sample_errors[i,'L'] <- l\n",
    "        \n",
    "        #### calculate and record the test errors\n",
    "        predictions = knn_2(train.data[indx, ], train.label[indx], test.data, K=k)\n",
    "        test_error_k = mean((test.label - predictions) ^ 2)\n",
    "    \n",
    "        sample_errors[i,'error'] <-  test_error_k\n",
    "    } \n",
    "}\n",
    "head(sample_errors)"
   ]
  },
  {
   "cell_type": "code",
   "execution_count": 9,
   "metadata": {},
   "outputs": [
    {
     "name": "stderr",
     "output_type": "stream",
     "text": [
      "Warning message:\n",
      "\"package 'reshape2' was built under R version 3.6.3\""
     ]
    },
    {
     "data": {
      "text/html": [
       "<table>\n",
       "<thead><tr><th scope=col>K</th><th scope=col>L</th><th scope=col>type</th><th scope=col>value</th></tr></thead>\n",
       "<tbody>\n",
       "\t<tr><td>1       </td><td>1       </td><td>error   </td><td>27517.24</td></tr>\n",
       "\t<tr><td>1       </td><td>2       </td><td>error   </td><td>33567.92</td></tr>\n",
       "\t<tr><td>1       </td><td>3       </td><td>error   </td><td>20658.66</td></tr>\n",
       "\t<tr><td>1       </td><td>4       </td><td>error   </td><td>23960.29</td></tr>\n",
       "\t<tr><td>1       </td><td>5       </td><td>error   </td><td>39627.36</td></tr>\n",
       "\t<tr><td>1       </td><td>6       </td><td>error   </td><td>26661.87</td></tr>\n",
       "</tbody>\n",
       "</table>\n"
      ],
      "text/latex": [
       "\\begin{tabular}{r|llll}\n",
       " K & L & type & value\\\\\n",
       "\\hline\n",
       "\t 1        & 1        & error    & 27517.24\\\\\n",
       "\t 1        & 2        & error    & 33567.92\\\\\n",
       "\t 1        & 3        & error    & 20658.66\\\\\n",
       "\t 1        & 4        & error    & 23960.29\\\\\n",
       "\t 1        & 5        & error    & 39627.36\\\\\n",
       "\t 1        & 6        & error    & 26661.87\\\\\n",
       "\\end{tabular}\n"
      ],
      "text/markdown": [
       "\n",
       "| K | L | type | value |\n",
       "|---|---|---|---|\n",
       "| 1        | 1        | error    | 27517.24 |\n",
       "| 1        | 2        | error    | 33567.92 |\n",
       "| 1        | 3        | error    | 20658.66 |\n",
       "| 1        | 4        | error    | 23960.29 |\n",
       "| 1        | 5        | error    | 39627.36 |\n",
       "| 1        | 6        | error    | 26661.87 |\n",
       "\n"
      ],
      "text/plain": [
       "  K L type  value   \n",
       "1 1 1 error 27517.24\n",
       "2 1 2 error 33567.92\n",
       "3 1 3 error 20658.66\n",
       "4 1 4 error 23960.29\n",
       "5 1 5 error 39627.36\n",
       "6 1 6 error 26661.87"
      ]
     },
     "metadata": {},
     "output_type": "display_data"
    }
   ],
   "source": [
    "# plot error for train and test data sets\n",
    "library (reshape2)\n",
    "\n",
    "sample_errors_melt <- melt(sample_errors, id=c('K', 'L')) # reshape for visualization\n",
    "\n",
    "names(sample_errors_melt) <- c('K', 'L', 'type', 'value')\n",
    "\n",
    "head(sample_errors_melt)"
   ]
  },
  {
   "cell_type": "code",
   "execution_count": 10,
   "metadata": {},
   "outputs": [
    {
     "name": "stderr",
     "output_type": "stream",
     "text": [
      "Warning message:\n",
      "\"package 'ggplot2' was built under R version 3.6.3\""
     ]
    },
    {
     "data": {
      "image/png": "[encoded data removed]",
      "text/plain": [
       "plot without title"
      ]
     },
     "metadata": {},
     "output_type": "display_data"
    }
   ],
   "source": [
    "library (ggplot2)\n",
    "\n",
    "ggplot(data=sample_errors_melt[sample_errors_melt$type=='error',], aes(factor(K), value,fill=type)) + geom_boxplot(outlier.shape = NA)  + \n",
    "    scale_color_discrete(guide = guide_legend(title = NULL)) + \n",
    "    ggtitle('Mean Error vs. K (Box Plot)') + theme_minimal()\n",
    "\n",
    "# ignore the warnings (because of ignoring outliers)\n",
    "options(warn=-1)"
   ]
  },
  {
   "cell_type": "markdown",
   "metadata": {},
   "source": [
    "3. Based on the plot in the previous part, how does the test error and its uncertainty behave as K increases? <br>\n",
    "\n",
    "**Observations** <br>\n",
    "\n",
    "* With increase in k i.e number of neighbours, the mean error value considering 50 samples of size 20 shows an increase.\n",
    "* For lower values of k, the distribution of errors for all samples is right skewed. With each increased value of k, the distribution of errors for all samples starts to tend towards left skewness.\n",
    "* The median of the distribution also tends to be on higher side for higher values of k.\n",
    "* For lower values of k, the errors respective to different number of samples seem to be similar and close in terms of value.While for higher values of k, the errors respective to different number of samples are dissimilar, and on higher side."
   ]
  },
  {
   "cell_type": "markdown",
   "metadata": {},
   "source": [
    "4. Load Task1B_train.csv and Task1B_test.csv sets. Apply your\n",
    "bootstrapping for KNN regression with K= 5(the neighbourhood size),\n",
    "times = 50 (the number of subsets), and change sizes = 5, 10, 15,..., 75 (the\n",
    "size of each subset). Now create a boxplot where the x-axis is ‘sizes’ and the\n",
    "y-axis is the average error (and the uncertainty around it) corresponding\n",
    "to each value of ‘times’. Save the plot in your Jupyter Notebook file for\n",
    "Question 3.\n"
   ]
  },
  {
   "cell_type": "markdown",
   "metadata": {},
   "source": [
    "Let us implement Bootstrapping with K=5,L=1:50,N=5,10,15,..,75 on our knn regression model."
   ]
  },
  {
   "cell_type": "code",
   "execution_count": 11,
   "metadata": {},
   "outputs": [],
   "source": [
    "# fix the parameters (K = 5,L = 50)\n",
    "K <- 5           # Maximum K for KNN \n",
    "L <- 50           # number of datasets\n",
    "N = seq(5,75,5)  # size of datasets\n",
    "\n",
    "error_df <- data.frame('L'=1:L,'N'=rep(0,L*length(N)),'error'=rep(0,L*length(N)))\n",
    "i = 1\n",
    "for (n in N) {\n",
    "    # generate bootstrap indices:\n",
    "    boot.indx <- boot(nrow(train.data), n, L)\n",
    "\n",
    "    for (l in 1:L){\n",
    "        indx <- boot.indx[l,]\n",
    "        \n",
    "        predictions = knn_2(train.data[indx, ], train.label[indx], test.data, K=K)\n",
    "        test_error_k = mean((test.label - predictions) ^ 2)\n",
    "        \n",
    "        error_df[i,'N'] = n\n",
    "        error_df[i,'L'] = l\n",
    "        error_df[i,'error'] = test_error_k\n",
    "        i = i+1\n",
    "\n",
    "        } \n",
    "    }"
   ]
  },
  {
   "cell_type": "code",
   "execution_count": 12,
   "metadata": {},
   "outputs": [
    {
     "data": {
      "text/html": [
       "<table>\n",
       "<thead><tr><th scope=col>L</th><th scope=col>N</th><th scope=col>error</th></tr></thead>\n",
       "<tbody>\n",
       "\t<tr><td>1        </td><td>5        </td><td>1558863.5</td></tr>\n",
       "\t<tr><td>2        </td><td>5        </td><td>1820159.0</td></tr>\n",
       "\t<tr><td>3        </td><td>5        </td><td> 963365.1</td></tr>\n",
       "\t<tr><td>4        </td><td>5        </td><td>1750138.2</td></tr>\n",
       "\t<tr><td>5        </td><td>5        </td><td>1076542.4</td></tr>\n",
       "\t<tr><td>6        </td><td>5        </td><td>1130031.4</td></tr>\n",
       "</tbody>\n",
       "</table>\n"
      ],
      "text/latex": [
       "\\begin{tabular}{r|lll}\n",
       " L & N & error\\\\\n",
       "\\hline\n",
       "\t 1         & 5         & 1558863.5\\\\\n",
       "\t 2         & 5         & 1820159.0\\\\\n",
       "\t 3         & 5         &  963365.1\\\\\n",
       "\t 4         & 5         & 1750138.2\\\\\n",
       "\t 5         & 5         & 1076542.4\\\\\n",
       "\t 6         & 5         & 1130031.4\\\\\n",
       "\\end{tabular}\n"
      ],
      "text/markdown": [
       "\n",
       "| L | N | error |\n",
       "|---|---|---|\n",
       "| 1         | 5         | 1558863.5 |\n",
       "| 2         | 5         | 1820159.0 |\n",
       "| 3         | 5         |  963365.1 |\n",
       "| 4         | 5         | 1750138.2 |\n",
       "| 5         | 5         | 1076542.4 |\n",
       "| 6         | 5         | 1130031.4 |\n",
       "\n"
      ],
      "text/plain": [
       "  L N error    \n",
       "1 1 5 1558863.5\n",
       "2 2 5 1820159.0\n",
       "3 3 5  963365.1\n",
       "4 4 5 1750138.2\n",
       "5 5 5 1076542.4\n",
       "6 6 5 1130031.4"
      ]
     },
     "metadata": {},
     "output_type": "display_data"
    }
   ],
   "source": [
    "head(error_df)"
   ]
  },
  {
   "cell_type": "code",
   "execution_count": 13,
   "metadata": {},
   "outputs": [
    {
     "data": {
      "text/html": [
       "<table>\n",
       "<thead><tr><th scope=col>N</th><th scope=col>L</th><th scope=col>type</th><th scope=col>value</th></tr></thead>\n",
       "<tbody>\n",
       "\t<tr><td>5        </td><td>1        </td><td>error    </td><td>1558863.5</td></tr>\n",
       "\t<tr><td>5        </td><td>2        </td><td>error    </td><td>1820159.0</td></tr>\n",
       "\t<tr><td>5        </td><td>3        </td><td>error    </td><td> 963365.1</td></tr>\n",
       "\t<tr><td>5        </td><td>4        </td><td>error    </td><td>1750138.2</td></tr>\n",
       "\t<tr><td>5        </td><td>5        </td><td>error    </td><td>1076542.4</td></tr>\n",
       "\t<tr><td>5        </td><td>6        </td><td>error    </td><td>1130031.4</td></tr>\n",
       "</tbody>\n",
       "</table>\n"
      ],
      "text/latex": [
       "\\begin{tabular}{r|llll}\n",
       " N & L & type & value\\\\\n",
       "\\hline\n",
       "\t 5         & 1         & error     & 1558863.5\\\\\n",
       "\t 5         & 2         & error     & 1820159.0\\\\\n",
       "\t 5         & 3         & error     &  963365.1\\\\\n",
       "\t 5         & 4         & error     & 1750138.2\\\\\n",
       "\t 5         & 5         & error     & 1076542.4\\\\\n",
       "\t 5         & 6         & error     & 1130031.4\\\\\n",
       "\\end{tabular}\n"
      ],
      "text/markdown": [
       "\n",
       "| N | L | type | value |\n",
       "|---|---|---|---|\n",
       "| 5         | 1         | error     | 1558863.5 |\n",
       "| 5         | 2         | error     | 1820159.0 |\n",
       "| 5         | 3         | error     |  963365.1 |\n",
       "| 5         | 4         | error     | 1750138.2 |\n",
       "| 5         | 5         | error     | 1076542.4 |\n",
       "| 5         | 6         | error     | 1130031.4 |\n",
       "\n"
      ],
      "text/plain": [
       "  N L type  value    \n",
       "1 5 1 error 1558863.5\n",
       "2 5 2 error 1820159.0\n",
       "3 5 3 error  963365.1\n",
       "4 5 4 error 1750138.2\n",
       "5 5 5 error 1076542.4\n",
       "6 5 6 error 1130031.4"
      ]
     },
     "metadata": {},
     "output_type": "display_data"
    }
   ],
   "source": [
    "# reshaping data \n",
    "library (reshape2)\n",
    "error_df_new <- error_df\n",
    "\n",
    "error_df_new_melt <- melt(error_df_new, id=c('N','L')) # reshape for visualization\n",
    "\n",
    "names(error_df_new_melt) <- c('N','L','type', 'value')\n",
    "\n",
    "head(error_df_new_melt)"
   ]
  },
  {
   "cell_type": "code",
   "execution_count": 14,
   "metadata": {},
   "outputs": [
    {
     "data": {
      "image/png": "[encoded data removed]",
      "text/plain": [
       "plot without title"
      ]
     },
     "metadata": {},
     "output_type": "display_data"
    }
   ],
   "source": [
    "# plot error for train and test data sets\n",
    "ggplot(data=error_df_new_melt[error_df_new_melt$type=='error',], aes(factor(N), value,fill=type)) + geom_boxplot(outlier.shape = NA)  + \n",
    "    scale_color_discrete(guide = guide_legend(title = NULL)) + \n",
    "    ggtitle('Error vs. N (Box Plot)') + theme_minimal()\n",
    "\n",
    "# ignore the warnings (because of ignoring outliers)\n",
    "options(warn=-1)"
   ]
  },
  {
   "cell_type": "markdown",
   "metadata": {},
   "source": [
    "5. Based on the plot in the previous part (Part 4), how does the test error and\n",
    "its uncertainty behave as the size of each subset in bootstrapping\n",
    "increases? Explain in your Jupyter Notebook file. <br>\n",
    "\n",
    "Here we are considering 1-50 subsets from our data and change size of each subset (N). K-value is kept constant at 5.Each Boxplot shows distribution of errors for number of subsets ranging from 1 to 50 vs size of each sample (ranging from 5 to 75).<br>\n",
    "\n",
    "**Observations**  <br>\n",
    "\n",
    "*  For lower sample size values the distribution of errors is right skewed. Distribution becomes somewhat normal with sample size between 20-25.\n",
    "* For sample size above 25, the distribution of errors becomes left skewed.\n",
    "* Errors for lower sample size values are on higher side and highly varied, while with incresed sample size values the errors decrease and show much less variance"
   ]
  }
 ],
 "metadata": {
  "kernelspec": {
   "display_name": "R",
   "language": "R",
   "name": "ir"
  },
  "language_info": {
   "codemirror_mode": "r",
   "file_extension": ".r",
   "mimetype": "text/x-r-source",
   "name": "R",
   "pygments_lexer": "r",
   "version": "3.6.1"
  }
 },
 "nbformat": 4,
 "nbformat_minor": 4
}
