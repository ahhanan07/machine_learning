{
 "cells": [
  {
   "cell_type": "markdown",
   "metadata": {},
   "source": [
    "## Section C. Probabilistic Machine Learning"
   ]
  },
  {
   "cell_type": "markdown",
   "metadata": {},
   "source": [
    "### Question 4 [Bayes Rule]"
   ]
  },
  {
   "cell_type": "markdown",
   "metadata": {},
   "source": [
    "Suppose we have one\n",
    "red, one blue, and one yellow box. In the red box we have 3 apples and 5 oranges,\n",
    "in the blue box we have 4 apples and 4 orange, and in the yellow box we have 3\n",
    "apples and 1 orange. Now suppose we randomly selected one of the boxes and\n",
    "picked a fruit. If the picked fruit is an apple, what is the probability that it was\n",
    "picked from the yellow box?\n",
    "Note that the chances of picking the red, blue, and yellow boxes are 50%, 30%, and\n",
    "20% respectively and the selection chance for any of the pieces from a box is equal\n",
    "for all the pieces in that box. "
   ]
  },
  {
   "cell_type": "markdown",
   "metadata": {},
   "source": [
    "### Given -\n",
    "\n",
    "RED box has -  3 apples and 5 oranges\n",
    "\n",
    "BLUE box has - 4 apples and 4 oranges\n",
    "\n",
    "YELLOW box has - 3 apples and 1 orange\n",
    "\n",
    "Probability of selecting a red box = 0.5\n",
    "\n",
    "Probability of selecting a blue box = 0.3\n",
    "\n",
    "Probability of selecting a yellow box = 0.2\n",
    "\n",
    "We pick one fruit at Random and find it to an Apple<br>\n",
    "\n",
    "We need to find the probability it was picked from the yellow box given that the picked fruit was an apple.\n",
    "\n",
    "\n",
    "Using Bayes Formula : <br>\n",
    "\n",
    "\\begin{equation}\n",
    " \\Pr(Yellow|Apple)=\\frac{\\Pr(Apple|Yellow)\\Pr(Yellow)}{\\Pr(Apple)}\n",
    "\\end{equation}\n",
    "\n",
    "\\begin{equation}\n",
    " \\Pr(Apple)={\\Pr(Apple|Yellow)\\Pr(Yellow)+\\Pr(Apple|Blue)\\Pr(Blue)+\\Pr(Apple|Red)\\Pr(Red)}\n",
    "\\end{equation}\n",
    "\n",
    "\n",
    "\n",
    "\n",
    "\n",
    "\n",
    "\n",
    "\\begin{equation}\n",
    " \\Pr(Apple)={(0.2) * (0.75)+(0.3) * (0.5) + (0.5) * (0.375)}\n",
    "\\end{equation}\n",
    "\n",
    "\n",
    "\\begin{equation}\n",
    " \\Pr(Yellow|Apple)=\\frac{(0.2) * (0.75)}{(0.2) * (0.75)+(0.3) * (0.5) + (0.5) * (0.375)}\n",
    "\\end{equation}\n",
    "\n",
    "\n",
    "\n",
    "\\begin{equation}\n",
    " \\Pr(Yellow|Apple)=\\frac{(0.15)}{(0.4875)}\n",
    "\\end{equation}\n",
    "\n",
    "\\begin{equation}\n",
    "  \\Pr(Yellow|Apple)\n",
    "  = 30.7\\%\n",
    "\\end{equation}\n",
    "\n",
    "\n",
    "### The probability that the box is Yellow given the picked fruit is apple  is 0.30769"
   ]
  }
 ],
 "metadata": {
  "kernelspec": {
   "display_name": "R",
   "language": "R",
   "name": "ir"
  },
  "language_info": {
   "codemirror_mode": "r",
   "file_extension": ".r",
   "mimetype": "text/x-r-source",
   "name": "R",
   "pygments_lexer": "r",
   "version": "3.6.1"
  }
 },
 "nbformat": 4,
 "nbformat_minor": 4
}
